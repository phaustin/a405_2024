{
 "cells": [
  {
   "cell_type": "markdown",
   "id": "0a9119c4",
   "metadata": {},
   "source": [
    "(assignment9_solution)=\n",
    "# Assignment 9 -- solution"
   ]
  },
  {
   "cell_type": "markdown",
   "id": "21626ce4-4b7c-4d63-94de-fb9828c65c0f",
   "metadata": {},
   "source": [
    "## Wallace and Hobbs problems 6.21 and 6.24\n",
    "\n",
    "6.21: Derive an expression for the height h above\n",
    "cloud base of a droplet at time t that is\n",
    "growing by condensation only in a cloud with\n",
    "a steady updraft velocity w and\n",
    "supersaturation S. [Hint: Use (6.24) for the\n",
    "terminal fall speed of a droplet together\n",
    "with (6.21).]"
   ]
  },
  {
   "cell_type": "code",
   "execution_count": null,
   "id": "2ac072d3-f90e-4eba-8d0d-cf9a9a0e8f2e",
   "metadata": {},
   "outputs": [],
   "source": []
  },
  {
   "cell_type": "markdown",
   "id": "9c4a37cb-c5f8-4c3a-83cc-986f1c29d2a8",
   "metadata": {},
   "source": [
    "6.24: If a raindrop has a radius of 1 mm at cloud\n",
    "base, which is located 5 km above the ground,\n",
    "what will be its radius at the ground and\n",
    "how long will it take to reach the ground if\n",
    "the relative humidity between cloud base\n",
    "and ground is constant at 60%? [Hint: Use\n",
    "(6.21) and the relationship between v and r\n",
    "given in Exercise 6.23. If r is in micrometers,\n",
    "the value of Gl in (6.21) is 100 for cloud\n",
    "droplets, but for the large drop sizes\n",
    "considered in this problem the value of Gl\n",
    "should be taken as 700 to allow for\n",
    "ventilation effects.]"
   ]
  },
  {
   "cell_type": "markdown",
   "id": "a75a33e6",
   "metadata": {},
   "source": [
    "Solve these problems twice:\n",
    "\n",
    "\n",
    "1. Derive the analytic expression by integrating the equation\n",
    "\n",
    "   $$\n",
    "   \\frac{dh}{dt} = w - v\n",
    "   $$\n",
    "   where h is the height, w is the updraft speed and v is the droplet fall speed\n",
    "\n",
    "2. For each problem, show  in cells below that this agrees with the numerical solution using the scipy odeint package"
   ]
  },
  {
   "cell_type": "code",
   "execution_count": null,
   "id": "fced4628",
   "metadata": {},
   "outputs": [],
   "source": []
  }
 ],
 "metadata": {
  "jupytext": {
   "formats": "ipynb,md:myst"
  },
  "kernelspec": {
   "display_name": "Python 3 (ipykernel)",
   "language": "python",
   "name": "python3"
  },
  "language_info": {
   "codemirror_mode": {
    "name": "ipython",
    "version": 3
   },
   "file_extension": ".py",
   "mimetype": "text/x-python",
   "name": "python",
   "nbconvert_exporter": "python",
   "pygments_lexer": "ipython3",
   "version": "3.11.7"
  }
 },
 "nbformat": 4,
 "nbformat_minor": 5
}
