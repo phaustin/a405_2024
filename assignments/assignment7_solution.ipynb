{
 "cells": [
  {
   "cell_type": "markdown",
   "id": "5f736128-8e46-444d-91bc-af5b526ad52f",
   "metadata": {},
   "source": [
    "# Assignment 7 solution"
   ]
  },
  {
   "cell_type": "markdown",
   "id": "90a9187e-c305-4daf-8393-ac6e084cae78",
   "metadata": {},
   "source": [
    "## Question 1"
   ]
  },
  {
   "cell_type": "markdown",
   "id": "931e7abe-2284-4fd4-a98a-465cd014d9c1",
   "metadata": {},
   "source": [
    "1. Assuming that cloud condensation nuclei (CCN) are removed from the atmosphere by first serving as the centers on which cloud droplets form, and the droplets subsequently grow to form precipitation particles, estimate the residence time of a CCN in a column extending from the surface of the Earth to an altitude of 5 km. Assume that the annual rainfall is 100 cm/year and the cloud liquid water content is 0.30 $g/kg$ .  *Hint:  Assume that all drops in the cloud droplets have  a radii of 10 microns and that every droplet contains exactly 1 CCN.   How many CCN are in 1 kg of air?  About how many kg of air are there in a 5 km column?  About how many CCN are taken out by a rain rate of 1 m/year?  Find the time constant for removal of the form  1/N dN/dt = 1/tau*"
   ]
  },
  {
   "cell_type": "markdown",
   "id": "fbc43503-7102-4e46-ad27-906853306b56",
   "metadata": {},
   "source": [
    "### Question 1 answer"
   ]
  },
  {
   "cell_type": "markdown",
   "id": "afd7975f-e73d-4c70-bb67-119c9b678e98",
   "metadata": {},
   "source": [
    "First find $n$, the number of aersols/volume \n",
    "by assuming that the mean droplet size is \n",
    "$\\overline{r}=10\\ \\mu m$  and\n",
    "that there is one aerosol in each droplet.\n",
    "\n",
    "$$\n",
    "  w_l = 0.3\\ \\ g\\,m^{-3} = \\frac{4}{3}\\pi \\rho_l N\\overline{ r}^3  \n",
    "$$\n",
    "which gives $n=72\\ \\ cm^{-3} = 72\\ \\times 10^6\\ \\ {kg^{-1}}$ if $\\rho_{air} \\approx 1\\ \\ kg\\,m^{-3} $"
   ]
  },
  {
   "cell_type": "markdown",
   "id": "0f3c26fc-4b5c-46e2-b1d3-567e0ed9435f",
   "metadata": {},
   "source": [
    "If the column is well mixed, then $n=constant$ between the surface\n",
    "and 5 km $\\approx$ 500 hPa.   Integrate\n",
    "the hydrostatic equation between those levels to find the mass of dry air:\n",
    "\n",
    "$$\n",
    "M=  \\int_0^{5000} \\rho dz = \\frac{1 }{g} \\int_{50000}^{100000} dp \\nonumber \\\\\n",
    "= \\frac{ 1}{10} 5 \\times 10^4 = 5000\\ kg\\,m^{-2}\n",
    "$$\n",
    "So to get the total CCN in a column multiply $M \\times n$ =\n",
    "$N=3.6 \\times 10^{11}$ CCN in a $1 \\ m^{2}$ column."
   ]
  },
  {
   "cell_type": "markdown",
   "id": "bb6df6a3-49e3-44a3-9234-9a3c600aef20",
   "metadata": {},
   "source": [
    "Now what about $dN/dt$?  If the rainfall is 1 m/year\n",
    "= 1000 $kg\\,m^{-2}\\,yr^{-1}$ and $\\overline{ r}=10\\ \\mu m$\n",
    "then the mass of an average drop is \n",
    "\n",
    "$$\n",
    "\\frac{ 4}{3}\\pi \\rho_l N\\overline{ r}^3\n",
    "$$\n",
    "and the drops removed in a year is:\n",
    "\n",
    "$$\n",
    "  \\frac{1000 \\ kg\\,m^{-2}\\,yr^{-1} }{\\frac{ 4}{3}\\pi \\rho_l N (10^{-5})^3} = 2.39 \\times 10^{14}\\ drops/year\n",
    "$$\n",
    "\n",
    "So put these together:\n",
    "\n",
    "$$\n",
    "  \\tau = \\frac{N}{dN/dt} = \\frac{ 3.6 \\times 10 11}{ 2.39 \\times 10^{14}} \n",
    "= 0.0015\\ years = 0.55\\ days\n",
    "$$"
   ]
  },
  {
   "cell_type": "markdown",
   "id": "f5e76bcb-3188-498b-acb3-97ecf03bcfcf",
   "metadata": {},
   "source": [
    "## Question 2"
   ]
  },
  {
   "cell_type": "markdown",
   "id": "6feaf8b9-d300-4b0b-a19c-8a84f5562752",
   "metadata": {},
   "source": [
    "A drop with an initial radius of 100 µm falls through a cloud containing 100 droplets per cubic centimeter that it collects in a continuous manner with a collection efficiency of 0.800. If all the cloud droplets have a radius of 10 µm, how long will it take for the drop to reach a radius of 1 mm? You may assume that for the drops of the size considered in this problem the terminal fall speed v (in $m s^{-1}$) of a drop of radius r (in meters) is given by $v= 8 x 10^3\\;r$. Assume that the cloud droplets are stationary and that the updraft velocity in the cloud is negligible.  Hint:  Integrate Thompkins equation 4.30 (not 4.28) analytically -- you  can also check numerically with python"
   ]
  },
  {
   "cell_type": "markdown",
   "id": "92780764-2ad9-4a45-bdc9-f14a578c92db",
   "metadata": {},
   "source": [
    "### Question 2 answer"
   ]
  },
  {
   "cell_type": "markdown",
   "id": "28033d54-324f-4da2-b7ac-43982bd86c36",
   "metadata": {},
   "source": [
    "Equation 4.30 (be sure you can derive this):\n",
    "\n",
    "$$\n",
    "  \\frac{ dR}{dt}  = \\frac{L V \\epsilon E}{4\\rho_l}\n",
    "$$\n",
    "where $R$ is the radius of the collector drop in meters, $L$ is the liquid water content in $kg\\,m^{-3}$, $\\rho_l$ is the density of liquid water in $kg\\,m^{-3}$, $V=6000R$ is the differential fall speed in m/s, $\\epsilon=1$ is the coalescence efficiency and $E0.8$ is the collection efficiency."
   ]
  },
  {
   "cell_type": "markdown",
   "id": "4e64eb1a-af83-4887-909d-bf210fee15e9",
   "metadata": {},
   "source": [
    " \n",
    "For the $L$, we have 100 droplets $cm^{-3}$ with $\\overline{r }= 10^{-3}$ cm, which gives a lwc of $4 \\times 10^{-4} \\ kg\\,m^{-3}$."
   ]
  },
  {
   "cell_type": "code",
   "execution_count": 1,
   "id": "05ab73de-4846-4592-bf46-7ec1bcea89c6",
   "metadata": {},
   "outputs": [
    {
     "name": "stdout",
     "output_type": "stream",
     "text": [
      "0.00042 kg/m^3\n"
     ]
    }
   ],
   "source": [
    "from a405.thermo.constants import constants as c\n",
    "import numpy as np\n",
    "N=100e6  # number/m^3\n",
    "r = 1.e-5  #meters\n",
    "L = c.rhol*4./3.*np.pi*N*r**3.\n",
    "print(f\"{L:6.2g} kg/m^3\")"
   ]
  },
  {
   "cell_type": "markdown",
   "id": "8bb21f08-483b-4672-a1e2-f5b2cc548593",
   "metadata": {},
   "source": [
    "Taking\n",
    "E=0.8 and $V=6000 r$ cm/s, with r in cm:\n",
    "\n",
    "$$\n",
    "\\begin{align}\n",
    "  \\frac{ dR}{dt} &= \\frac{ 6000 \\times R \\times 4.2 \\times  10^{-4} \\times 0.8}{4 \\rho_l} \\\\\n",
    "\\frac{ dR}{R}& = 1.6 \\pi 10^{-4} dt\n",
    "\\end{align}\n",
    "$$"
   ]
  },
  {
   "cell_type": "markdown",
   "id": "41468a27-5f01-40bb-830a-f6ebe04e9481",
   "metadata": {},
   "source": [
    "Integrating both sides:\n",
    "\n",
    "$$\n",
    "\\begin{align}\n",
    "\\int_{100 \\times 10^{-6}\\ m}^{1000 \\times 10^{-6}\\ m} \\frac{dR}{R} dR & = 5.04 \\times 10^{-4} \\int_0^t dt = 5.04 \\times 10^{-4} t \\\\\n",
    "\\frac{\\ln 1000- \\ln 100 }{5.04 \\times 10^{-4}} &= t \\\\\n",
    "t = 4569\\ seconds &= 76.15\\ minutes\n",
    "\\end{align}\n",
    "$$"
   ]
  },
  {
   "cell_type": "code",
   "execution_count": 2,
   "id": "61f3ef86-2cca-4731-82fe-9b297c509410",
   "metadata": {},
   "outputs": [
    {
     "data": {
      "text/plain": [
       "0.000504"
      ]
     },
     "execution_count": 2,
     "metadata": {},
     "output_type": "execute_result"
    }
   ],
   "source": [
    "6000*4.2e-4*0.8/(4.*c.rhol)"
   ]
  },
  {
   "cell_type": "code",
   "execution_count": 3,
   "id": "24a1ecce-e5e5-479f-8886-78235231adb2",
   "metadata": {},
   "outputs": [
    {
     "data": {
      "text/plain": [
       "4568.621216258026"
      ]
     },
     "execution_count": 3,
     "metadata": {},
     "output_type": "execute_result"
    }
   ],
   "source": [
    "(np.log(1000) - np.log(100))/5.04e-4"
   ]
  },
  {
   "cell_type": "code",
   "execution_count": 4,
   "id": "84f020f1-432e-4cd8-8a82-880c853ac931",
   "metadata": {},
   "outputs": [
    {
     "data": {
      "text/plain": [
       "76.15"
      ]
     },
     "execution_count": 4,
     "metadata": {},
     "output_type": "execute_result"
    }
   ],
   "source": [
    "4569/60."
   ]
  },
  {
   "cell_type": "markdown",
   "id": "ce66c33a-aa1d-4e62-9459-1fa58a26b584",
   "metadata": {},
   "source": [
    "## Question 3"
   ]
  },
  {
   "cell_type": "markdown",
   "id": "d5bd525c-4b10-43bb-94f2-d2b56df543e5",
   "metadata": {},
   "source": [
    "3. Compare the droplet growth equation in Thompkins equation 4.24 with  with Lohmann 7.28 for 3 micron drop nucleated on a $1 \\times 10^{-18}$ kg ammonium sulphate aerosol.  Show numerical values for all the terms, and the total percentage difference in the $dr/dt$ for the two equations."
   ]
  },
  {
   "cell_type": "markdown",
   "id": "62a4260c-15e1-466f-a1a0-6902d4a79022",
   "metadata": {},
   "source": [
    "### Question 3 answer"
   ]
  },
  {
   "cell_type": "markdown",
   "id": "f85779da-7a65-4519-91fd-b2559da9e69b",
   "metadata": {},
   "source": [
    "## Question 4\n",
    "\n",
    "\n",
    "Derive Lohmann equations 7.31 and 7.32:\n",
    "\n",
    "$$\n",
    "\\frac{d S}{d t}=Q_1 \\frac{d z}{d t}-Q_2 \\frac{d r_l}{d t}\n",
    "$$\n",
    "\n",
    "$$\n",
    "\\begin{aligned} \n",
    "& Q_1=\\frac{1}{T}\\left(\\frac{\\epsilon L_v g}{R_d c_p T}-\\frac{g}{R_d}\\right), \\\\\n",
    "& Q_2=\\rho\\left(\\frac{R_d T}{\\epsilon e_{s}}+\\frac{\\epsilon L_v^2}{p T c_p}\\right)\n",
    "\\end{aligned}\n",
    "$$"
   ]
  },
  {
   "cell_type": "markdown",
   "id": "3996a383-9d2a-4cbe-a3a6-410aba35bac5",
   "metadata": {},
   "source": [
    "   Problem 4 hints:\n",
    "   \n",
    "   - Start with this approximate relation between the vapor mixing ratio and the saturations\n",
    "\n",
    "      $$\n",
    "        r_v = \\frac{\\rho_v}{\\rho_d} = \\frac{R_d}{R_v} \\frac{e}{p - e} \\approx \\frac{R_d}{R_v} \\frac{e}{p}=\n",
    "       \\epsilon \\frac{e}{p} = \\frac{S \\epsilon e_s}{p} \n",
    "      $$\n",
    "             \n",
    "   - first show that with the chain rule wind up with this:\n",
    "   \n",
    "        $$\n",
    "        \\frac{d r_v}{dt} = S \\left [ \\frac{-\\epsilon e_s}{p^2} \n",
    "        \\left ( \\frac{-g p V}{R_d T} \\right ) + \\frac{\\epsilon}{p} \\left ( \n",
    "        \\frac{\\epsilon e_s l_v}{R_d T^2} \\right ) \\frac{dT}{dt} \\right ]\n",
    "        + \\frac{\\epsilon e_s}{p} \\frac{dS}{dt}\n",
    "        $$(eq:rv)\n",
    "\n",
    "     where $V$ is the vertical velocity $dz/dt$ and I've used the Clausius-Clapeyron equation and\n",
    "     assumed hydrostatic balance:\n",
    "     \n",
    "     $$\n",
    "     \\begin{align}\n",
    "    \\frac{de_s}{dT} &= \\frac{\\epsilon l_v e_s}{R_d T^2}\\\\\n",
    "    \\frac{dp}{dt} & =  - \\rho g \\frac{dz}{dt} = -\\frac{g p}{R_d T} V\n",
    "     \\end{align}\n",
    "     $$\n",
    "\n",
    "   - To get Lohmann's coefficients, recognize that $dr_v/dt = - dr_l/dt$ if total water is conserved"
   ]
  },
  {
   "cell_type": "markdown",
   "id": "48aa92da-98a2-447e-be5d-eb528ad5a7e5",
   "metadata": {},
   "source": [
    "### Question 4 answer"
   ]
  },
  {
   "cell_type": "markdown",
   "id": "200a0dd7-d636-40ca-9941-ccfc70d9c202",
   "metadata": {},
   "source": [
    "We need to eliminate dT/dt from {eq}`eq:rv`\n",
    "\n",
    "For $dT/dt$ use the fact that $h_m = c_p T + l_v r_v + gz=constant$ is conserved for adiatbatic ascent take the derivative to get\n",
    "\n",
    "$$\n",
    "\\frac{d T}{d t}=\\frac{l_v}{c_p} \\frac{d r_v}{d t}-\\frac{g V}{c_p}\n",
    "$$(eq:hm)"
   ]
  },
  {
   "cell_type": "markdown",
   "id": "ba28df56-a372-4a80-99b0-ebf160db7fa7",
   "metadata": {},
   "source": [
    "Plug {eq}`eq:hm` into {eq}`eq:rv` and rearrange\n",
    "\n",
    "$$\n",
    "\\frac{d S}{d t}=-\\frac{g V}{R_d T}-\\frac{l_v}{R_v T^2}\\left[-\\frac{l_v}{c_p} \\frac{d r_v}{d t}-\\frac{g V}{c_p}\\right]+\\frac{p}{\\epsilon e_s} \\frac{d r_v}{d t}\n",
    "$$\n",
    "where I've made the approximation that $S \\approx 1$"
   ]
  },
  {
   "cell_type": "markdown",
   "id": "685d8f8d-3cb5-4ef5-ad81-968c831cf932",
   "metadata": {},
   "source": [
    "$$\n",
    "\\frac{d S}{d t}=\\frac{g}{T}\\left[\\frac{l_v}{c_p R_v T}-\\frac{1}{R_d}\\right] V-\\left[\\frac{p}{e_s \\epsilon}+\\frac{l_v^2}{R_v c_p T^2}\\right] \\frac{dr_l}{dt}\n",
    "$$"
   ]
  },
  {
   "cell_type": "markdown",
   "id": "8e844880-9190-44f6-b6c1-8c9234eded41",
   "metadata": {},
   "source": [
    "Finally, eliminate $R_v$ using the defination $\\epsilon = R_d/R_v$ to get Lohmann's $Q_1$ and $Q_2$"
   ]
  },
  {
   "cell_type": "code",
   "execution_count": null,
   "id": "6121c987-3d2e-4ed4-b44c-5a4c6a40f6d5",
   "metadata": {},
   "outputs": [],
   "source": []
  }
 ],
 "metadata": {
  "jupytext": {
   "formats": "ipynb,md:myst"
  },
  "kernelspec": {
   "display_name": "Python 3 (ipykernel)",
   "language": "python",
   "name": "python3"
  },
  "language_info": {
   "codemirror_mode": {
    "name": "ipython",
    "version": 3
   },
   "file_extension": ".py",
   "mimetype": "text/x-python",
   "name": "python",
   "nbconvert_exporter": "python",
   "pygments_lexer": "ipython3",
   "version": "3.11.7"
  }
 },
 "nbformat": 4,
 "nbformat_minor": 5
}
