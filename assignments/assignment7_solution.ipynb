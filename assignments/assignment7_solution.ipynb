{
 "cells": [
  {
   "cell_type": "markdown",
   "id": "7536d635",
   "metadata": {},
   "source": [
    "(assign7_solution)=\n",
    "# Assignment 7 solution"
   ]
  },
  {
   "cell_type": "markdown",
   "id": "361ff954",
   "metadata": {},
   "source": [
    "## Question 1"
   ]
  },
  {
   "cell_type": "markdown",
   "id": "ce0fb623",
   "metadata": {},
   "source": [
    "1. Assuming that cloud condensation nuclei (CCN) are removed from the atmosphere by first serving as the centers on which cloud droplets form, and the droplets subsequently grow to form precipitation particles, estimate the residence time of a CCN in a column extending from the surface of the Earth to an altitude of 5 km. Assume that the annual rainfall is 100 cm/year and the cloud liquid water content is 0.30 $g/kg$ .  *Hint:  Assume that all drops in the cloud droplets have  a radii of 10 microns and that every droplet contains exactly 1 CCN.   How many CCN are in 1 kg of air?  About how many kg of air are there in a 5 km column?  About how many CCN are taken out by a rain rate of 1 m/year?  Find the time constant for removal of the form  1/N dN/dt = 1/tau*"
   ]
  },
  {
   "cell_type": "markdown",
   "id": "7c70b041",
   "metadata": {},
   "source": [
    "### Question 1 answer"
   ]
  },
  {
   "cell_type": "markdown",
   "id": "7bd5181c",
   "metadata": {},
   "source": [
    "First find $n$, the number of aersols/volume \n",
    "by assuming that the mean droplet size is \n",
    "$\\overline{r}=10\\ \\mu m$  and\n",
    "that there is one aerosol in each droplet.\n",
    "\n",
    "$$\n",
    "  w_l = 0.3\\ \\ g\\,m^{-3} = \\frac{4}{3}\\pi \\rho_l N\\overline{ r}^3  \n",
    "$$\n",
    "which gives $n=72\\ \\ cm^{-3} = 72\\ \\times 10^6\\ \\ {kg^{-1}}$ if $\\rho_{air} \\approx 1\\ \\ kg\\,m^{-3} $"
   ]
  },
  {
   "cell_type": "markdown",
   "id": "259ac9f2",
   "metadata": {},
   "source": [
    "If the column is well mixed, then $n=constant$ between the surface\n",
    "and 5 km $\\approx$ 500 hPa.   Integrate\n",
    "the hydrostatic equation between those levels to find the mass of dry air:\n",
    "\n",
    "$$\n",
    "M=  \\int_0^{5000} \\rho dz = \\frac{1 }{g} \\int_{50000}^{100000} dp \\nonumber \\\\\n",
    "= \\frac{ 1}{10} 5 \\times 10^4 = 5000\\ kg\\,m^{-2}\n",
    "$$\n",
    "So to get the total CCN in a column multiply $M \\times n$ =\n",
    "$N=3.6 \\times 10^{11}$ CCN in a $1 \\ m^{2}$ column."
   ]
  },
  {
   "cell_type": "markdown",
   "id": "d3160f24",
   "metadata": {},
   "source": [
    "Now what about $dN/dt$?  If the rainfall is 1 m/year\n",
    "= 1000 $kg\\,m^{-2}\\,yr^{-1}$ and $\\overline{ r}=10\\ \\mu m$\n",
    "then the mass of an average drop is \n",
    "\n",
    "$$\n",
    "\\frac{ 4}{3}\\pi \\rho_l N\\overline{ r}^3\n",
    "$$\n",
    "and the drops removed in a year is:\n",
    "\n",
    "$$\n",
    "  \\frac{1000 \\ kg\\,m^{-2}\\,yr^{-1} }{\\frac{ 4}{3}\\pi \\rho_l N (10^{-5})^3} = 2.39 \\times 10^{14}\\ drops/year\n",
    "$$\n",
    "\n",
    "So put these together:\n",
    "\n",
    "$$\n",
    "  \\tau = \\frac{N}{dN/dt} = \\frac{ 3.6 \\times 10 11}{ 2.39 \\times 10^{14}} \n",
    "= 0.0015\\ years = 0.55\\ days\n",
    "$$"
   ]
  },
  {
   "cell_type": "markdown",
   "id": "a30c3792",
   "metadata": {},
   "source": [
    "## Question 2"
   ]
  },
  {
   "cell_type": "markdown",
   "id": "285ae1d8",
   "metadata": {},
   "source": [
    "A drop with an initial radius of 100 µm falls through a cloud containing 100 droplets per cubic centimeter that it collects in a continuous manner with a collection efficiency of 0.800. If all the cloud droplets have a radius of 10 µm, how long will it take for the drop to reach a radius of 1 mm? You may assume that for the drops of the size considered in this problem the terminal fall speed v (in $m s^{-1}$) of a drop of radius r (in meters) is given by $v= 8 x 10^3\\;r$. Assume that the cloud droplets are stationary and that the updraft velocity in the cloud is negligible.  Hint:  Integrate Thompkins equation 4.30 (not 4.28) analytically -- you  can also check numerically with python"
   ]
  },
  {
   "cell_type": "markdown",
   "id": "f345ff3b",
   "metadata": {},
   "source": [
    "### Question 2 answer"
   ]
  },
  {
   "cell_type": "markdown",
   "id": "6f41981b",
   "metadata": {},
   "source": [
    "Equation 4.30 (be sure you can derive this):\n",
    "\n",
    "$$\n",
    "  \\frac{ dR}{dt}  = \\frac{L V \\epsilon E}{4\\rho_l}\n",
    "$$\n",
    "where $R$ is the radius of the collector drop in meters, $L$ is the liquid water content in $kg\\,m^{-3}$, $\\rho_l$ is the density of liquid water in $kg\\,m^{-3}$, $V=6000R$ is the differential fall speed in m/s, $\\epsilon=1$ is the coalescence efficiency and $E0.8$ is the collection efficiency."
   ]
  },
  {
   "cell_type": "markdown",
   "id": "c8b6fe56",
   "metadata": {},
   "source": [
    " \n",
    "For the $L$, we have 100 droplets $cm^{-3}$ with $\\overline{r }= 10^{-3}$ cm, which gives a lwc of $4 \\times 10^{-4} \\ kg\\,m^{-3}$."
   ]
  },
  {
   "cell_type": "code",
   "execution_count": null,
   "id": "48e18fa9",
   "metadata": {},
   "outputs": [],
   "source": [
    "from a405.thermo.constants import constants as c\n",
    "import numpy as np\n",
    "N=100e6  # number/m^3\n",
    "r = 1.e-5  #meters\n",
    "L = c.rhol*4./3.*np.pi*N*r**3.\n",
    "print(f\"{L:6.2g} kg/m^3\")"
   ]
  },
  {
   "cell_type": "markdown",
   "id": "8771814f",
   "metadata": {},
   "source": [
    "Taking\n",
    "E=0.8 and $V=6000 r$ cm/s, with r in cm:\n",
    "\n",
    "$$\n",
    "\\begin{align}\n",
    "  \\frac{ dR}{dt} &= \\frac{ 6000 \\times R \\times 4.2 \\times  10^{-4} \\times 0.8}{4 \\rho_l} \\\\\n",
    "\\frac{ dR}{R}& = 1.6 \\pi 10^{-4} dt\n",
    "\\end{align}\n",
    "$$"
   ]
  },
  {
   "cell_type": "markdown",
   "id": "74f9fc19",
   "metadata": {},
   "source": [
    "Integrating both sides:\n",
    "\n",
    "$$\n",
    "\\begin{align}\n",
    "\\int_{100 \\times 10^{-6}\\ m}^{1000 \\times 10^{-6}\\ m} \\frac{dR}{R} dR & = 5.04 \\times 10^{-4} \\int_0^t dt = 5.04 \\times 10^{-4} t \\\\\n",
    "\\frac{\\ln 1000- \\ln 100 }{5.04 \\times 10^{-4}} &= t \\\\\n",
    "t = 4569\\ seconds &= 76.15\\ minutes\n",
    "\\end{align}\n",
    "$$"
   ]
  },
  {
   "cell_type": "code",
   "execution_count": null,
   "id": "f50e1133",
   "metadata": {},
   "outputs": [],
   "source": [
    "6000*4.2e-4*0.8/(4.*c.rhol)"
   ]
  },
  {
   "cell_type": "code",
   "execution_count": null,
   "id": "f76a083e",
   "metadata": {},
   "outputs": [],
   "source": [
    "(np.log(1000) - np.log(100))/5.04e-4"
   ]
  },
  {
   "cell_type": "code",
   "execution_count": null,
   "id": "f07edc73",
   "metadata": {},
   "outputs": [],
   "source": [
    "4569/60."
   ]
  },
  {
   "cell_type": "markdown",
   "id": "a21d919b",
   "metadata": {},
   "source": [
    "## Question 3"
   ]
  },
  {
   "cell_type": "markdown",
   "id": "8d9e1cb5",
   "metadata": {},
   "source": [
    "3. Compare the droplet growth equation in Thompkins equation 4.24 with  with Lohmann 7.28 for 3 micron drop nucleated on a $1 \\times 10^{-18}$ kg ammonium sulphate aerosol.  Show numerical values for all the terms, and the total percentage difference in the $dr/dt$ for the two equations."
   ]
  },
  {
   "cell_type": "markdown",
   "id": "e82376b4",
   "metadata": {},
   "source": [
    "### Question 3 answer\n",
    "\n",
    "Reuse some code from worksheets [koehler1](https://phaustin.github.io/a405_2024/notebooks/worksheets/kohler_equilibrium_students.html) and  [koehler2](https://phaustin.github.io/a405_2024/notebooks/koehler2_worksheet.html) to evaluate:\n",
    "\n",
    "Thompkins 4.24\n",
    "\n",
    "$$\n",
    "\\frac{d r}{d t}=\\frac{D e_s^{\\infty}}{\\rho_L r R_v T}\\left(S-1-\\frac{a}{r T}+\\frac{b}{r^3}\\right)\n",
    "$$\n",
    "\n",
    "Lohmann 7.28:\n",
    "\n",
    "$$\n",
    "r \\frac{d r}{d t}=\\frac{(S-1)-a / r+b / r^3}{F_k+F_d} .\n",
    "$$\n",
    "\n",
    "$$\n",
    "F_k^l=\\left(\\frac{L_v}{R_v T}-1\\right) \\frac{L_v}{K T} \\approx\\left(\\frac{L_v^2}{K R_v T^2}\\right) ;\n",
    "$$\n",
    "\n",
    "$$\n",
    "F_d^l=\\frac{1}{D_v \\rho_{v s}}=\\frac{R_v T}{D_v e_{s, w}(T)}\n",
    "$$\n",
    "\n",
    "\n",
    "Note that Thompkins takes the temperature out of his $a$ coefficient, but it's identical to Lohmann if you move temperature into $a$."
   ]
  },
  {
   "cell_type": "code",
   "execution_count": null,
   "id": "72c6e58f",
   "metadata": {},
   "outputs": [],
   "source": [
    "from a405.thermo.thermlib import find_esat, find_lv\n",
    "from a405.utils.helper_funs import make_tuple\n",
    "from a405.thermo.constants import constants as c\n",
    "import numpy as np\n",
    "\n",
    "temp = 280 #K\n",
    "press = 80000 #Pa\n",
    "D = 2.8e-5 #m^2/s\n",
    "K = 0.025 #W/m/K\n",
    "r = 3.e-6 #m\n",
    "#\n",
    "# from the koehler worksheets\n",
    "#\n",
    "aero_specs = {\n",
    "    \"Ms\": 132,\n",
    "    \"Mw\": 18.0,\n",
    "    \"Sigma\": 0.075,\n",
    "    \"vanHoff\": 3.0,\n",
    "    \"rho\": 1775,\n",
    "    \"mass\": 1e-18,\n",
    "    \"comments\": \"ammonum sulfate (NH4)2SO4\"\n",
    "}\n",
    "\n",
    "aero = make_tuple(aero_specs)\n",
    "lv = find_lv(temp)\n",
    "\n",
    "a=(2.*aero.Sigma)/(c.Rv*temp*c.rhol)  #curvature term\n",
    "b=(aero.vanHoff*aero.Mw)/((4./3.)*np.pi*c.rhol*aero.Ms)*aero.mass\n",
    "esat = find_esat(temp)\n",
    "\n",
    "a_over_r = a/r\n",
    "b_over_r3 = b/r**3.\n",
    "thompkins_coefficient = D*esat/(c.rhol*c.Rv*temp)\n",
    "print(f\"{(a_over_r, b_over_r3,thompkins_coefficient)=}\")\n",
    "lohmann_FK = lv**2/(K*c.Rv*temp**2.)\n",
    "lohmann_FD = 1/thompkins_coefficient\n",
    "lohmann_coefficient = 1/(lohmann_FK + lohmann_FD)\n",
    "print(f\"{lohmann_coefficient/thompkins_coefficient=:.4f}\")"
   ]
  },
  {
   "cell_type": "markdown",
   "id": "492222ae",
   "metadata": {},
   "source": [
    "## Question 4\n",
    "\n",
    "\n",
    "Derive Lohmann equations 7.31 and 7.32:\n",
    "\n",
    "$$\n",
    "\\frac{d S}{d t}=Q_1 \\frac{d z}{d t}-Q_2 \\frac{d r_l}{d t}\n",
    "$$\n",
    "\n",
    "$$\n",
    "\\begin{aligned} \n",
    "& Q_1=\\frac{1}{T}\\left(\\frac{\\epsilon L_v g}{R_d c_p T}-\\frac{g}{R_d}\\right), \\\\\n",
    "& Q_2=\\rho\\left(\\frac{R_d T}{\\epsilon e_{s}}+\\frac{\\epsilon L_v^2}{p T c_p}\\right)\n",
    "\\end{aligned}\n",
    "$$"
   ]
  },
  {
   "cell_type": "markdown",
   "id": "b252c9f1",
   "metadata": {},
   "source": [
    "   Problem 4 hints:\n",
    "   \n",
    "   - Start with this approximate relation between the vapor mixing ratio and the saturations\n",
    "\n",
    "      $$\n",
    "        r_v = \\frac{\\rho_v}{\\rho_d} = \\frac{R_d}{R_v} \\frac{e}{p - e} \\approx \\frac{R_d}{R_v} \\frac{e}{p}=\n",
    "       \\epsilon \\frac{e}{p} = \\frac{S \\epsilon e_s}{p} \n",
    "      $$\n",
    "             \n",
    "   - first show that with the chain rule wind up with this:\n",
    "   \n",
    "        $$\n",
    "        \\frac{d r_v}{dt} = S \\left [ \\frac{-\\epsilon e_s}{p^2} \n",
    "        \\left ( \\frac{-g p V}{R_d T} \\right ) + \\frac{\\epsilon}{p} \\left ( \n",
    "        \\frac{\\epsilon e_s l_v}{R_d T^2} \\right ) \\frac{dT}{dt} \\right ]\n",
    "        + \\frac{\\epsilon e_s}{p} \\frac{dS}{dt}\n",
    "        $$(eq:rv)\n",
    "\n",
    "     where $V$ is the vertical velocity $dz/dt$ and I've used the Clausius-Clapeyron equation and\n",
    "     assumed hydrostatic balance:\n",
    "     \n",
    "     $$\n",
    "     \\begin{align}\n",
    "    \\frac{de_s}{dT} &= \\frac{\\epsilon l_v e_s}{R_d T^2}\\\\\n",
    "    \\frac{dp}{dt} & =  - \\rho g \\frac{dz}{dt} = -\\frac{g p}{R_d T} V\n",
    "     \\end{align}\n",
    "     $$\n",
    "\n",
    "   - To get Lohmann's coefficients, recognize that $dr_v/dt = - dr_l/dt$ if total water is conserved"
   ]
  },
  {
   "cell_type": "markdown",
   "id": "bce43fe6",
   "metadata": {},
   "source": [
    "### Question 4 answer"
   ]
  },
  {
   "cell_type": "markdown",
   "id": "bfa6e237",
   "metadata": {},
   "source": [
    "We need to eliminate dT/dt from {eq}`eq:rv`\n",
    "\n",
    "For $dT/dt$ use the fact that $h_m = c_p T + l_v r_v + gz=constant$ is conserved for adiatbatic ascent take the derivative to get\n",
    "\n",
    "$$\n",
    "\\frac{d T}{d t}=\\frac{l_v}{c_p} \\frac{d r_v}{d t}-\\frac{g V}{c_p}\n",
    "$$(eq:hm)"
   ]
  },
  {
   "cell_type": "markdown",
   "id": "cd2cdfcd",
   "metadata": {},
   "source": [
    "Plug {eq}`eq:hm` into {eq}`eq:rv` and rearrange\n",
    "\n",
    "$$\n",
    "\\frac{d S}{d t}=-\\frac{g V}{R_d T}-\\frac{l_v}{R_v T^2}\\left[-\\frac{l_v}{c_p} \\frac{d r_v}{d t}-\\frac{g V}{c_p}\\right]+\\frac{p}{\\epsilon e_s} \\frac{d r_v}{d t}\n",
    "$$\n",
    "where I've made the approximation that $S \\approx 1$"
   ]
  },
  {
   "cell_type": "markdown",
   "id": "18a1a3df",
   "metadata": {},
   "source": [
    "$$\n",
    "\\frac{d S}{d t}=\\frac{g}{T}\\left[\\frac{l_v}{c_p R_v T}-\\frac{1}{R_d}\\right] V-\\left[\\frac{p}{e_s \\epsilon}+\\frac{l_v^2}{R_v c_p T^2}\\right] \\frac{dr_l}{dt}\n",
    "$$"
   ]
  },
  {
   "cell_type": "markdown",
   "id": "f7ac4a74",
   "metadata": {},
   "source": [
    "Finally, eliminate $R_v$ using the defination $\\epsilon = R_d/R_v$ to get Lohmann's $Q_1$ and $Q_2$"
   ]
  },
  {
   "cell_type": "code",
   "execution_count": null,
   "id": "73daf772",
   "metadata": {},
   "outputs": [],
   "source": []
  }
 ],
 "metadata": {
  "jupytext": {
   "formats": "ipynb,md:myst"
  },
  "kernelspec": {
   "display_name": "Python 3 (ipykernel)",
   "language": "python",
   "name": "python3"
  }
 },
 "nbformat": 4,
 "nbformat_minor": 5
}
