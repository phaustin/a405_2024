{
 "cells": [
  {
   "cell_type": "markdown",
   "id": "3ba75c09",
   "metadata": {},
   "source": [
    "(assignment_6)=\n",
    "# Assignment 6  -- Due Tuesday March 19 midnight"
   ]
  },
  {
   "cell_type": "markdown",
   "id": "678cb43c-88d5-409d-852f-1ac2818e6dac",
   "metadata": {},
   "source": [
    "## Problem 1: cloud chamber"
   ]
  },
  {
   "cell_type": "markdown",
   "id": "d6a2fae4",
   "metadata": {},
   "source": [
    "\n",
    "\n",
    "1. Given the critical supersaturation from the kohler notes:\n",
    "\n",
    "    $$\n",
    "    SS=S^* - 1= \\left ( \\frac{4 a^3}{27b} \\right )^{1/2}\n",
    "    $$\n",
    "\n",
    "show that this implies, for $(NH_4)_2 SO_4$, density $\\rho_{aer}$ = 1775\n",
    "${kg}\\,{m^{-3}}$ , van hoft i=3, that:\n",
    "\n",
    " $$\n",
    "S^* -1 \\approx 1.54 \\times 10^{-12}~ m_{aer}^{-0.5}\n",
    " $$\n",
    "\n",
    "where $m_{aer}$ is the ammonium sulphate aerosol mass in kg.\n",
    "\n",
    "Note that this is why a cloud chamber can get the aerosol mass distribution from a series of\n",
    "saturation and light scattering measurements as smaller and smaller aerosols are pushed over\n",
    "their critical supersaturation and activated.\n",
    "\n"
   ]
  },
  {
   "cell_type": "markdown",
   "id": "9c4e0233-124a-468c-917c-88263dba1ed6",
   "metadata": {},
   "source": [
    "## Problem 2: Koehler stability"
   ]
  },
  {
   "cell_type": "markdown",
   "id": "39482e80-d32a-4c7b-bc78-6a0c8fe657b0",
   "metadata": {},
   "source": [
    "\n",
    "2. Show that the expression for second derivative of the thermodynamic potential derived in the  kohler stability notes:\n",
    "\n",
    "     $$\n",
    "     \\frac{\\delta ^2G}{\\delta r^2} = - 4 \\pi R_v T \\rho_l \\left [ 2 a - r^2 \\left ( 1 +\n",
    "           \\frac{b}{r^3} \\right ) \\frac{3b}{r^4}  \\right ] + 8 \\pi \\sigma\n",
    "     $$\n",
    "\n",
    "     Changes sign from stable (positive) to unstable (negative) at $r_{crit}$.\n",
    "\n",
    "     Hint -- first show that the second derivative is zero at the critical radius.  Then show that\n",
    "     the third derivative is negative above and below the critical radius, which means that\n",
    "     there has to be a sign change from + to -.\n",
    "     "
   ]
  },
  {
   "cell_type": "code",
   "execution_count": null,
   "id": "e2783ac4",
   "metadata": {},
   "outputs": [],
   "source": []
  }
 ],
 "metadata": {
  "jupytext": {
   "formats": "ipynb,md:myst"
  },
  "kernelspec": {
   "display_name": "Python 3 (ipykernel)",
   "language": "python",
   "name": "python3"
  },
  "language_info": {
   "codemirror_mode": {
    "name": "ipython",
    "version": 3
   },
   "file_extension": ".py",
   "mimetype": "text/x-python",
   "name": "python",
   "nbconvert_exporter": "python",
   "pygments_lexer": "ipython3",
   "version": "3.10.8"
  }
 },
 "nbformat": 4,
 "nbformat_minor": 5
}
