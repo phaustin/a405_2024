{
 "cells": [
  {
   "cell_type": "markdown",
   "id": "cb34aff0-3011-4577-b308-8ddfff9ffbaf",
   "metadata": {},
   "source": [
    "(assign8_solution)=\n",
    "# Assignment 8 solution"
   ]
  },
  {
   "cell_type": "markdown",
   "id": "a7f041e0-9eda-4224-9136-57b323bb5053",
   "metadata": {},
   "source": [
    "## Question 1\n",
    "\n",
    "- Confirm that the mean diameter of the Marshall Palmer distribution is $1/\\Lambda$"
   ]
  },
  {
   "cell_type": "markdown",
   "id": "77519cf1-ae71-4389-b462-fd702b55ecc9",
   "metadata": {},
   "source": [
    "### Question 1 answer\n",
    "\n",
    "$$\n",
    "n(D)=N_0 e^{-\\Lambda D}\n",
    "$$"
   ]
  },
  {
   "cell_type": "code",
   "execution_count": 1,
   "id": "9bade779-6a04-4fad-b4e7-c8968490109f",
   "metadata": {},
   "outputs": [],
   "source": [
    "import numpy as np\n",
    "from matplotlib import pyplot as plt\n",
    "\n",
    "def marshallpalmer(D):\n",
    "    \"\"\"\n",
    "    marshall palmer size distribution\n",
    "    given rainrate R in mm/hr, return\n",
    "    n(D), the number concentration of drops with\n",
    "    diameter D\n",
    "\n",
    "    Parameters\n",
    "    ----------\n",
    "    R: float\n",
    "        rainrate (mm/hr)\n",
    "\n",
    "    Returns\n",
    "    -------\n",
    "\n",
    "    d: vector (float)\n",
    "      drop diameters (cm)\n",
    "\n",
    "    n: vector (float)\n",
    "     the number distribution n(d) #m^{-3} mm^{-1}\n",
    "\n",
    "    \"\"\"\n",
    "    D=np.arange(0,8,0.01)\n",
    "    Dmm=D\n",
    "    Dcm=D*0.1\n",
    "    N0=0.08*1.e6*1.e-1 #m**{-3} mm^{-1}\n",
    "    theLambda=41*R**(-0.21)\n",
    "    n=N0*np.exp(-theLambda*Dcm)\n",
    "    return Dcm,n"
   ]
  },
  {
   "cell_type": "markdown",
   "id": "1a4f9a92-8779-4800-b602-f190b971ca80",
   "metadata": {},
   "source": [
    "#### Numerical example: Calculate the mean numerically for R = 15 mm/hour"
   ]
  },
  {
   "cell_type": "code",
   "execution_count": 2,
   "id": "5ab302ee-3c6d-431c-852f-c0e7071b38fd",
   "metadata": {},
   "outputs": [
    {
     "name": "stdout",
     "output_type": "stream",
     "text": [
      "mean diameter = 0.0431 cm\n",
      "approx diameter = 0.0426 cm\n"
     ]
    }
   ],
   "source": [
    "R = 15 #mm/hr\n",
    "theLambda=41*R**(-0.21)\n",
    "print('mean diameter = {:6.3g} cm'.format(1./theLambda))\n",
    "diam,ndist = marshallpalmer(R)  #cm, m^{-3} mm^{-1}\n",
    "binwidth = np.diff(diam)[0]*10  #bin width in mm\n",
    "approx_diam = np.sum(diam*ndist*binwidth)/np.sum(ndist*binwidth)\n",
    "print('approx diameter = {:6.3g} cm'.format(approx_diam))"
   ]
  },
  {
   "cell_type": "markdown",
   "id": "26fcebaf-4631-4b60-b8c4-ba8b83206cee",
   "metadata": {},
   "source": [
    "#### Analytic solution\n",
    "Start with the definition of the mean:"
   ]
  },
  {
   "cell_type": "markdown",
   "id": "36b8d89f-f528-41c7-9ef3-dbbef9ab3a9e",
   "metadata": {},
   "source": [
    "$$\n",
    "\\overline{x}  = \\frac{\\int_0^\\infty x e^{c x}\\,dx}{\\int_0^\\infty e^{c x}\\,dx}\n",
    "$$\n",
    "\n",
    "then use this result from [https://en.wikipedia.org/wiki/List_of_integrals_of_exponential_functions](https://en.wikipedia.org/wiki/List_of_integrals_of_exponential_functions) works:\n",
    "\n",
    "$$\n",
    "\\int_0^\\infty x e^{c x} d x=\n",
    "  e^{c x}\\left(\\frac{c x-1}{c^2}\\right)   \\bigg \\rvert_0^\\infty \\quad \\text { for } c = - \\Lambda\n",
    "$$"
   ]
  },
  {
   "cell_type": "markdown",
   "id": "77aaf2c5-5bdd-4f1c-883f-c2860fccd019",
   "metadata": {},
   "source": [
    "## Question 2\n",
    "\n",
    "- Calculate the precipitation flux (mm/hr) by integrating the total volumen in the Marshall Palmer size distribution and with the fall speed of Villermaux and Bossa (2009): $w = - \\sqrt{\\rho_l/\\rho_{air} * g *D}$ where\n",
    "D is the drop diameter and $\\rho_l,\\rho_{air}$ are the liquid and air densities.  Show\n",
    "that you get about R=15 mm/hour back from this calculation if you use the $\\Lambda$ that's appropriate for  R=15 mm/hour"
   ]
  },
  {
   "cell_type": "markdown",
   "id": "58050096-c460-4d87-a122-f1cab373cfbd",
   "metadata": {},
   "source": [
    "### Question 2 answer"
   ]
  },
  {
   "cell_type": "code",
   "execution_count": 15,
   "id": "6c005a94-a3e9-4d67-a8f8-6a0d9d0c5bf4",
   "metadata": {},
   "outputs": [
    {
     "name": "stdout",
     "output_type": "stream",
     "text": [
      "\n",
      "for Unature with R=15 mm/hour integration gives    12.40 mm/hour\n",
      "\n",
      "\n",
      "for Uthompkins with R=15 mm/hour integration gives    14.80 mm/hour\n",
      "\n"
     ]
    }
   ],
   "source": [
    "def find_uthompkins(diams):\n",
    "    \"\"\"\n",
    "    Thompkins p. 77 table\n",
    "    \n",
    "    Parameters\n",
    "    ----------\n",
    "    \n",
    "    diams: vector of floats\n",
    "         drop diamter (meters)\n",
    "         \n",
    "    Returns\n",
    "    -------\n",
    "    \n",
    "    vel_vec: vector of floats\n",
    "           fall speed (m/s) \n",
    "    \"\"\"\n",
    "    diams = np.atleast_1d(diams)\n",
    "    rvals = diams/2.\n",
    "    #diam in meters, thompkins p. 77\n",
    "    vel_list=[]\n",
    "    #\n",
    "    #  thompkins defines 3 different fallspeeds in \n",
    "    #  different size ranges\n",
    "    #\n",
    "    edges = np.array([0,30,1000,8000])*1.e-6  #meters\n",
    "    bins = np.searchsorted(edges,rvals)\n",
    "    for r, bin in zip(rvals,bins):\n",
    "        if bin == 1:\n",
    "            vel = 1.2e8*r**2.\n",
    "        elif bin == 2:\n",
    "            vel = 6.e3*r  #Thompkins says 8000?\n",
    "        elif bin == 3:\n",
    "            vel = 250*0.75*np.sqrt(r)  #0.75 fudge factor to get curve match\n",
    "        else:\n",
    "            if r==0:\n",
    "                vel=0.\n",
    "            else:\n",
    "                raise ValueError('droplet size out of bounds')\n",
    "        vel_list.append(vel)\n",
    "    return np.array(vel_list)\n",
    "    \n",
    "#find the rain rate for a dropsize distribution\n",
    "#specified by a marshall-palmer distribution of 15 mm/hour\n",
    "import numpy as np\n",
    "g=9.8  #m/s^2\n",
    "rho=1  #kg/m^3 air density\n",
    "rhol=1000. #kg/m^3 liquid water density\n",
    "R=15 #mm/hr\n",
    "diam,ndist = marshallpalmer(R)\n",
    "diam = diam*1.e-2 #meters\n",
    "Unature=np.sqrt(rhol/rho*g*diam) #m/s  Villermaux and Bossa, 2009\n",
    "Uthompkins = find_uthompkins(diam) #thompkins\n",
    "Udict=dict(Unature=Unature,Uthompkins=Uthompkins)\n",
    "for name,U in Udict.items():\n",
    "    binwidth = np.diff(diam)[0]*1.e3 #mm\n",
    "    R=np.sum(ndist*np.pi*(diam**3)/6*U*binwidth) #flux in m/s\n",
    "    R=R*1000*3600. #mm/hour\n",
    "    print(f'\\nfor {name} with R=15 mm/hour integration gives {R:8.2f} mm/hour\\n')"
   ]
  },
  {
   "cell_type": "code",
   "execution_count": 16,
   "id": "74a88a57-4b54-478e-b55a-1f0e978422c6",
   "metadata": {},
   "outputs": [
    {
     "data": {
      "image/png": "[encoded data removed]",
      "text/plain": [
       "<Figure size 800x800 with 1 Axes>"
      ]
     },
     "metadata": {},
     "output_type": "display_data"
    }
   ],
   "source": [
    "fig,ax = plt.subplots(1,1,figsize=(8,8))\n",
    "ax.plot(diam,Uthompkins,label='thompkins U (m/s)')\n",
    "ax.plot(diam,Unature,label='nature U (m/s)')\n",
    "ax.legend(loc='best')\n",
    "out=ax.set(xlabel='diam (m)',ylabel='fall speed (m/s)')\n"
   ]
  },
  {
   "cell_type": "markdown",
   "id": "f20c7774-0e67-410b-90f2-807d53e71d20",
   "metadata": {},
   "source": [
    "### Question 3: Lohmann problem 4 page 250:\n",
    "\n",
    "  - Mixed-phase clouds contain ice crystals as well as liquid droplets. Consider such a cloud at a temperature $T=-4^{\\circ} \\mathrm{C}$, pressure $p=800 \\mathrm{hPa}$ and a humidity which corresponds to supersaturations with respect to ice of $5 \\%$ and with respect to water of $1 \\%$. In the cloud, an ice crystal and a droplet both grow by diffusion, each starting from mass $m_0=10^{-8} \\mathrm{~g}$. The ice crystal is a thin hexagonal plate, so that its capacitance can be approximated by $C=2 r_i / \\pi$, where $r_i$ is the radius of the ice crystal.\n",
    "\n",
    "$$\n",
    "\\frac{dm_i}{dt}=\\alpha_m \\frac{4 \\pi C\\left(S_i-1\\right)}{F_k^i+F_d^i}\n",
    "$$\n",
    "\n",
    "$$\n",
    "F_k^i=\\left(\\frac{L_s}{R_v T}-1\\right) \\frac{L_s}{K T}\n",
    "$$\n",
    "\n",
    "$$\n",
    "F_d^i=\\frac{R_v T}{D_v e_{s, i}(T)}\n",
    "$$"
   ]
  },
  {
   "cell_type": "markdown",
   "id": "d3ca6544-5743-4b47-8515-4f684a20d0b2",
   "metadata": {},
   "source": [
    "(a) Determine the times it takes for the droplet and the ice crystal to grow to a total mass $m_1=1.1 \\times 10^{-8} \\mathrm{~g}$. You can neglect solution and curvature effects when calculating the droplet growth. For the ice crystal, you can assume that its mass $m_i$ and diameter $d_i$ are related by $m_i=\\alpha d_i^3$, with $\\alpha=1.9 \\times 10^{-2} \\mathrm{~g} \\mathrm{~cm}^{-3}$."
   ]
  },
  {
   "cell_type": "markdown",
   "id": "a68496f9-703e-44e1-a0fc-433d13202e6d",
   "metadata": {},
   "source": [
    "Borrow code from Week 11:  {ref}`ice_saturation`"
   ]
  },
  {
   "cell_type": "code",
   "execution_count": 9,
   "id": "86fb71d9-c9a0-4d5c-a7c1-691c556617f6",
   "metadata": {},
   "outputs": [],
   "source": [
    "from a405.thermo.constants import constants as c\n",
    "\n",
    "def ls(temp):\n",
    "    ci_cpv = 212  #J/kg/K\n",
    "    ls0 = 2.834e6\n",
    "    lsval = -ci_cpv*(temp - c.Tp) + ls0\n",
    "    return lsval\n",
    "\n",
    "def eice_new(T):\n",
    "    \"\"\"\n",
    "    saturation vapor pressure with respect to ice\n",
    "\n",
    "    Parameters\n",
    "    ----------\n",
    "\n",
    "    T: temperature (K)\n",
    "\n",
    "    Returns\n",
    "    -------\n",
    "\n",
    "    eice_out: vapor pressure (Pa)\n",
    "    \n",
    "    \"\"\"\n",
    "    ci_cpv = 212  #J/kg/K\n",
    "    ls0 = 2.834e6\n",
    "    term1 = c.es0*100.*(c.Tp/T)**(ci_cpv/c.Rv)\n",
    "    term2 = ls0/(c.Rv*c.Tp)\n",
    "    ls = -ci_cpv*(T - c.Tp) + ls0\n",
    "    term3 = ls/(c.Rv*T)\n",
    "    eice_out=term1*np.exp((term2 - term3))\n",
    "    return eice_out"
   ]
  },
  {
   "cell_type": "markdown",
   "id": "6b0dc6e7-3ccb-4f16-9f55-19e639c17a09",
   "metadata": {},
   "source": [
    "### Ice crystal dmdt"
   ]
  },
  {
   "cell_type": "code",
   "execution_count": 14,
   "id": "149ed7b3-f364-463f-b1bd-5be02eac1809",
   "metadata": {},
   "outputs": [
    {
     "data": {
      "text/plain": [
       "7.620612516305804e-15"
      ]
     },
     "execution_count": 14,
     "metadata": {},
     "output_type": "execute_result"
    }
   ],
   "source": [
    "temp = c.Tc - 4\n",
    "lsval = ls(temp)\n",
    "esice = eice_new(temp)\n",
    "K = 0.024  #W/m/K\n",
    "D = 2.6e-5 #m^2/s\n",
    "alpham = 0.05\n",
    "alpha = 1.9e-2  #g/cm^3\n",
    "mass1 = 1.1e-8 #g\n",
    "radius1 = (mass1/(8*alpha))**(1./3.)\n",
    "C=2*radius1/np.pi  #cm\n",
    "thompkins_coefficient = D*esice/(c.rhol*c.Rv*temp)\n",
    "lohmann_FK = lsval**2/(K*c.Rv*temp**2.)\n",
    "lohmann_FD = 1/thompkins_coefficient\n",
    "S=1.05\n",
    "dmdt = alpham*4*np.pi*C*(S-1)/(lohmann_FK + lohmann_FD)\n",
    "dmdt"
   ]
  },
  {
   "cell_type": "markdown",
   "id": "4bc8ed4c-27d6-4e0e-a29e-2cf98161dd48",
   "metadata": {},
   "source": [
    "#### Water drop dmdt\n",
    "\n",
    "$$\n",
    "\\frac{d M}{d t}=4 \\pi D r\\left(\\rho_v(\\infty)-\\rho_v(r)\\right)\n",
    "$$"
   ]
  },
  {
   "cell_type": "code",
   "execution_count": 17,
   "id": "e8727ec1-7568-44ab-9eec-378b8585d7f9",
   "metadata": {},
   "outputs": [],
   "source": [
    "def esat_new(T):\n",
    "    \"\"\"\n",
    "    saturation vapor pressure with respect to liquid\n",
    "     \n",
    "    Parameters\n",
    "    ----------\n",
    "    \n",
    "    T: temperature (K)\n",
    "    \n",
    "    Returns\n",
    "    -------\n",
    "    \n",
    "    ear_out: vapor pressure (Pa)\n",
    "    \"\"\"\n",
    "    cl_cpv = 2180  #J/kg/K\n",
    "    term1 = c.es0*100.*(c.Tp/T)**(cl_cpv/c.Rv)\n",
    "    term2 = c.lv0/(c.Rv*c.Tp)\n",
    "    lv = -cl_cpv*(T - c.Tp) + c.lv0\n",
    "    term3 = lv/(c.Rv*T)\n",
    "    esat_out=term1*np.exp((term2 - term3))\n",
    "    return esat_out"
   ]
  },
  {
   "cell_type": "markdown",
   "id": "8c551b83-6930-445e-b2c5-4bf36bc69d3e",
   "metadata": {},
   "source": [
    "(b) Which of the two cloud particles grows faster? Explain the main reason for the difference in growth speed."
   ]
  },
  {
   "cell_type": "markdown",
   "id": "d847c4bb-dd27-4d9b-961a-6c51635e7f01",
   "metadata": {},
   "source": [
    "(c) How would the situation in the mixed-phase cloud change for supersaturation with respect to ice but subsaturation with respect to water? Explain qualitatively in a few sentences."
   ]
  },
  {
   "cell_type": "code",
   "execution_count": null,
   "id": "f385baf9-0d75-4e20-8100-ce5ecd7fdcc8",
   "metadata": {},
   "outputs": [],
   "source": []
  }
 ],
 "metadata": {
  "jupytext": {
   "formats": "ipynb,md:myst"
  },
  "kernelspec": {
   "display_name": "Python 3 (ipykernel)",
   "language": "python",
   "name": "python3"
  },
  "language_info": {
   "codemirror_mode": {
    "name": "ipython",
    "version": 3
   },
   "file_extension": ".py",
   "mimetype": "text/x-python",
   "name": "python",
   "nbconvert_exporter": "python",
   "pygments_lexer": "ipython3",
   "version": "3.11.7"
  }
 },
 "nbformat": 4,
 "nbformat_minor": 5
}
