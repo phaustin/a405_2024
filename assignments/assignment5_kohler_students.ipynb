{
 "cells": [
  {
   "cell_type": "markdown",
   "id": "3ba75c09",
   "metadata": {},
   "source": [
    "(kohler_problem)=\n",
    "# Kohler Problem"
   ]
  },
  {
   "cell_type": "code",
   "execution_count": 7,
   "id": "46896bea",
   "metadata": {},
   "outputs": [],
   "source": [
    "import json\n",
    "from pathlib import Path\n",
    "import numpy as np\n",
    "import matplotlib.pyplot as plt\n",
    "from scipy import optimize\n",
    "from a405.thermo.constants import constants as c\n",
    "import pooch"
   ]
  },
  {
   "cell_type": "markdown",
   "id": "38939792",
   "metadata": {},
   "source": [
    "## Question 1"
   ]
  },
  {
   "cell_type": "markdown",
   "id": "4a441d40",
   "metadata": {},
   "source": [
    "Plot the Kohler curve (Thompkins equation 4.15, and Fig. 4.13) for an aerosol:\n",
    "\n",
    "$$\n",
    "\\frac{e_\\chi}{e_s^\\infty} \\approx 1 + \\frac{a}{r} - \\frac{b}{r^3}\\tag{AT 4.15}\n",
    "$$\n",
    "\n",
    "\n",
    "$$\n",
    "a = \\frac{2\\sigma}{\\rho_l R_v T}\n",
    "$$\n",
    "\n",
    "$$\n",
    "b = \\frac{imM_w}{4/3\\pi \\rho_s M_s}\n",
    "$$"
   ]
  },
  {
   "cell_type": "markdown",
   "id": "25977004-539b-4388-a990-639e3a066a29",
   "metadata": {},
   "source": [
    "Download this [aerosol_file](https://www.dropbox.com/scl/fi/oiqcf3e910cocd8kxcuah/ammonium_sulphate.json?rlkey=igkpf2oycvc27kquriuge78fm&dl=0) into the same folder as  your notebook"
   ]
  },
  {
   "cell_type": "code",
   "execution_count": 2,
   "id": "a55aba77",
   "metadata": {},
   "outputs": [
    {
     "name": "stdout",
     "output_type": "stream",
     "text": [
      "{'Ms': 132, 'Mw': 18.0, 'Sigma': 0.075, 'vanHoff': 3.0, 'rho': 1775, 'mass': 1e-19, 'comments': 'ammonum sulfate (NH4)2SO4'}\n"
     ]
    }
   ],
   "source": [
    "# load the properties of ammonium sulphate from JSON file\n",
    "filename =  Path(\"ammonium_sulphate.json\")\n",
    "with open(filename) as infile:\n",
    "    ammonium_sulphate = json.load(infile)\n",
    "print(ammonium_sulphate)"
   ]
  },
  {
   "cell_type": "code",
   "execution_count": 3,
   "id": "f5b007ab",
   "metadata": {},
   "outputs": [],
   "source": [
    "def find_S(r, aerosol, T):\n",
    "    \"\"\"\n",
    "    calculates supersaturation S given an aerosol dictionary,\n",
    "    temperature T, and droplet radius r \n",
    "    uses Thompkins 4.15\n",
    "\n",
    "    Parameters\n",
    "    ----------\n",
    "    r: radius (me)\n",
    "    aerosol: dictionary with keys: Sigma (N/m^2), vanHoff (int), Mw (kg/kmole), Ms (kg/kmole), mass (kg)\n",
    "    T: temperature (K)\n",
    "\n",
    "    Returns\n",
    "    -------\n",
    "    S: supersaturation (unitless)\n",
    "    \n",
    "    \"\"\"\n",
    "    # your code here\n",
    "  \n",
    "    return S"
   ]
  },
  {
   "cell_type": "code",
   "execution_count": 4,
   "id": "9ee946ec",
   "metadata": {},
   "outputs": [],
   "source": [
    "# In this cell create a vector of radii r and use find_S to get the corresponding S values"
   ]
  },
  {
   "cell_type": "code",
   "execution_count": 5,
   "id": "24a16120",
   "metadata": {},
   "outputs": [],
   "source": [
    "# In this cell make an (x,y) plot of (r,S)"
   ]
  },
  {
   "cell_type": "markdown",
   "id": "d43351c8",
   "metadata": {},
   "source": [
    "## Question 2 -- rootfinding the equilibrium radius\n",
    "\n",
    "Use our rootfinder to find the equilibrium radius for a haze particle at a relative humidity of 90% and a temperature of 15 deg C"
   ]
  },
  {
   "cell_type": "code",
   "execution_count": 6,
   "id": "7fc8def9",
   "metadata": {},
   "outputs": [],
   "source": [
    "#In this cell write a function find_r that takes the arguments to find_S and a relative humidity RH\n",
    "# and changes sign when S crosses over that relative humidity \n",
    "# then use optimize.brentq to find the radius where S(r) = RH"
   ]
  },
  {
   "cell_type": "code",
   "execution_count": null,
   "id": "e2783ac4",
   "metadata": {},
   "outputs": [],
   "source": []
  }
 ],
 "metadata": {
  "jupytext": {
   "formats": "ipynb,md:myst"
  },
  "kernelspec": {
   "display_name": "Python 3 (ipykernel)",
   "language": "python",
   "name": "python3"
  },
  "language_info": {
   "codemirror_mode": {
    "name": "ipython",
    "version": 3
   },
   "file_extension": ".py",
   "mimetype": "text/x-python",
   "name": "python",
   "nbconvert_exporter": "python",
   "pygments_lexer": "ipython3",
   "version": "3.10.8"
  }
 },
 "nbformat": 4,
 "nbformat_minor": 5
}
