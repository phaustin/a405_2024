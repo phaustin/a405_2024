{
 "cells": [
  {
   "cell_type": "markdown",
   "id": "1e3098c6-1a54-4439-a8f6-0d9f07169a8e",
   "metadata": {},
   "source": [
    "(assignment_9)=\n",
    "# Assignment 9 -- precipitation. Due 11:59pm Tuesday April 9"
   ]
  },
  {
   "cell_type": "markdown",
   "id": "028c46d8-632d-4c6a-95eb-9df98f4bc048",
   "metadata": {},
   "source": [
    "## Wallace and Hobbs problems 6.21 and 6.24\n",
    "\n",
    "6.21: Derive an expression for the height h above\r",
    "cloud base of a droplet at time t that is\r",
    "growing by condensation only in a cloud with\r",
    "a steady updraft velocity w and\r",
    "supersaturation S. [Hint: Use (6.24) for the\r",
    "terminal fall speed of a droplet together\r",
    "with (6.21).]\n",
    "\n",
    "6.24: If a raindrop has a radius of 1 mm at cloud\r",
    "base, which is located 5 km above the ground,\r",
    "what will be its radius at the ground and\r",
    "how long will it take to reach the ground if\r",
    "the relative humidity between cloud base\r",
    "and ground is constant at 60%? [Hint: Use\r",
    "(6.21) and the relationship between v and r\r",
    "given in Exercise 6.23. If r is in micrometers,\r",
    "the value of Gl in (6.21) is 100 for cloud\r",
    "droplets, but for the large drop sizes\r",
    "considered in this problem the value of Gl\r",
    "should be taken as 700 to allow for\r",
    "ventilation effects.]"
   ]
  },
  {
   "cell_type": "markdown",
   "id": "99db3b54-ccfb-4aad-aa89-f172561f4576",
   "metadata": {},
   "source": [
    "Solve these problems twice:\n",
    "\n",
    "\n",
    "1. Derive the analytic expression by integrating the equation\n",
    "\n",
    "   $$\n",
    "   \\frac{dh}{dt} = w - v\n",
    "   $$\n",
    "   where h is the height, w is the updraft speed and v is the droplet fall speed\n",
    "\n",
    "2. For each problem, show  in cells below that this agrees with the numerical solution using the scipy odeint package"
   ]
  },
  {
   "cell_type": "code",
   "execution_count": null,
   "id": "448218df-5695-4b20-80d3-5ab6476cc2f4",
   "metadata": {},
   "outputs": [],
   "source": []
  }
 ],
 "metadata": {
  "jupytext": {
   "formats": "ipynb,md:myst"
  },
  "kernelspec": {
   "display_name": "Python 3 (ipykernel)",
   "language": "python",
   "name": "python3"
  },
  "language_info": {
   "codemirror_mode": {
    "name": "ipython",
    "version": 3
   },
   "file_extension": ".py",
   "mimetype": "text/x-python",
   "name": "python",
   "nbconvert_exporter": "python",
   "pygments_lexer": "ipython3",
   "version": "3.11.7"
  }
 },
 "nbformat": 4,
 "nbformat_minor": 5
}
