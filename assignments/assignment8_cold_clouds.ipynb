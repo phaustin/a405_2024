{
 "cells": [
  {
   "cell_type": "markdown",
   "id": "b5189ed6-255b-4f0e-9ac0-85506a676086",
   "metadata": {},
   "source": [
    "(assignment_8)=\n",
    "# Assignment 8 -- cold clouds"
   ]
  },
  {
   "cell_type": "markdown",
   "id": "713bfc19-e996-4e52-9ded-be80948cfa81",
   "metadata": {},
   "source": [
    "Questions 1 and 2: The two problems at the bottom of the {ref}`marshall_palmer` notebook\n",
    "\n",
    "\n",
    "Question 3: Lohmann problem 4 page 250:\n",
    "\n",
    "  - Mixed-phase clouds contain ice crystals as well as liquid droplets. Consider such a cloud at a temperature $T=-4^{\\circ} \\mathrm{C}$, pressure $p=800 \\mathrm{hPa}$ and a humidity which corresponds to supersaturations with respect to ice of $5 \\%$ and with respect to water of $1 \\%$. In the cloud, an ice crystal and a droplet both grow by diffusion, each starting from mass $m_0=10^{-8} \\mathrm{~g}$. The ice crystal is a thin hexagonal plate, so that its capacitance can be approximated by $C=2 r_i / \\pi$, where $r_i$ is the radius of the ice crystal.\n",
    "\n",
    "  (a) Determine the times it takes for the droplet and the ice crystal to grow to a total mass $m_1=1.1 \\times 10^{-8} \\mathrm{~g}$. You can neglect solution and curvature effects when calculating the droplet growth. For the ice crystal, you can assume that its mass $m_i$ and diameter $d_i$ are related by $m_i=\\alpha d_i^3$, with $\\alpha=1.9 \\times 10^{-2} \\mathrm{~g} \\mathrm{~cm}^{-3}$.\n",
    "\n",
    "  (b) Which of the two cloud particles grows faster? Explain the main reason for the difference in growth speed.\n",
    "\n",
    "  (c) How would the situation in the mixed-phase cloud change for supersaturation with respect to ice but subsaturation with respect to water? Explain qualitatively in a few sentences.\n"
   ]
  },
  {
   "cell_type": "code",
   "execution_count": null,
   "id": "923e3089-733a-4e44-a7cb-6044c18eafd3",
   "metadata": {},
   "outputs": [],
   "source": []
  }
 ],
 "metadata": {
  "jupytext": {
   "formats": "ipynb,md:myst"
  },
  "kernelspec": {
   "display_name": "Python 3 (ipykernel)",
   "language": "python",
   "name": "python3"
  },
  "language_info": {
   "codemirror_mode": {
    "name": "ipython",
    "version": 3
   },
   "file_extension": ".py",
   "mimetype": "text/x-python",
   "name": "python",
   "nbconvert_exporter": "python",
   "pygments_lexer": "ipython3",
   "version": "3.11.7"
  }
 },
 "nbformat": 4,
 "nbformat_minor": 5
}
