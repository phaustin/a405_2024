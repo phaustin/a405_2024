{
 "cells": [
  {
   "cell_type": "markdown",
   "id": "fb757bfd-109b-4aac-8a50-aebd3f12d4d4",
   "metadata": {},
   "source": [
    "# Assignment 6 solution"
   ]
  },
  {
   "cell_type": "markdown",
   "id": "aad5f93d-7344-4a3e-96f7-a9cc9fcbc43b",
   "metadata": {},
   "source": [
    "5) First confirm that $\\frac{\\delta^2 E}{\\delta r^2}=0$ at the critical radius:\n",
    "Inserting $\\Gamma^*=\\left(\\frac{3 b}{a}\\right)^{1 / 2}$ conto (8) on $p^2$\n",
    "$$\n",
    "\\begin{aligned}\n",
    "\\frac{\\delta^2 E}{\\partial r^2}= & -4 \\pi R_v T P_l\\left(2 a-\\frac{3 b a}{3 b}\\right)+8 \\pi \\sigma \\\\\n",
    "& =-4 \\pi R_v T P_l a+8 \\pi \\sigma\n",
    "\\end{aligned}\n",
    "$$\n",
    "but $a=\\frac{26}{R_V T R_l}$ so\n",
    "$$\n",
    "\\frac{\\delta^2 E}{\\delta r^2}=-4 \\pi R_V T R \\frac{2 \\sigma}{R_V T R e}+8 \\pi \\sigma=-8 \\pi \\sigma+8 \\pi \\sigma=0\n",
    "$$"
   ]
  },
  {
   "cell_type": "markdown",
   "id": "a40a6080-4147-435f-bef0-89dbfc97ef16",
   "metadata": {},
   "source": [
    "We walt to conform that $\\frac{\\delta^2 E}{\\delta r^2}<0$ (unstable) for $r>r^*$ and $\\frac{\\delta^2 E}{\\delta r^2}>0$ (stale)\n",
    "for $r<r^*$.\n",
    "That is equivalent to showing that $\\frac{\\delta}{\\delta r}\\left(\\frac{\\delta^2 E}{\\delta r^2}\\right)<0$ at $r=r_B=$"
   ]
  },
  {
   "cell_type": "markdown",
   "id": "4b4245bc-0b99-44ea-9d62-71abbde926e3",
   "metadata": {},
   "source": [
    "Sure enough:\n",
    "$$\n",
    "\\begin{aligned}\n",
    "& \\frac{\\delta}{\\delta r}\\left(\\frac{\\delta^2 E}{\\delta r^2}\\right)=\\frac{\\delta}{\\delta r}\\left(-4 \\pi R_V T \\rho_l\\left(-\\frac{3 b}{r^2}\\right)\\right) \\\\\n",
    "& =-\\delta \\pi R_V T \\rho_l \\frac{3 b}{\\Gamma^3}<0 \\text { at } r=i_* .\n",
    "\\end{aligned}\n",
    "$$"
   ]
  },
  {
   "cell_type": "markdown",
   "id": "8e9a4a4e-3f71-4ce5-b665-cec3bfe74b64",
   "metadata": {},
   "source": [
    "- Given the critical supersaturation:\n",
    "\n",
    "$$\n",
    "  S^* - 1= \\left ( \\frac{4 a^3}{27b} \\right )^{1/2}\n",
    "$$(scrit)\n",
    "\n",
    "show that this implies, for $(NH_4)_2 SO_4$, density $\\rho_{aer}$= 1775\n",
    "$kg\\ m^{-3}$, i=3, that:\n",
    "\n",
    "\\begin{equation}\n",
    "  \\label{scrit2}\n",
    "  S^* -1 \\approx 1.54 \\times 10^{-12}~ m_{aer}^{-0.5}\n",
    "\\end{equation}\n",
    "where $m_{aer}$ is the ammonium sulphate aerosol mass in kg.\n"
   ]
  },
  {
   "cell_type": "markdown",
   "id": "e03b8e9e-9ad1-4135-b837-45f814c67bfb",
   "metadata": {},
   "source": [
    "Insert the definition of b into {eq}`scrit`:\n",
    "\n",
    "$$\n",
    "(S^* - 1 ) = \\left (\\frac{4a^3 4/3 \\pi r^3 \\rho_l}{27 i M_w} \\right )^{1/2}  m_{aer}^{-1/2}\n",
    "$$\n",
    "\n",
    "- Suppose a diffusion chamber measures a cumluative number concentration\n",
    "as a function of saturation and finds:\n",
    "\n",
    "$$\n",
    "  N = 10^9 (S^* -1)^{0.5}\n",
    "$$(dist)\n",
    "where:\n",
    "\n",
    "\\begin{equation}\n",
    "  \\label{cumnum}\n",
    "  N(D)= \\int_D^\\infty n_d(D^\\prime)\\, dD^\\prime = \\int_D^\\infty n_l(D^\\prime)\\,\\mathrm{dlog} D^\\prime\n",
    "\\end{equation}\n",
    "\n",
    "where\n",
    "N(D) is the cumulative number distribution, i.e.  the concentration\n",
    "(units: \\un{m^{-3}}) of all activated\n",
    "aerosols with dry diameters greater than D measured in (\\ref{dist}), \n",
    "$n_d = - dN/dD$ and $n_l(D)$= - dN/dlog(D).\n",
    "\n",
    "\n",
    "Use {eq}`dist` and {ref}`scrit2` to find an equation for the \n",
    "aerosol number distribution $n_d$ or\n",
    "(alternatively $n_l(D)$= - dN/dlog(D))."
   ]
  },
  {
   "cell_type": "markdown",
   "id": "3bad1a9f-9855-469d-a890-8e68e93abcbd",
   "metadata": {},
   "source": [
    "\n",
    "- Assume $S^* - 1$ goes from 0.1 to 1\\%, and use 5 size bins in dlog(D)\n",
    "that span the diameter range ($0.01 < D < 0.15\\ \\mum$) to get number\n",
    "and mass concentrations in 5 different size classes. \n",
    "\n",
    "(To check\n",
    "your answer, note that I get a total aerosol mass with $0.01 < D < 0.1\\ \\mum$\n",
    "of $\\approx 0.02\\ \\un{\\mu g \\, m^{-3}}$ and total aerosol number concentration in the\n",
    "same size range of $\\approx 185 \\times 10^6\\ \\un{m^{-3}}$).\n"
   ]
  },
  {
   "cell_type": "code",
   "execution_count": null,
   "id": "c541f645-a529-40a4-9494-7835954ef96b",
   "metadata": {},
   "outputs": [],
   "source": []
  }
 ],
 "metadata": {
  "kernelspec": {
   "display_name": "Python 3 (ipykernel)",
   "language": "python",
   "name": "python3"
  },
  "language_info": {
   "codemirror_mode": {
    "name": "ipython",
    "version": 3
   },
   "file_extension": ".py",
   "mimetype": "text/x-python",
   "name": "python",
   "nbconvert_exporter": "python",
   "pygments_lexer": "ipython3",
   "version": "3.11.7"
  }
 },
 "nbformat": 4,
 "nbformat_minor": 5
}
