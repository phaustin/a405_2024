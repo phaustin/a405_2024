{
 "cells": [
  {
   "cell_type": "markdown",
   "id": "474fc475",
   "metadata": {},
   "source": [
    "# Adiabatic Box -- preliminary\n",
    "\n",
    "Due (upload to canvas) Friday, Jan 19 at 5pm\n",
    "\n",
    "There will be a new version of this notebook released early next week that will be compatible with our notebook grading software."
   ]
  },
  {
   "cell_type": "markdown",
   "id": "6bf6291f",
   "metadata": {},
   "source": [
    "## Notebook practice\n",
    "\n",
    "    \n",
    "Write a function called \"eqstate\" that calculates the density of dry air.  Use it to find the dry air density\n",
    "at a pressure of 80 kPa and temperatures of temp=[270, 280, 290] K"
   ]
  },
  {
   "cell_type": "code",
   "execution_count": null,
   "id": "491760c8",
   "metadata": {},
   "outputs": [],
   "source": [
    "def eqstate(Temp,Press):\n",
    "    dens = xxx\n",
    "    return dens"
   ]
  },
  {
   "cell_type": "markdown",
   "id": "73e88115",
   "metadata": {},
   "source": [
    "## Assignment\n",
    "\n",
    "The figure below represents an insulated box with two\n",
    "compartments A and B, each containing dry air. They are separated by\n",
    "an insulating and perfectly flexible wall, so that the pressure is\n",
    "equal on the two sides. Initially each compartment measures one $m^3$ and\n",
    "the gas is at a pressure of 100 kPa and a temperature of 273 K. Heat\n",
    "is then supplied to the gas in box A using a resistor, until the\n",
    "pressure in both compartments rises to 300 kPa. Calculate:\n",
    "\n",
    "1. The final temperature  $T_B$ (K) in box B\n",
    "\n",
    "2. The time integrated work ($J\\,kg^{-1}$) performed on the air in B by the\n",
    "   membrane.\n",
    "\n",
    "3. The final temperature $T_A$ (K) in box A\n",
    "\n",
    "4. The time-integrated heating rate ($J kg^{-1}$) of the gas in box A.\n",
    "\n",
    "Hint: use the fact that entropy (and therefore $\\theta$ ) is conserved for an adiabatic process and therefore can't change in compartment B, and\n",
    "that the total volume of the combined compartments A and B has to stay constant at 2 $m^3$."
   ]
  },
  {
   "cell_type": "markdown",
   "id": "fba065db",
   "metadata": {},
   "source": [
    "```{image} images/insulated_box.png\n",
    "```"
   ]
  }
 ],
 "metadata": {
  "jupytext": {
   "formats": "ipynb,md:myst"
  },
  "kernelspec": {
   "display_name": "Python 3 (ipykernel)",
   "language": "python",
   "name": "python3"
  },
  "language_info": {
   "codemirror_mode": {
    "name": "ipython",
    "version": 3
   },
   "file_extension": ".py",
   "mimetype": "text/x-python",
   "name": "python",
   "nbconvert_exporter": "python",
   "pygments_lexer": "ipython3",
   "version": "3.11.6"
  }
 },
 "nbformat": 4,
 "nbformat_minor": 5
}
