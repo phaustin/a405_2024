{
 "cells": [
  {
   "cell_type": "markdown",
   "id": "59ffaece-53f1-4af2-bf7c-b562b2f0e1f4",
   "metadata": {},
   "source": [
    "# Adiabatic Box -- preliminary\n",
    "\n",
    "Due (upload to canvas) Friday, Jan 19 before midnight\n",
    "\n",
    "### Your name and student number:\n",
    "\n",
    "## Table of Contents\n",
    "\n",
    "<div class=\"toc\" style=\"margin-top: 1em;\"><ul class=\"toc-item\"><li><span><a href=\"#Notebook-practice\" data-toc-modified-id=\"Notebook-practice-1\"><span class=\"toc-item-num\">1&nbsp;&nbsp;</span>Notebook practice</a></span></li><li><span><a href=\"#Adiabatic-box\" data-toc-modified-id=\"Adiabatic-box-2\"><span class=\"toc-item-num\">2&nbsp;&nbsp;</span>Adiabatic box</a></span></li></ul></div>"
   ]
  },
  {
   "cell_type": "markdown",
   "id": "e517a8d7-be48-4fda-a269-3a1795cb3352",
   "metadata": {},
   "source": [
    "### Variables checklist\n",
    "The assessment of the following question will depend on the definition of the following variables. Make sure that you have defined each variable correctly. Incorrectly named or misspelled variables will receive zero marks.\n",
    "\n",
    "> <div class=\"alert alert-block alert-warning\"> Provide a variable definition for each of the following variable names. Make sure your variables are spelled <b>exactly</b> as listed or you will lose marks in the autograde. </div>\n",
    "\n",
    "- [ ] `final_temperature_b`, 1D array, dtype=float\n",
    "\n",
    "- [ ] `final_work_on_box_b`, 1D array, dtype=float\n",
    "\n",
    "- [ ] `final_temperature_a`, 1D array, dtype=float\n",
    "\n",
    "- [ ] `heating_rate_a`, 1D array, dtype=float\n",
    "\n",
    "\n",
    "Specifically, we will run your notebook and look for a numpy array with the name `final_temperature_b`. It should be a numpy array of length 1, that is\n",
    "\n",
    "`final_temperature_b[0]` should yieled  your answer for the final temperature of compartment b\n",
    "\n",
    "Note that in this and in future labs you might want to define additional variables for intermediate or preparatory steps in calculations. In these cases the choice of variable names are up to you, but good programming practice would choose names that are descriptive/meaningful. The content of these variables are not explicitly graded."
   ]
  },
  {
   "cell_type": "markdown",
   "id": "a2a9ce7d-d490-4fa3-9df4-f69703894782",
   "metadata": {},
   "source": [
    "### Submitting Your Assignment\n",
    "\n",
    "> **To hand in the assignment**, download your final copy of your Jupyter Notebook as an `.ipynb` file.\n",
    "> \n",
    "> **Upload** the `.ipynb` to Canvas under the link in Assignments for this week."
   ]
  },
  {
   "cell_type": "markdown",
   "id": "da4f5bf0-373e-4e13-9182-8123f24bfbd8",
   "metadata": {
    "jp-MarkdownHeadingCollapsed": true
   },
   "source": [
    "## Notebook practice\n",
    "    \n",
    "Write a function called `eqstate` that calculates the density of dry air.  Use it to find the dry air density\n",
    "at a pressure of 80 kPa and temperatures of `temperatures`=[270, 280, 290] K\n",
    "<br>\n",
    "```python\n",
    "def eqstate(temperature, pressure):\n",
    "    density = # your code here\n",
    "    return density\n",
    "```\n",
    "<br>"
   ]
  },
  {
   "cell_type": "markdown",
   "id": "e0b1edeb-04b9-46a4-8f81-27e4be491f67",
   "metadata": {},
   "source": [
    "## Assignment\n",
    "\n",
    "The figure below represents an insulated box with two\n",
    "compartments A and B, each containing dry air. They are separated by\n",
    "an insulating and perfectly flexible wall, so that the pressure is\n",
    "equal on the two sides. Initially each compartment measures one $m^3$ and\n",
    "the gas is at a pressure of 100 kPa and a temperature of 273 K. Heat\n",
    "is then supplied to the gas in box A using a resistor, until the\n",
    "pressure in both compartments rises to 300 kPa. Calculate:\n",
    "\n",
    "1. The final temperature  $T_B$ (K) in box B\n",
    "\n",
    "2. The time integrated work ($J\\,kg^{-1}$) performed on the air in B by the\n",
    "   membrane.\n",
    "\n",
    "3. The final temperature $T_A$ (K) in box A\n",
    "\n",
    "4. The time-integrated heating rate ($J kg^{-1}$) of the gas in box A.\n",
    "\n",
    "Hint: use the fact that entropy (and therefore $\\theta$ ) is conserved for an adiabatic process and therefore can't change in compartment B, and\n",
    "that the total volume of the combined compartments A and B has to stay constant at 2 $m^3$.\n",
    "\n",
    "+++"
   ]
  },
  {
   "cell_type": "code",
   "execution_count": 8,
   "id": "54f4dd48-fc17-439e-8e60-3bb5fb0882a0",
   "metadata": {},
   "outputs": [],
   "source": [
    "# your code here"
   ]
  },
  {
   "cell_type": "code",
   "execution_count": 6,
   "id": "c6079645-4172-4a4c-ada2-82858a628d76",
   "metadata": {},
   "outputs": [],
   "source": [
    "# your code here"
   ]
  },
  {
   "cell_type": "markdown",
   "id": "3bd2abe5-6be9-492f-a91c-e2d06a5a23d4",
   "metadata": {},
   "source": [
    "![title](images/insulated_box.png)"
   ]
  },
  {
   "cell_type": "code",
   "execution_count": null,
   "id": "9b882358-185e-498f-afe7-fc95dcb23557",
   "metadata": {},
   "outputs": [],
   "source": []
  },
  {
   "cell_type": "markdown",
   "id": "e7e318c2-c7ef-4137-a6a3-3023404a099a",
   "metadata": {},
   "source": [
    "![title](images/insulated_box.png)"
   ]
  },
  {
   "cell_type": "code",
   "execution_count": null,
   "id": "5c382812-6b81-47ff-9d48-eb5aec4d45d8",
   "metadata": {},
   "outputs": [],
   "source": []
  }
 ],
 "metadata": {
  "kernelspec": {
   "display_name": "Python 3 (ipykernel)",
   "language": "python",
   "name": "python3"
  },
  "language_info": {
   "codemirror_mode": {
    "name": "ipython",
    "version": 3
   },
   "file_extension": ".py",
   "mimetype": "text/x-python",
   "name": "python",
   "nbconvert_exporter": "python",
   "pygments_lexer": "ipython3",
   "version": "3.11.6"
  }
 },
 "nbformat": 4,
 "nbformat_minor": 5
}
