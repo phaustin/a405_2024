{
 "cells": [
  {
   "cell_type": "markdown",
   "metadata": {
    "toc": true
   },
   "source": [
    "<h1>Table of Contents<span class=\"tocSkip\"></span></h1>\n",
    "<div class=\"toc\" style=\"margin-top: 1em;\"><ul class=\"toc-item\"><li><span><a href=\"#Supress-autoscrolling\" data-toc-modified-id=\"Supress-autoscrolling-1\"><span class=\"toc-item-num\">1&nbsp;&nbsp;</span>Supress autoscrolling</a></span></li><li><span><a href=\"#Write-out-a-single-sounding-to-a-csv-file-for-future-work\" data-toc-modified-id=\"Write-out-a-single-sounding-to-a-csv-file-for-future-work-2\"><span class=\"toc-item-num\">2&nbsp;&nbsp;</span>Write out a single sounding to a csv file for future work</a></span></li><li><span><a href=\"#turn-off-log(0)-warning\" data-toc-modified-id=\"turn-off-log(0)-warning-3\"><span class=\"toc-item-num\">3&nbsp;&nbsp;</span>turn off log(0) warning</a></span></li><li><span><a href=\"#find-the-$\\theta_{es}$-of-the--LCL\" data-toc-modified-id=\"find-the-$\\theta_{es}$-of-the--LCL-4\"><span class=\"toc-item-num\">4&nbsp;&nbsp;</span>find the $\\theta_{es}$ of the  LCL</a></span><ul class=\"toc-item\"><li><span><a href=\"#What-is-the-LCL-of-this-air?\" data-toc-modified-id=\"What-is-the-LCL-of-this-air?-4.1\"><span class=\"toc-item-num\">4.1&nbsp;&nbsp;</span>What is the LCL of this air?</a></span></li></ul></li><li><span><a href=\"#Use-the-new-routine-tinvert_thetae-to-rootfind-the-mixture-temperature\" data-toc-modified-id=\"Use-the-new-routine-tinvert_thetae-to-rootfind-the-mixture-temperature-5\"><span class=\"toc-item-num\">5&nbsp;&nbsp;</span>Use the new routine tinvert_thetae to rootfind the mixture temperature</a></span><ul class=\"toc-item\"><li><span><a href=\"#find-the-density-of-100-mixtures-of-cloud-and-environment-at-600-hPa\" data-toc-modified-id=\"find-the-density-of-100-mixtures-of-cloud-and-environment-at-600-hPa-5.1\"><span class=\"toc-item-num\">5.1&nbsp;&nbsp;</span>find the density of 100 mixtures of cloud and environment at 600 hPa</a></span></li></ul></li></ul></div>"
   ]
  },
  {
   "cell_type": "markdown",
   "metadata": {},
   "source": [
    "# Supress autoscrolling"
   ]
  },
  {
   "cell_type": "code",
   "execution_count": 1,
   "metadata": {},
   "outputs": [
    {
     "data": {
      "application/javascript": [
       "IPython.OutputArea.prototype._should_scroll = function(lines) {\n",
       "    return false;\n",
       "}\n"
      ],
      "text/plain": [
       "<IPython.core.display.Javascript object>"
      ]
     },
     "metadata": {},
     "output_type": "display_data"
    }
   ],
   "source": [
    "%%javascript\n",
    "IPython.OutputArea.prototype._should_scroll = function(lines) {\n",
    "    return false;\n",
    "}"
   ]
  },
  {
   "cell_type": "code",
   "execution_count": 2,
   "metadata": {},
   "outputs": [
    {
     "ename": "ModuleNotFoundError",
     "evalue": "No module named 'a500'",
     "output_type": "error",
     "traceback": [
      "\u001b[0;31m---------------------------------------------------------------------------\u001b[0m",
      "\u001b[0;31mModuleNotFoundError\u001b[0m                       Traceback (most recent call last)",
      "Cell \u001b[0;32mIn[2], line 7\u001b[0m\n\u001b[1;32m      4\u001b[0m \u001b[38;5;28;01mimport\u001b[39;00m \u001b[38;5;21;01mnumpy\u001b[39;00m \u001b[38;5;28;01mas\u001b[39;00m \u001b[38;5;21;01mnp\u001b[39;00m\n\u001b[1;32m      5\u001b[0m \u001b[38;5;28;01mimport\u001b[39;00m \u001b[38;5;21;01mjson\u001b[39;00m\n\u001b[0;32m----> 7\u001b[0m \u001b[38;5;28;01mfrom\u001b[39;00m \u001b[38;5;21;01ma500\u001b[39;00m\u001b[38;5;21;01m.\u001b[39;00m\u001b[38;5;21;01mthermo\u001b[39;00m\u001b[38;5;21;01m.\u001b[39;00m\u001b[38;5;21;01mconstants\u001b[39;00m \u001b[38;5;28;01mimport\u001b[39;00m constants \u001b[38;5;28;01mas\u001b[39;00m c\n\u001b[1;32m      8\u001b[0m \u001b[38;5;28;01mfrom\u001b[39;00m \u001b[38;5;21;01ma500\u001b[39;00m\u001b[38;5;21;01m.\u001b[39;00m\u001b[38;5;21;01mthermo\u001b[39;00m\u001b[38;5;21;01m.\u001b[39;00m\u001b[38;5;21;01mthermlib\u001b[39;00m \u001b[38;5;28;01mimport\u001b[39;00m convertSkewToTemp, convertTempToSkew\n\u001b[1;32m      9\u001b[0m \u001b[38;5;28;01mfrom\u001b[39;00m \u001b[38;5;21;01ma500\u001b[39;00m\u001b[38;5;21;01m.\u001b[39;00m\u001b[38;5;21;01mskewT\u001b[39;00m\u001b[38;5;21;01m.\u001b[39;00m\u001b[38;5;21;01mfullskew\u001b[39;00m \u001b[38;5;28;01mimport\u001b[39;00m makeSkewWet,find_corners,make_default_labels\n",
      "\u001b[0;31mModuleNotFoundError\u001b[0m: No module named 'a500'"
     ]
    }
   ],
   "source": [
    "import numpy as np\n",
    "import pandas as pd\n",
    "from pprint import pformat\n",
    "import numpy as np\n",
    "import json\n",
    "\n",
    "from a500.thermo.constants import constants as c\n",
    "from a500.thermo.thermlib import convertSkewToTemp, convertTempToSkew\n",
    "from a500.skewT.fullskew import makeSkewWet,find_corners,make_default_labels"
   ]
  },
  {
   "cell_type": "code",
   "execution_count": null,
   "metadata": {},
   "outputs": [],
   "source": [
    "from a500.soundings.wyominglib import write_soundings, read_soundings\n",
    "from matplotlib import pyplot as plt"
   ]
  },
  {
   "cell_type": "markdown",
   "metadata": {},
   "source": [
    "# Write out a single sounding to a csv file for future work\n",
    "\n",
    "set get_data=True the first time through, then False for subsequent runs with the stored sounding in save_sounding.csv and metada.json"
   ]
  },
  {
   "cell_type": "code",
   "execution_count": null,
   "metadata": {
    "scrolled": true
   },
   "outputs": [],
   "source": [
    "get_data=True\n",
    "metafile='metadata.json'\n",
    "soundingfile='save_sounding.csv'\n",
    "if get_data:\n",
    "    values=dict(region='naconf',year='2012',month='7',start='0100',stop='3000',station='72340')\n",
    "    write_soundings(values, 'littlerock')\n",
    "    soundings= read_soundings('littlerock')\n",
    "    the_time=(2012,7,17,0)\n",
    "    sounding=soundings['sounding_dict'][the_time]\n",
    "    sounding.to_csv(soundingfile)\n",
    "    title_string=soundings['attributes']['header']\n",
    "    index=title_string.find(' Observations at')\n",
    "    location=title_string[:index]\n",
    "    print(f'location: {location}')\n",
    "    units=soundings['attributes']['units'].split(';')\n",
    "    units_dict={}\n",
    "    for count,var in enumerate(sounding.columns[1:]):\n",
    "        units_dict[var]=units[count]\n",
    "    soundings['attributes']['location']=location\n",
    "    soundings['attributes']['units']=units\n",
    "    soundings['attributes']['time']=the_time\n",
    "    soundings['attributes']['history']='written by mixing_line_calc'\n",
    "    with open(metafile,'w') as outfile:\n",
    "        json.dump(soundings['attributes'],outfile,indent=4)\n",
    "    attributes=soundings['attributes']\n",
    "else:\n",
    "    sounding = pd.read_csv(soundingfile)\n",
    "    with open(metafile,'r') as infile:\n",
    "        attributes=json.load(infile)\n",
    "        \n",
    "    "
   ]
  },
  {
   "cell_type": "markdown",
   "metadata": {},
   "source": [
    "# turn off log(0) warning"
   ]
  },
  {
   "cell_type": "code",
   "execution_count": null,
   "metadata": {},
   "outputs": [],
   "source": [
    "np.seterr(all='ignore');"
   ]
  },
  {
   "cell_type": "markdown",
   "metadata": {},
   "source": [
    "# find the $\\theta_{es}$ of the  LCL"
   ]
  },
  {
   "cell_type": "code",
   "execution_count": null,
   "metadata": {},
   "outputs": [],
   "source": [
    "from a405.thermo.thermlib import find_Tmoist,find_thetaep,find_rsat,find_Tv,find_lcl,find_thetaes,find_thetaet\n",
    "#\n",
    "# find thetae of the surface air, at index 0\n",
    "#\n",
    "sfc_press,sfc_temp,sfc_td =[sounding[key][0] for key in ['pres','temp','dwpt']]\n",
    "#\n",
    "sfc_press,sfc_temp,sfc_td = sfc_press*100.,sfc_temp+c.Tc,sfc_td+c.Tc"
   ]
  },
  {
   "cell_type": "markdown",
   "metadata": {},
   "source": [
    "## What is the LCL of this air?"
   ]
  },
  {
   "cell_type": "code",
   "execution_count": null,
   "metadata": {},
   "outputs": [],
   "source": [
    "Tlcl, plcl=find_lcl(sfc_td, sfc_temp,sfc_press)"
   ]
  },
  {
   "cell_type": "code",
   "execution_count": null,
   "metadata": {},
   "outputs": [],
   "source": [
    "print(f'found Tlcl={Tlcl} K, plcl={plcl} Pa')"
   ]
  },
  {
   "cell_type": "code",
   "execution_count": null,
   "metadata": {},
   "outputs": [],
   "source": [
    "#  convert to mks and find surface rv and thetae\n",
    "#\n",
    "sfc_rvap = find_rsat(sfc_td,sfc_press)\n",
    "lcl_rvap = find_rsat(Tlcl,plcl)\n",
    "sfc_thetae=find_thetaes(Tlcl,plcl)\n",
    "press=sounding['pres'].values*100.\n",
    "#\n",
    "# find the index for 100 hPa pressure -- searchsorted requires\n",
    "# the pressure array to be increasing, so flip it for the search,\n",
    "# then flip the index.  Above 100 hPa thetae goes bananas, so\n",
    "# so trim so we only have good values\n",
    "#\n",
    "toplim=len(press) - np.searchsorted(press[::-1],.7e4)\n",
    "clipped_press=press[:toplim]\n",
    "#\n",
    "# find temps along that adiabat\n",
    "#\n",
    "adia_temps= np.array([find_Tmoist(sfc_thetae,the_press) \n",
    "                      for the_press in clipped_press])\n",
    "#\n",
    "# find the liquid water content for the adiabat by subtracting\n",
    "# the vapor mixing ratio from the sfc mixing ratio\n",
    "#\n",
    "adia_rvaps = find_rsat(adia_temps,clipped_press)\n",
    "adia_rls = sfc_rvap - adia_rvaps\n",
    "env_temps = (sounding['temp'].values + c.Tc)[:toplim]\n",
    "env_Td = (sounding['dwpt'].values + c.Tc)[:toplim]\n",
    "height = sounding['hght'].values[:toplim]\n",
    "pairs = zip(env_Td,clipped_press)\n",
    "env_rvaps= np.array([find_rsat(td,the_press) for td,the_press in pairs])\n",
    "env_Tv = find_Tv(env_temps,env_rvaps)\n",
    "adia_Tv = find_Tv(adia_temps,adia_rvaps,adia_rls)\n",
    "press_hPa = clipped_press*1.e-2"
   ]
  },
  {
   "cell_type": "markdown",
   "metadata": {},
   "source": [
    "# Use the new routine tinvert_thetae to rootfind the mixture temperature"
   ]
  },
  {
   "cell_type": "code",
   "execution_count": null,
   "metadata": {},
   "outputs": [],
   "source": [
    "from a405.thermo.thermlib import tinvert_thetae"
   ]
  },
  {
   "cell_type": "markdown",
   "metadata": {},
   "source": [
    "## find the density of 100 mixtures of cloud and environment at 600 hPa"
   ]
  },
  {
   "cell_type": "code",
   "execution_count": null,
   "metadata": {},
   "outputs": [],
   "source": [
    "mix_level=np.searchsorted(clipped_press[::-1],600.e2)\n",
    "index=len(clipped_press) - mix_level\n",
    "mix_press = clipped_press[index]\n",
    "print('pressure, {:5.3g} hPa  dewpoint {:5.3g} K , temp {:5.3g} K'\\\n",
    "     .format(clipped_press[index]*1.e-2,env_Td[index],env_temps[index]))\n",
    "env_rvap = env_rvaps[index]\n",
    "env_thetae = find_thetaet(env_Td[index],env_rvaps[index],env_temps[index],\\\n",
    "                          clipped_press[index])\n",
    "print(f'cloud thetae {sfc_thetae:5.3f} K, env_thetae {env_thetae:5.3f} K')\n",
    "#\n",
    "# make 100 mixtures\n",
    "#\n",
    "fenv=np.linspace(0,1,100)\n",
    "logthetae_mix = fenv*np.log(env_thetae) + (1 - fenv)*np.log(sfc_thetae)\n",
    "rTot_mix = fenv*env_rvap  + (1 - fenv)*sfc_rvap\n",
    "thetae_mix = np.exp(logthetae_mix)\n",
    "pairs = zip(thetae_mix,rTot_mix)\n",
    "Tvlist = []\n",
    "#\n",
    "# find the virtual temperature for each mixture\n",
    "#\n",
    "for thetae,rtot in pairs:\n",
    "    temp,rv,rl = tinvert_thetae(thetae,rtot,mix_press)\n",
    "    Tvlist.append(find_Tv(temp,rv,rl))\n",
    "fig,ax = plt.subplots(1,1,figsize=(10,8))\n",
    "ax.plot(fenv,Tvlist)\n",
    "title='cloud environment mixing at {:5.2f} hPa'.format(clipped_press[index]*1.e-2)\n",
    "out=ax.set(xlabel='fraction of environmental air',ylabel='Mixture Tv (K)',title=title)\n",
    "ax.grid(True,which='both')"
   ]
  },
  {
   "cell_type": "code",
   "execution_count": null,
   "metadata": {},
   "outputs": [],
   "source": []
  }
 ],
 "metadata": {
  "kernelspec": {
   "display_name": "Python 3 (ipykernel)",
   "language": "python",
   "name": "python3"
  },
  "language_info": {
   "codemirror_mode": {
    "name": "ipython",
    "version": 3
   },
   "file_extension": ".py",
   "mimetype": "text/x-python",
   "name": "python",
   "nbconvert_exporter": "python",
   "pygments_lexer": "ipython3",
   "version": "3.11.7"
  },
  "toc": {
   "nav_menu": {},
   "number_sections": true,
   "sideBar": false,
   "skip_h1_title": false,
   "toc_cell": true,
   "toc_position": {},
   "toc_section_display": "block",
   "toc_window_display": false
  }
 },
 "nbformat": 4,
 "nbformat_minor": 4
}
