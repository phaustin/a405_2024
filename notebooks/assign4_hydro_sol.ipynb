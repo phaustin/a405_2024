{
 "cells": [
  {
   "cell_type": "markdown",
   "id": "34ed791f",
   "metadata": {},
   "source": [
    "(assign4_hydro_sol)=\n",
    "# Assignment 4 solution, integrated vapor path"
   ]
  },
  {
   "cell_type": "markdown",
   "id": "ede804c8",
   "metadata": {},
   "source": [
    "## Read soundings into pandas\n",
    "\n",
    "There are five different average profiles for the tropics, subarctic summer, subarctic winter, midlatitude summer, midlatitude winter.  These are called the US Standard Atmospheres.  This notebook shows how to read and plot the soundings, and calculate the pressure and density scale heights."
   ]
  },
  {
   "cell_type": "code",
   "execution_count": null,
   "id": "0f420afb",
   "metadata": {},
   "outputs": [],
   "source": [
    "from matplotlib import pyplot as plt\n",
    "import matplotlib.ticker as ticks\n",
    "import pdb\n",
    "import numpy as np\n",
    "import a301_lib\n",
    "from pprint import pprint,pformat\n",
    "import pandas as pd\n",
    "import json\n",
    "from pathlib import Path"
   ]
  },
  {
   "cell_type": "markdown",
   "id": "e43150bc",
   "metadata": {},
   "source": [
    "## Reuse code from {ref}`scale_heights` notebook\n",
    "\n",
    "Read the csv files and make a dictionary call"
   ]
  },
  {
   "cell_type": "code",
   "execution_count": null,
   "id": "0291ddb0",
   "metadata": {},
   "outputs": [],
   "source": [
    "soundings_folder= a301_lib.data_share / Path('soundings')\n",
    "sounding_files = list(soundings_folder.glob(\"*csv\"))"
   ]
  },
  {
   "cell_type": "markdown",
   "id": "65fac227",
   "metadata": {},
   "source": [
    "### use the stem of the filename as a dictionary key"
   ]
  },
  {
   "cell_type": "code",
   "execution_count": null,
   "id": "7c004a43",
   "metadata": {},
   "outputs": [],
   "source": [
    "sound_dict={}\n",
    "for item in sounding_files:\n",
    "    sound_dict[item.stem]=pd.read_csv(item)\n",
    "    print(f\"{item.stem}\\n\"\n",
    "          f\"{sound_dict[item.stem].head()}\")"
   ]
  },
  {
   "cell_type": "markdown",
   "id": "a874dc9b",
   "metadata": {},
   "source": [
    "We use these keys to get a dataframe with 6 columns, and 33 levels.  Here's an example for the midsummer sounding"
   ]
  },
  {
   "cell_type": "code",
   "execution_count": null,
   "id": "72bb21d6",
   "metadata": {},
   "outputs": [],
   "source": [
    "midsummer=sound_dict['midsummer']\n",
    "print(midsummer.head())\n",
    "list(midsummer.columns)"
   ]
  },
  {
   "cell_type": "markdown",
   "id": "cd53dd38",
   "metadata": {},
   "source": [
    "### Plot  temp and vapor mixing ratio rmix ($\\rho_{H2O}/\\rho_{air}$)"
   ]
  },
  {
   "cell_type": "code",
   "execution_count": null,
   "id": "c9e0368d",
   "metadata": {},
   "outputs": [],
   "source": [
    "%matplotlib inline\n",
    "plt.style.use('ggplot')\n",
    "meters2km=1.e-3\n",
    "plt.close('all')\n",
    "fig,(ax1,ax2)=plt.subplots(1,2,figsize=(11,8))\n",
    "for a_name,df in sound_dict.items():\n",
    "    ax1.plot(df['temp'],df['z']*meters2km,label=a_name)\n",
    "    ax1.set(ylim=(0,40),title='Temp soundings',ylabel='Height (km)',\n",
    "       xlabel='Temperature (K)')\n",
    "\n",
    "    ax2.plot(df['rmix']*1.e3,df['z']*meters2km,label=a_name)\n",
    "    ax2.set(ylim=(0,8),title='Vapor soundings',ylabel='Height (km)',\n",
    "       xlabel='vapor mixing ratio (g/kg)')\n",
    "ax1.legend()\n",
    "_=ax2.legend()"
   ]
  },
  {
   "cell_type": "markdown",
   "id": "5539a287",
   "metadata": {},
   "source": [
    "## Calculate the pressure scale height"
   ]
  },
  {
   "cell_type": "code",
   "execution_count": null,
   "id": "e0c91534",
   "metadata": {},
   "outputs": [],
   "source": [
    "g=9.8  #don't worry about g(z) for this exercise\n",
    "Rd=287.  #kg/m^3\n",
    "\n",
    "def calcScaleHeight(df):\n",
    "    \"\"\"\n",
    "    Calculate the pressure scale height H_p\n",
    "\n",
    "    Parameters\n",
    "    ----------\n",
    "\n",
    "    df: dataframe with the following columns\n",
    "\n",
    "    df['temp']: vector (float)\n",
    "      temperature (K)\n",
    "\n",
    "    df['z']: vector (float) of len(df)\n",
    "      with the height in m\n",
    "\n",
    "    Returns\n",
    "    -------\n",
    "\n",
    "    Hbar: vector (float) of len(df)\n",
    "      pressure scale height (m)\n",
    "\n",
    "    \"\"\"\n",
    "    z=df['z'].values\n",
    "    Temp=df['temp'].values\n",
    "    dz=np.diff(z)\n",
    "    TLayer=(Temp[1:] + Temp[0:-1])/2.\n",
    "    oneOverH=g/(Rd*TLayer)\n",
    "    Zthick=z[-1] - z[0]\n",
    "    oneOverHbar=np.sum(oneOverH*dz)/Zthick\n",
    "    Hbar = 1/oneOverHbar\n",
    "    return Hbar"
   ]
  },
  {
   "cell_type": "markdown",
   "id": "935ec946",
   "metadata": {},
   "source": [
    "## calculate the density scale height"
   ]
  },
  {
   "cell_type": "code",
   "execution_count": null,
   "id": "1d5303d0",
   "metadata": {},
   "outputs": [],
   "source": [
    "def calcDensHeight(df):\n",
    "    \"\"\"\n",
    "    Calculate the density scale height H_rho\n",
    "\n",
    "    Parameters\n",
    "    ----------\n",
    "\n",
    "    df: dataframe with the following columns\n",
    "\n",
    "    df['temp']: vector (float)\n",
    "      temperature (K)\n",
    "\n",
    "    df['z']: vector (float) of len(df)\n",
    "      with the height in m\n",
    "\n",
    "    Returns\n",
    "    -------\n",
    "\n",
    "    Hbar: vector (float) of len(T)\n",
    "      density scale height (m)\n",
    "    \"\"\"\n",
    "    z=df['z'].values\n",
    "    Temp=df['temp'].values\n",
    "    dz=np.diff(z)\n",
    "    TLayer=(Temp[1:] + Temp[0:-1])/2.\n",
    "    dTdz=np.diff(Temp)/np.diff(z)\n",
    "    oneOverH=g/(Rd*TLayer) + (1/TLayer*dTdz)\n",
    "    Zthick=z[-1] - z[0]\n",
    "    oneOverHbar=np.sum(oneOverH*dz)/Zthick\n",
    "    Hbar = 1/oneOverHbar\n",
    "    return Hbar"
   ]
  },
  {
   "cell_type": "markdown",
   "id": "25dbbb07",
   "metadata": {},
   "source": [
    "<a name=\"oct7assign\"></a>\n",
    "\n",
    "### Assigment 4\n",
    "\n",
    "#### Question 4a -- scale height\n",
    "\n",
    "a) Calculate the pressure scale height for each of the five atmospheres using calcScaleHeightFill the dictionary below (soution_4a_dict) with the five values you calculate using\n",
    "calcScaleHeight"
   ]
  },
  {
   "cell_type": "code",
   "execution_count": null,
   "id": "8b4d051f",
   "metadata": {},
   "outputs": [],
   "source": [
    "sound_names=list(sound_dict.keys())\n",
    "dummy_answers=np.ones([len(sound_names)])*np.nan\n",
    "solution_4a_dict=dict(zip(sound_names,dummy_answers))\n",
    "print(f\"here is the dictionary that will hold  my answers:\\n \"\n",
    "       f\"{pformat(solution_4a_dict)}\")"
   ]
  },
  {
   "cell_type": "code",
   "execution_count": null,
   "id": "4698fbbe",
   "metadata": {},
   "outputs": [],
   "source": [
    "#\n",
    "# set the top height at 10 km\n",
    "#\n",
    "ztop = 10.e3  #meters\n",
    "#\n",
    "# loop through the dataframes,\n",
    "# calling calcScaleHeight on each\n",
    "# and saving the result in\n",
    "# as an entry solution_4a_dict[name]\n",
    "#\n",
    "for name,df in sound_dict.items():\n",
    "    #\n",
    "    # limit the data frame to the heights below ztop\n",
    "    #\n",
    "    df = df.loc[df['z']<ztop]\n",
    "    press_height = calcScaleHeight(df)\n",
    "    solution_4a_dict[name]=np.round(press_height)\n",
    "\n",
    "#\n",
    "# print the answer and save a afile\n",
    "#\n",
    "answer_file = Path() / 'assign4a_answer.json'\n",
    "print('scale heights in m')\n",
    "with open(answer_file,'w') as f:\n",
    "    json.dump(solution_4a_dict,f,indent=4)\n",
    "    out=json.dumps(solution_4a_dict,indent=4)\n",
    "    print(out)"
   ]
  },
  {
   "cell_type": "markdown",
   "id": "f569b29b",
   "metadata": {},
   "source": [
    "#### Question 4b, water vapor\n",
    "\n",
    "2\\.  Define a function calc_wv that takes a sounding dataframe and returns the \"total precipitable water\", which is defined as:\n",
    "\n",
    "$$W = \\int_0^{z_{top}} \\rho_v dz $$\n",
    "\n",
    "Do a change of units to convert $kg\\,m^{-2}$ to $cm\\,m^{-2}$ using the density of liquid water (1000 $kg\\,m^{-3}$) -- that is, turn the kg of water in the 1 square meter column into cubic meters and turn that into $cm/m^{-2}$\n",
    "\n",
    "Store you answer for each sounding in the following dictionary:"
   ]
  },
  {
   "cell_type": "code",
   "execution_count": null,
   "id": "1277a392",
   "metadata": {},
   "outputs": [],
   "source": [
    "sound_names=list(sound_dict.keys())\n",
    "dummy_answers=np.ones([len(sound_names)])*np.nan\n",
    "solution_7b_dict=dict(zip(sound_names,dummy_answers))\n",
    "print(f\"here is the dictionary that will hold  your answers:\\n \"\n",
    "       f\"{pformat(solution_7b_dict)}\")"
   ]
  },
  {
   "cell_type": "code",
   "execution_count": null,
   "id": "2864c59a",
   "metadata": {},
   "outputs": [],
   "source": [
    "def calc_wv(df):\n",
    "\n",
    "    \"\"\"\n",
    "    Calculate the integrated column water content in mm\n",
    "\n",
    "    Parameters\n",
    "    ----------\n",
    "\n",
    "    df: dataframe with the following columns\n",
    "\n",
    "    df['rmix']: vector (float)\n",
    "      vapor mixing ratio in kg/kg\n",
    "\n",
    "    df['den']: vector (float) of len(df)\n",
    "      the dry air density in kg/m^3\n",
    "\n",
    "    df['z']: vector (float) of len(df)\n",
    "       the height in m\n",
    "\n",
    "    Returns\n",
    "    -------\n",
    "\n",
    "    col_wv: scalar (float)\n",
    "       the column integrated water vapor in cm/m^2\n",
    "    \"\"\"\n",
    "\n",
    "    rhov = df['rmix'].values*df['den'].values\n",
    "    mid_rhov = (rhov[1:] + rhov[:-1])/2.\n",
    "    col_wv = np.sum(mid_rhov*np.diff(df['z'].values))\n",
    "    #\n",
    "    # convert kg/m^3 to meters, and meters to cm\n",
    "    #\n",
    "    col_wv = col_wv/1000.*100.\n",
    "    return col_wv\n",
    "\n",
    "for name,df in sound_dict.items():\n",
    "    top = 10.e3 #top of atmoshere in meters\n",
    "    df = df.loc[df['z']<top]\n",
    "    col_wv = calc_wv(df)\n",
    "    print(f'{name}: wv = {col_wv:5.2f} cm')"
   ]
  },
  {
   "cell_type": "code",
   "execution_count": null,
   "id": "0cbf90b6",
   "metadata": {},
   "outputs": [],
   "source": []
  }
 ],
 "metadata": {
  "jupytext": {
   "notebook_metadata_filter": "all,-language_info,-toc,-latex_envs"
  },
  "kernelspec": {
   "display_name": "Python 3 (ipykernel)",
   "language": "python",
   "name": "python3"
  },
  "language_info": {
   "codemirror_mode": {
    "name": "ipython",
    "version": 3
   },
   "file_extension": ".py",
   "mimetype": "text/x-python",
   "name": "python",
   "nbconvert_exporter": "python",
   "pygments_lexer": "ipython3",
   "version": "3.11.6"
  },
  "source_map": [
   13,
   18,
   24,
   34,
   40,
   43,
   47,
   53,
   57,
   61,
   65,
   81,
   85,
   120,
   124,
   156,
   167,
   175,
   203,
   215,
   223,
   266
  ]
 },
 "nbformat": 4,
 "nbformat_minor": 5
}
