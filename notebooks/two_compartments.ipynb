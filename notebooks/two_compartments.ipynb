{
 "cells": [
  {
   "cell_type": "markdown",
   "id": "5b55cb68-b51b-4d87-b7bf-dafe1e1b5a85",
   "metadata": {},
   "source": [
    "(two_compartments)=\n",
    "# Two compartment problem`\n",
    "\n",
    "Two compartments of equal volume are separated by a membrane, with is punctured.\n",
    "\n",
    "First find the \"naive\" entropy by just mixing the entropies of the two compartments and compare it to\n",
    "the actual entropy of the mixture."
   ]
  },
  {
   "cell_type": "markdown",
   "id": "0888fa17-1703-40ed-8a30-2e3797d26151",
   "metadata": {},
   "source": [
    "- compartment 1, volume 1 $m^3$, pressure 1000 hPa, temperature 300 K\n",
    "- compartment 2, volume 1 $m^3$, pressure 3000 hPa, temperature 500 K"
   ]
  },
  {
   "cell_type": "code",
   "execution_count": 1,
   "id": "e1e7ad78-b2f6-4f52-bb47-733859497595",
   "metadata": {},
   "outputs": [],
   "source": [
    "import numpy as np\n",
    "def rho_eqstate(press, temp):\n",
    "    Rd = 287\n",
    "    rho = press/(Rd*temp)\n",
    "    return rho\n",
    "\n",
    "def find_theta(press,temp):\n",
    "    Rd = 297\n",
    "    cp = 1004\n",
    "    theta = temp*(1.e5/press)**(Rd/cp)\n",
    "    return theta"
   ]
  },
  {
   "cell_type": "code",
   "execution_count": 2,
   "id": "3310df9e-7b30-463c-85c5-b8bd17d18e4e",
   "metadata": {},
   "outputs": [],
   "source": [
    "cp = 1004  #J/kg/K\n",
    "Rd = 287 #J/kg/k\n",
    "temp1=300  #K\n",
    "press1 = 1.e5 #Pa\n",
    "temp2 = 500  #K\n",
    "press2 = 3.e5  #Pa"
   ]
  },
  {
   "cell_type": "markdown",
   "id": "859bbe9a-109f-4c5b-975a-e29cfb1d31dd",
   "metadata": {},
   "source": [
    "## Find the masses ($\\rho \\times volume$)"
   ]
  },
  {
   "cell_type": "code",
   "execution_count": 3,
   "id": "de0b67b4-ef6b-48f7-929e-1e16f7579154",
   "metadata": {},
   "outputs": [
    {
     "name": "stdout",
     "output_type": "stream",
     "text": [
      "(mass1, mass2)=(1.1614401858304297, 2.0905923344947737) kg/m^3\n"
     ]
    }
   ],
   "source": [
    "mass1 = rho_eqstate(press1,temp1)  #kg\n",
    "mass2 = rho_eqstate(press2,temp2)\n",
    "print(f\"{(mass1, mass2)=} kg/m^3\")"
   ]
  },
  {
   "cell_type": "markdown",
   "id": "486e74cf-9b23-4ca6-b687-9d716349efd1",
   "metadata": {},
   "source": [
    "## Enthalpy is conserved for mixture"
   ]
  },
  {
   "cell_type": "code",
   "execution_count": 4,
   "id": "376b1fb9-063c-4341-ac87-5a8fd3107567",
   "metadata": {},
   "outputs": [
    {
     "name": "stdout",
     "output_type": "stream",
     "text": [
      "428.6 K\n"
     ]
    }
   ],
   "source": [
    "Hmix = mass1*cp*temp1 + mass2*cp*temp2\n",
    "hmix = Hmix/(mass1 + mass2)\n",
    "temp_mix = hmix/cp\n",
    "print(f\"{temp_mix:0.1f} K\")"
   ]
  },
  {
   "cell_type": "markdown",
   "id": "9f0977a0-3424-4536-87d8-28f899e2cc0d",
   "metadata": {},
   "source": [
    "## Find the entropy the wrong way (it's not conserved)"
   ]
  },
  {
   "cell_type": "code",
   "execution_count": 5,
   "id": "f3109e42-84f6-4ede-a697-24623925c995",
   "metadata": {},
   "outputs": [
    {
     "name": "stdout",
     "output_type": "stream",
     "text": [
      "entropy_naive=5846.5 J/kg/K\n"
     ]
    }
   ],
   "source": [
    "theta1 = find_theta(press1,temp1)\n",
    "theta2 = find_theta(press2,temp2)\n",
    "entropy_naive = cp*(mass1*np.log(theta1) + mass2*np.log(theta2))/(mass1 + mass2)\n",
    "print(f\"{entropy_naive=:0.1f} J/kg/K\")"
   ]
  },
  {
   "cell_type": "markdown",
   "id": "7745d81c-a399-4a7d-acc5-f47aa9180b6c",
   "metadata": {},
   "source": [
    "## Find the entropy the right way\n",
    "\n",
    "Get the pressure using the equation of state"
   ]
  },
  {
   "cell_type": "code",
   "execution_count": 6,
   "id": "681141a4-284e-4b1b-9155-8acf5c26c0e5",
   "metadata": {},
   "outputs": [
    {
     "name": "stdout",
     "output_type": "stream",
     "text": [
      "rho_mix=1.6 kg/m^3\n"
     ]
    }
   ],
   "source": [
    "rho_mix = (mass1 + mass2)/2\n",
    "print(f\"{rho_mix=:0.1f} kg/m^3\")"
   ]
  },
  {
   "cell_type": "code",
   "execution_count": 7,
   "id": "a5373cd5-1623-436a-ae30-d5870d4d6119",
   "metadata": {},
   "outputs": [
    {
     "name": "stdout",
     "output_type": "stream",
     "text": [
      "press_mix=200000.0 Pa\n"
     ]
    }
   ],
   "source": [
    "press_mix = rho_mix*Rd*temp_mix\n",
    "print(f\"{press_mix=:0.1f} Pa\")"
   ]
  },
  {
   "cell_type": "code",
   "execution_count": 8,
   "id": "5ee69622-5373-43b2-81f1-e94bcea6dce4",
   "metadata": {},
   "outputs": [
    {
     "name": "stdout",
     "output_type": "stream",
     "text": [
      "theta_mix=351.5 K\n"
     ]
    }
   ],
   "source": [
    "theta_mix = temp_mix*(1.e5/press_mix)**(Rd/cp)\n",
    "print(f\"{theta_mix=:0.1f} K\")"
   ]
  },
  {
   "cell_type": "code",
   "execution_count": 9,
   "id": "cb2c8938-6456-4277-98f3-54f73d13b594",
   "metadata": {},
   "outputs": [
    {
     "name": "stdout",
     "output_type": "stream",
     "text": [
      "entropy_mix=5885.8 J/kg/K\n"
     ]
    }
   ],
   "source": [
    "entropy_mix = cp*np.log(theta_mix)\n",
    "print(f\"{entropy_mix=:0.1f} J/kg/K\")"
   ]
  },
  {
   "cell_type": "code",
   "execution_count": 10,
   "id": "142a5fb3-c36e-42d1-808e-330d15700347",
   "metadata": {},
   "outputs": [
    {
     "name": "stdout",
     "output_type": "stream",
     "text": [
      "percent_diff=0.7 percent\n"
     ]
    }
   ],
   "source": [
    "percent_diff = (entropy_mix - entropy_naive)/entropy_mix*100\n",
    "print(f\"{percent_diff=:0.1f} percent\")"
   ]
  },
  {
   "cell_type": "markdown",
   "id": "716d4ee0-8e11-4367-82a2-f91c9eb42ee6",
   "metadata": {},
   "source": [
    "## Summary\n",
    "\n",
    "Even with a large pressure difference, the effect of irreversibilty is less than 1%"
   ]
  },
  {
   "cell_type": "code",
   "execution_count": null,
   "id": "b4f02581-8864-432c-a0c3-94e4491b4f8f",
   "metadata": {},
   "outputs": [],
   "source": []
  }
 ],
 "metadata": {
  "jupytext": {
   "formats": "ipynb,md:myst"
  },
  "kernelspec": {
   "display_name": "Python 3 (ipykernel)",
   "language": "python",
   "name": "python3"
  },
  "language_info": {
   "codemirror_mode": {
    "name": "ipython",
    "version": 3
   },
   "file_extension": ".py",
   "mimetype": "text/x-python",
   "name": "python",
   "nbconvert_exporter": "python",
   "pygments_lexer": "ipython3",
   "version": "3.11.7"
  }
 },
 "nbformat": 4,
 "nbformat_minor": 5
}
