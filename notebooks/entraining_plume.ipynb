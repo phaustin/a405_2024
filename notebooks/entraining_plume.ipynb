{
 "cells": [
  {
   "cell_type": "markdown",
   "metadata": {},
   "source": [
    "# Modeling an entraining cloud updraft\n",
    "\n",
    "This notebook shows how to calculate the time evolution of four variables:\n",
    "\n",
    "\\[velocity, height, $\\theta_{ecld}$, $\\theta_{eenv}$ \\]\n",
    "\n",
    "in a rising cloud"
   ]
  },
  {
   "cell_type": "code",
   "execution_count": 1,
   "metadata": {},
   "outputs": [],
   "source": [
    "\"\"\"\n",
    "model a bulk entraining plume with constant entrainment rate\n",
    "\"\"\"\n",
    "import numpy as np\n",
    "import pandas as pd\n",
    "from pprint import pformat\n",
    "from a405.thermo.constants import constants as c\n",
    "from a405.thermo.thermlib import find_Tmoist,find_thetaep,find_rsat,tinvert_thetae\n",
    "from scipy.interpolate import interp1d\n",
    "import scipy.integrate as integrate\n",
    "from a405.soundings.wyominglib import write_soundings, read_soundings\n",
    "import json\n",
    "\n",
    "\n",
    "from scipy.integrate import ode\n",
    "import matplotlib.pyplot as plt\n",
    "from a405.skewT.nudge import nudge"
   ]
  },
  {
   "cell_type": "markdown",
   "metadata": {},
   "source": [
    "## Find the derivatives wrt time of each of the 4 variables\n",
    "\n",
    "See [entrain.pdf](http://clouds.eos.ubc.ca/~phil/courses/atsc405/docs/entrain.pdf)"
   ]
  },
  {
   "cell_type": "code",
   "execution_count": 2,
   "metadata": {},
   "outputs": [],
   "source": [
    "def derivs(t, y, entrain_rate, interpTenv, interpTdEnv, interpPress):\n",
    "    \"\"\"Function that computes derivative vector for ode integrator\n",
    "       see http://clouds.eos.ubc.ca/~phil/courses/atsc405/docs/entrain.pdf for equations\n",
    "\n",
    "    Parameters\n",
    "    ----------\n",
    "    \n",
    "    t: float\n",
    "       time (s)\n",
    "    y: vector\n",
    "       4-vector containing wvel (m/s), height (m), thetae (K), rT (kg/kg)\n",
    "    entrain_rate: float\n",
    "                  1/m dm/dt (s-1)\n",
    "    interpTenv: func\n",
    "                interp1d function for environmental temperature T(z) \n",
    "    interpTdEnv: func\n",
    "                interp1d function for environmental dewpoint temperature Td(z)\n",
    "    interpPress: func\n",
    "                interp1d function for presusure  p(z)\n",
    "\n",
    "    Returns\n",
    "    -------\n",
    "\n",
    "    yp: vector\n",
    "       4-vector containing time derivatives of wvel (m/s^2), height (m/s), thetae (K/s), rT (kg/kg/s)\n",
    "    \"\"\"\n",
    "    print(f\"inside derivs\")\n",
    "    yp = np.zeros((4,1),dtype=float)\n",
    "    velocity = y[0]\n",
    "    height = y[1]\n",
    "    thetae_cloud = y[2]\n",
    "    rT_cloud = y[3]\n",
    "    #yp[0] is the acceleration, in this case the buoyancy \n",
    "    yp[0] = calcBuoy(height, thetae_cloud, interpTenv, interpTdEnv, interpPress)\n",
    "    press = interpPress(height)*100. #Pa\n",
    "    Tdenv = interpTdEnv(height) + c.Tc #K\n",
    "    Tenv = interpTenv(height) + c.Tc #K\n",
    "    rTenv = find_rsat(Tdenv, press) #kg/kg\n",
    "    thetaeEnv = find_thetaep(Tdenv, Tenv, press)\n",
    "    #yp[1] is the rate of change of height\n",
    "    yp[1] = velocity\n",
    "    #yp[2] is the rate of change of thetae_cloud\n",
    "    yp[2] = entrain_rate*(thetaeEnv - thetae_cloud)\n",
    "    #yp[3] is the rate of change of rT_cloud\n",
    "    yp[3] = entrain_rate*(rTenv - rT_cloud)\n",
    "    return yp"
   ]
  },
  {
   "cell_type": "markdown",
   "metadata": {},
   "source": [
    "## Find the buoyancy from the cloud and environment $\\theta_e$ and $r_T$"
   ]
  },
  {
   "cell_type": "code",
   "execution_count": 3,
   "metadata": {},
   "outputs": [],
   "source": [
    "def calcBuoy(height, thetae0, interpTenv, interpTdEnv, interpPress):\n",
    "    \"\"\"function to calculate buoyant acceleration for an ascending saturated parcel\n",
    "       this version neglects liquid water loading\n",
    "    \n",
    "    Parameters\n",
    "    ----------\n",
    "    \n",
    "    height: float\n",
    "            parcel height (m)\n",
    "    thetae0: float\n",
    "            parcel thetae (K)\n",
    "\n",
    "    interpTenv: func\n",
    "                interp1d function for environmental temperature T(z) \n",
    "    interpTdEnv: func\n",
    "                interp1d function for environmental dewpoint temperature Td(z)\n",
    "    interpPress: func\n",
    "                interp1d function for presusure  p(z)\n",
    "\n",
    "    Returns\n",
    "    -------\n",
    "\n",
    "    buoy: float\n",
    "          buoyancy (m/s/s)\n",
    "    \"\"\"\n",
    "    #input: height (m), thetae0 (K), plus function handles for\n",
    "    #T,Td, press soundings\n",
    "    #output: Bout = buoyant acceleration in m/s^2\n",
    "    #neglect liquid water loading in the virtual temperature\n",
    "    \n",
    "    press=interpPress(height)*100.#%Pa\n",
    "    Tcloud=find_Tmoist(thetae0,press) #K\n",
    "    rvcloud=find_rsat(Tcloud,press); #kg/kg\n",
    "    Tvcloud=Tcloud*(1. + c.eps*rvcloud)\n",
    "    Tenv=interpTenv(height) + c.Tc\n",
    "    Tdenv=interpTdEnv(height) + c.Tc\n",
    "    rvenv=find_rsat(Tdenv,press); #kg/kg\n",
    "    Tvenv=Tenv*(1. + c.eps*rvenv)\n",
    "    TvDiff=Tvcloud - Tvenv\n",
    "    buoy = c.g0*(TvDiff/Tvenv)\n",
    "    return buoy\n",
    "\n"
   ]
  },
  {
   "cell_type": "markdown",
   "metadata": {},
   "source": [
    "## Integrator \n",
    "\n",
    "Use [scipy.itegrate.ode](http://docs.scipy.org/doc/scipy/reference/generated/scipy.integrate.ode.html) to integrate our system of 4 odes "
   ]
  },
  {
   "cell_type": "code",
   "execution_count": 4,
   "metadata": {},
   "outputs": [],
   "source": [
    "def integ_entrain(df_sounding,entrain_rate):\n",
    "    \"\"\"integrate an ascending parcel given a constant entrainment rate\n",
    "       this version hardwired to start parcel at 800 hPa with cloud base\n",
    "       values of environment at 900 hPa\n",
    "\n",
    "    Parameters\n",
    "    ----------\n",
    "\n",
    "    df_sounding: pandas dataframe \n",
    "               : cloumns are temperature, dewpoint, height, press\n",
    "\n",
    "    entrain_rate: float\n",
    "                  1/m dm/dt (s-1)\n",
    "\n",
    "    Returns\n",
    "    -------\n",
    "\n",
    "    df_out: dataframe\n",
    "          dataframe containing wvel (m/s) ,cloud_height (m) , thetae (K), rT (kg/kg) for assending parcel\n",
    "\n",
    "   interpPress: func\n",
    "              interp1d function for presusure  p(z) (used for plotting)\n",
    "    \"\"\"\n",
    "    press = df_sounding['pres'].values\n",
    "    height = df_sounding['hght'].values\n",
    "    temp = df_sounding['temp'].values\n",
    "    dewpoint = df_sounding['dwpt'].values\n",
    "    envHeight= nudge(height)\n",
    "\n",
    "    interpTenv = interp1d(envHeight,temp)\n",
    "    interpTdEnv = interp1d(envHeight,dewpoint)\n",
    "    interpPress = interp1d(envHeight,press)\n",
    "    #\n",
    "    # call this cloudbase\n",
    "    #\n",
    "    p900_level = len(press) - np.searchsorted(press[::-1],900.)\n",
    "    thetaeVal=find_thetaep(dewpoint[p900_level] + c.Tc,temp[p900_level] + c.Tc,press[p900_level]*100.)\n",
    "    rTcloud = find_rsat(dewpoint[p900_level] + c.Tc, press[p900_level]*100.)\n",
    "    #\n",
    "    # start parcel here\n",
    "    #\n",
    "    p800_level = len(press) - np.searchsorted(press[::-1],800.)\n",
    "    height_800=height[p800_level]\n",
    "    winit = 0.5 #initial velocity (m/s)\n",
    "    yinit = [winit, height_800, thetaeVal, rTcloud]  \n",
    "    tinit = 0  #seconds\n",
    "    tfin = 2500  #seconds\n",
    "    dt = 10 #seconds\n",
    "    tspan = (tinit, tfin)\n",
    "    output_times = np.arange(tinit, tfin, dt)\n",
    "\n",
    "    #want to integrate derivs using dopr15 runge kutta described at\n",
    "    # http://docs.scipy.org/doc/scipy/reference/generated/scipy.integrate.ode.html\n",
    "    #\n",
    "    init_vals = (yinit, tinit)\n",
    "    args = (entrain_rate, interpTenv, interpTdEnv, interpPress)\n",
    "    the_prof=integrate.solve_ivp(derivs,tspan, yinit, method='RK45',\n",
    "                             t_eval=output_times, args=args)\n",
    "    #\n",
    "    # convert the output into a datafram\n",
    "    #\n",
    "    colnames=['wvel','cloud_height','thetae_cloud','rT_cloud']\n",
    "    df_out=pd.DataFrame.from_records(var_out,columns=colnames)\n",
    "    df_out['time'] = time_out\n",
    "    return df_out,interpPress\n",
    "\n"
   ]
  },
  {
   "cell_type": "markdown",
   "metadata": {},
   "source": [
    "## Read in a sounding to set the environment"
   ]
  },
  {
   "cell_type": "code",
   "execution_count": 5,
   "metadata": {},
   "outputs": [],
   "source": [
    "write = False\n",
    "if write:\n",
    "    values=dict(region='naconf',year='2012',month='7',start='0100',stop='3000',station='72340')\n",
    "    write_soundings(values, 'littlerock')\n",
    "    soundings= read_soundings('littlerock')\n",
    "else:\n",
    "    soundings= read_soundings('littlerock')"
   ]
  },
  {
   "cell_type": "code",
   "execution_count": 6,
   "metadata": {},
   "outputs": [],
   "source": [
    "day = 9\n",
    "the_time=(2012,7,day,0)\n",
    "sounding=soundings['sounding_dict'][the_time]"
   ]
  },
  {
   "cell_type": "markdown",
   "metadata": {},
   "source": [
    "## Do the integration"
   ]
  },
  {
   "cell_type": "code",
   "execution_count": 7,
   "metadata": {},
   "outputs": [
    {
     "name": "stdout",
     "output_type": "stream",
     "text": [
      "inside derivs\n",
      "inside derivs\n"
     ]
    },
    {
     "ename": "ValueError",
     "evalue": "A value (0.5005916507640674) in x_new is below the interpolation range's minimum value (172.0).",
     "output_type": "error",
     "traceback": [
      "\u001b[0;31m---------------------------------------------------------------------------\u001b[0m",
      "\u001b[0;31mValueError\u001b[0m                                Traceback (most recent call last)",
      "Cell \u001b[0;32mIn[7], line 2\u001b[0m\n\u001b[1;32m      1\u001b[0m entrain_rate \u001b[38;5;241m=\u001b[39m \u001b[38;5;241m2.e-4\u001b[39m\n\u001b[0;32m----> 2\u001b[0m df_result, interpPress\u001b[38;5;241m=\u001b[39m\u001b[43minteg_entrain\u001b[49m\u001b[43m(\u001b[49m\u001b[43msounding\u001b[49m\u001b[43m,\u001b[49m\u001b[43mentrain_rate\u001b[49m\u001b[43m)\u001b[49m\n",
      "Cell \u001b[0;32mIn[4], line 57\u001b[0m, in \u001b[0;36minteg_entrain\u001b[0;34m(df_sounding, entrain_rate)\u001b[0m\n\u001b[1;32m     55\u001b[0m init_vals \u001b[38;5;241m=\u001b[39m (yinit, tinit)\n\u001b[1;32m     56\u001b[0m args \u001b[38;5;241m=\u001b[39m (entrain_rate, interpTenv, interpTdEnv, interpPress)\n\u001b[0;32m---> 57\u001b[0m the_prof\u001b[38;5;241m=\u001b[39m\u001b[43mintegrate\u001b[49m\u001b[38;5;241;43m.\u001b[39;49m\u001b[43msolve_ivp\u001b[49m\u001b[43m(\u001b[49m\u001b[43mderivs\u001b[49m\u001b[43m,\u001b[49m\u001b[43mtspan\u001b[49m\u001b[43m,\u001b[49m\u001b[43m \u001b[49m\u001b[43myinit\u001b[49m\u001b[43m,\u001b[49m\u001b[43m \u001b[49m\u001b[43mmethod\u001b[49m\u001b[38;5;241;43m=\u001b[39;49m\u001b[38;5;124;43m'\u001b[39;49m\u001b[38;5;124;43mRK45\u001b[39;49m\u001b[38;5;124;43m'\u001b[39;49m\u001b[43m,\u001b[49m\n\u001b[1;32m     58\u001b[0m \u001b[43m                         \u001b[49m\u001b[43mt_eval\u001b[49m\u001b[38;5;241;43m=\u001b[39;49m\u001b[43moutput_times\u001b[49m\u001b[43m,\u001b[49m\u001b[43m \u001b[49m\u001b[43margs\u001b[49m\u001b[38;5;241;43m=\u001b[39;49m\u001b[43margs\u001b[49m\u001b[43m)\u001b[49m\n\u001b[1;32m     59\u001b[0m \u001b[38;5;66;03m#\u001b[39;00m\n\u001b[1;32m     60\u001b[0m \u001b[38;5;66;03m# convert the output into a datafram\u001b[39;00m\n\u001b[1;32m     61\u001b[0m \u001b[38;5;66;03m#\u001b[39;00m\n\u001b[1;32m     62\u001b[0m colnames\u001b[38;5;241m=\u001b[39m[\u001b[38;5;124m'\u001b[39m\u001b[38;5;124mwvel\u001b[39m\u001b[38;5;124m'\u001b[39m,\u001b[38;5;124m'\u001b[39m\u001b[38;5;124mcloud_height\u001b[39m\u001b[38;5;124m'\u001b[39m,\u001b[38;5;124m'\u001b[39m\u001b[38;5;124mthetae_cloud\u001b[39m\u001b[38;5;124m'\u001b[39m,\u001b[38;5;124m'\u001b[39m\u001b[38;5;124mrT_cloud\u001b[39m\u001b[38;5;124m'\u001b[39m]\n",
      "File \u001b[0;32m~/mini310/envs/a405/lib/python3.11/site-packages/scipy/integrate/_ivp/ivp.py:616\u001b[0m, in \u001b[0;36msolve_ivp\u001b[0;34m(fun, t_span, y0, method, t_eval, dense_output, events, vectorized, args, **options)\u001b[0m\n\u001b[1;32m    613\u001b[0m \u001b[38;5;28;01mif\u001b[39;00m method \u001b[38;5;129;01min\u001b[39;00m METHODS:\n\u001b[1;32m    614\u001b[0m     method \u001b[38;5;241m=\u001b[39m METHODS[method]\n\u001b[0;32m--> 616\u001b[0m solver \u001b[38;5;241m=\u001b[39m \u001b[43mmethod\u001b[49m\u001b[43m(\u001b[49m\u001b[43mfun\u001b[49m\u001b[43m,\u001b[49m\u001b[43m \u001b[49m\u001b[43mt0\u001b[49m\u001b[43m,\u001b[49m\u001b[43m \u001b[49m\u001b[43my0\u001b[49m\u001b[43m,\u001b[49m\u001b[43m \u001b[49m\u001b[43mtf\u001b[49m\u001b[43m,\u001b[49m\u001b[43m \u001b[49m\u001b[43mvectorized\u001b[49m\u001b[38;5;241;43m=\u001b[39;49m\u001b[43mvectorized\u001b[49m\u001b[43m,\u001b[49m\u001b[43m \u001b[49m\u001b[38;5;241;43m*\u001b[39;49m\u001b[38;5;241;43m*\u001b[39;49m\u001b[43moptions\u001b[49m\u001b[43m)\u001b[49m\n\u001b[1;32m    618\u001b[0m \u001b[38;5;28;01mif\u001b[39;00m t_eval \u001b[38;5;129;01mis\u001b[39;00m \u001b[38;5;28;01mNone\u001b[39;00m:\n\u001b[1;32m    619\u001b[0m     ts \u001b[38;5;241m=\u001b[39m [t0]\n",
      "File \u001b[0;32m~/mini310/envs/a405/lib/python3.11/site-packages/scipy/integrate/_ivp/rk.py:96\u001b[0m, in \u001b[0;36mRungeKutta.__init__\u001b[0;34m(self, fun, t0, y0, t_bound, max_step, rtol, atol, vectorized, first_step, **extraneous)\u001b[0m\n\u001b[1;32m     94\u001b[0m \u001b[38;5;28mself\u001b[39m\u001b[38;5;241m.\u001b[39mf \u001b[38;5;241m=\u001b[39m \u001b[38;5;28mself\u001b[39m\u001b[38;5;241m.\u001b[39mfun(\u001b[38;5;28mself\u001b[39m\u001b[38;5;241m.\u001b[39mt, \u001b[38;5;28mself\u001b[39m\u001b[38;5;241m.\u001b[39my)\n\u001b[1;32m     95\u001b[0m \u001b[38;5;28;01mif\u001b[39;00m first_step \u001b[38;5;129;01mis\u001b[39;00m \u001b[38;5;28;01mNone\u001b[39;00m:\n\u001b[0;32m---> 96\u001b[0m     \u001b[38;5;28mself\u001b[39m\u001b[38;5;241m.\u001b[39mh_abs \u001b[38;5;241m=\u001b[39m \u001b[43mselect_initial_step\u001b[49m\u001b[43m(\u001b[49m\n\u001b[1;32m     97\u001b[0m \u001b[43m        \u001b[49m\u001b[38;5;28;43mself\u001b[39;49m\u001b[38;5;241;43m.\u001b[39;49m\u001b[43mfun\u001b[49m\u001b[43m,\u001b[49m\u001b[43m \u001b[49m\u001b[38;5;28;43mself\u001b[39;49m\u001b[38;5;241;43m.\u001b[39;49m\u001b[43mt\u001b[49m\u001b[43m,\u001b[49m\u001b[43m \u001b[49m\u001b[38;5;28;43mself\u001b[39;49m\u001b[38;5;241;43m.\u001b[39;49m\u001b[43my\u001b[49m\u001b[43m,\u001b[49m\u001b[43m \u001b[49m\u001b[38;5;28;43mself\u001b[39;49m\u001b[38;5;241;43m.\u001b[39;49m\u001b[43mf\u001b[49m\u001b[43m,\u001b[49m\u001b[43m \u001b[49m\u001b[38;5;28;43mself\u001b[39;49m\u001b[38;5;241;43m.\u001b[39;49m\u001b[43mdirection\u001b[49m\u001b[43m,\u001b[49m\n\u001b[1;32m     98\u001b[0m \u001b[43m        \u001b[49m\u001b[38;5;28;43mself\u001b[39;49m\u001b[38;5;241;43m.\u001b[39;49m\u001b[43merror_estimator_order\u001b[49m\u001b[43m,\u001b[49m\u001b[43m \u001b[49m\u001b[38;5;28;43mself\u001b[39;49m\u001b[38;5;241;43m.\u001b[39;49m\u001b[43mrtol\u001b[49m\u001b[43m,\u001b[49m\u001b[43m \u001b[49m\u001b[38;5;28;43mself\u001b[39;49m\u001b[38;5;241;43m.\u001b[39;49m\u001b[43matol\u001b[49m\u001b[43m)\u001b[49m\n\u001b[1;32m     99\u001b[0m \u001b[38;5;28;01melse\u001b[39;00m:\n\u001b[1;32m    100\u001b[0m     \u001b[38;5;28mself\u001b[39m\u001b[38;5;241m.\u001b[39mh_abs \u001b[38;5;241m=\u001b[39m validate_first_step(first_step, t0, t_bound)\n",
      "File \u001b[0;32m~/mini310/envs/a405/lib/python3.11/site-packages/scipy/integrate/_ivp/common.py:115\u001b[0m, in \u001b[0;36mselect_initial_step\u001b[0;34m(fun, t0, y0, f0, direction, order, rtol, atol)\u001b[0m\n\u001b[1;32m    112\u001b[0m     h0 \u001b[38;5;241m=\u001b[39m \u001b[38;5;241m0.01\u001b[39m \u001b[38;5;241m*\u001b[39m d0 \u001b[38;5;241m/\u001b[39m d1\n\u001b[1;32m    114\u001b[0m y1 \u001b[38;5;241m=\u001b[39m y0 \u001b[38;5;241m+\u001b[39m h0 \u001b[38;5;241m*\u001b[39m direction \u001b[38;5;241m*\u001b[39m f0\n\u001b[0;32m--> 115\u001b[0m f1 \u001b[38;5;241m=\u001b[39m \u001b[43mfun\u001b[49m\u001b[43m(\u001b[49m\u001b[43mt0\u001b[49m\u001b[43m \u001b[49m\u001b[38;5;241;43m+\u001b[39;49m\u001b[43m \u001b[49m\u001b[43mh0\u001b[49m\u001b[43m \u001b[49m\u001b[38;5;241;43m*\u001b[39;49m\u001b[43m \u001b[49m\u001b[43mdirection\u001b[49m\u001b[43m,\u001b[49m\u001b[43m \u001b[49m\u001b[43my1\u001b[49m\u001b[43m)\u001b[49m\n\u001b[1;32m    116\u001b[0m d2 \u001b[38;5;241m=\u001b[39m norm((f1 \u001b[38;5;241m-\u001b[39m f0) \u001b[38;5;241m/\u001b[39m scale) \u001b[38;5;241m/\u001b[39m h0\n\u001b[1;32m    118\u001b[0m \u001b[38;5;28;01mif\u001b[39;00m d1 \u001b[38;5;241m<\u001b[39m\u001b[38;5;241m=\u001b[39m \u001b[38;5;241m1e-15\u001b[39m \u001b[38;5;129;01mand\u001b[39;00m d2 \u001b[38;5;241m<\u001b[39m\u001b[38;5;241m=\u001b[39m \u001b[38;5;241m1e-15\u001b[39m:\n",
      "File \u001b[0;32m~/mini310/envs/a405/lib/python3.11/site-packages/scipy/integrate/_ivp/base.py:154\u001b[0m, in \u001b[0;36mOdeSolver.__init__.<locals>.fun\u001b[0;34m(t, y)\u001b[0m\n\u001b[1;32m    152\u001b[0m \u001b[38;5;28;01mdef\u001b[39;00m \u001b[38;5;21mfun\u001b[39m(t, y):\n\u001b[1;32m    153\u001b[0m     \u001b[38;5;28mself\u001b[39m\u001b[38;5;241m.\u001b[39mnfev \u001b[38;5;241m+\u001b[39m\u001b[38;5;241m=\u001b[39m \u001b[38;5;241m1\u001b[39m\n\u001b[0;32m--> 154\u001b[0m     \u001b[38;5;28;01mreturn\u001b[39;00m \u001b[38;5;28;43mself\u001b[39;49m\u001b[38;5;241;43m.\u001b[39;49m\u001b[43mfun_single\u001b[49m\u001b[43m(\u001b[49m\u001b[43mt\u001b[49m\u001b[43m,\u001b[49m\u001b[43m \u001b[49m\u001b[43my\u001b[49m\u001b[43m)\u001b[49m\n",
      "File \u001b[0;32m~/mini310/envs/a405/lib/python3.11/site-packages/scipy/integrate/_ivp/base.py:23\u001b[0m, in \u001b[0;36mcheck_arguments.<locals>.fun_wrapped\u001b[0;34m(t, y)\u001b[0m\n\u001b[1;32m     22\u001b[0m \u001b[38;5;28;01mdef\u001b[39;00m \u001b[38;5;21mfun_wrapped\u001b[39m(t, y):\n\u001b[0;32m---> 23\u001b[0m     \u001b[38;5;28;01mreturn\u001b[39;00m np\u001b[38;5;241m.\u001b[39masarray(\u001b[43mfun\u001b[49m\u001b[43m(\u001b[49m\u001b[43mt\u001b[49m\u001b[43m,\u001b[49m\u001b[43m \u001b[49m\u001b[43my\u001b[49m\u001b[43m)\u001b[49m, dtype\u001b[38;5;241m=\u001b[39mdtype)\n",
      "File \u001b[0;32m~/mini310/envs/a405/lib/python3.11/site-packages/scipy/integrate/_ivp/ivp.py:588\u001b[0m, in \u001b[0;36msolve_ivp.<locals>.fun\u001b[0;34m(t, x, fun)\u001b[0m\n\u001b[1;32m    587\u001b[0m \u001b[38;5;28;01mdef\u001b[39;00m \u001b[38;5;21mfun\u001b[39m(t, x, fun\u001b[38;5;241m=\u001b[39mfun):\n\u001b[0;32m--> 588\u001b[0m     \u001b[38;5;28;01mreturn\u001b[39;00m \u001b[43mfun\u001b[49m\u001b[43m(\u001b[49m\u001b[43mt\u001b[49m\u001b[43m,\u001b[49m\u001b[43m \u001b[49m\u001b[43mx\u001b[49m\u001b[43m,\u001b[49m\u001b[43m \u001b[49m\u001b[38;5;241;43m*\u001b[39;49m\u001b[43margs\u001b[49m\u001b[43m)\u001b[49m\n",
      "Cell \u001b[0;32mIn[2], line 34\u001b[0m, in \u001b[0;36mderivs\u001b[0;34m(t, y, entrain_rate, interpTenv, interpTdEnv, interpPress)\u001b[0m\n\u001b[1;32m     32\u001b[0m rT_cloud \u001b[38;5;241m=\u001b[39m y[\u001b[38;5;241m3\u001b[39m]\n\u001b[1;32m     33\u001b[0m \u001b[38;5;66;03m#yp[0] is the acceleration, in this case the buoyancy \u001b[39;00m\n\u001b[0;32m---> 34\u001b[0m yp[\u001b[38;5;241m0\u001b[39m] \u001b[38;5;241m=\u001b[39m \u001b[43mcalcBuoy\u001b[49m\u001b[43m(\u001b[49m\u001b[43mheight\u001b[49m\u001b[43m,\u001b[49m\u001b[43m \u001b[49m\u001b[43mthetae_cloud\u001b[49m\u001b[43m,\u001b[49m\u001b[43m \u001b[49m\u001b[43minterpTenv\u001b[49m\u001b[43m,\u001b[49m\u001b[43m \u001b[49m\u001b[43minterpTdEnv\u001b[49m\u001b[43m,\u001b[49m\u001b[43m \u001b[49m\u001b[43minterpPress\u001b[49m\u001b[43m)\u001b[49m\n\u001b[1;32m     35\u001b[0m press \u001b[38;5;241m=\u001b[39m interpPress(height)\u001b[38;5;241m*\u001b[39m\u001b[38;5;241m100.\u001b[39m \u001b[38;5;66;03m#Pa\u001b[39;00m\n\u001b[1;32m     36\u001b[0m Tdenv \u001b[38;5;241m=\u001b[39m interpTdEnv(height) \u001b[38;5;241m+\u001b[39m c\u001b[38;5;241m.\u001b[39mTc \u001b[38;5;66;03m#K\u001b[39;00m\n",
      "Cell \u001b[0;32mIn[3], line 31\u001b[0m, in \u001b[0;36mcalcBuoy\u001b[0;34m(height, thetae0, interpTenv, interpTdEnv, interpPress)\u001b[0m\n\u001b[1;32m      2\u001b[0m \u001b[38;5;250m\u001b[39m\u001b[38;5;124;03m\"\"\"function to calculate buoyant acceleration for an ascending saturated parcel\u001b[39;00m\n\u001b[1;32m      3\u001b[0m \u001b[38;5;124;03m   this version neglects liquid water loading\u001b[39;00m\n\u001b[1;32m      4\u001b[0m \u001b[38;5;124;03m\u001b[39;00m\n\u001b[0;32m   (...)\u001b[0m\n\u001b[1;32m     24\u001b[0m \u001b[38;5;124;03m      buoyancy (m/s/s)\u001b[39;00m\n\u001b[1;32m     25\u001b[0m \u001b[38;5;124;03m\"\"\"\u001b[39;00m\n\u001b[1;32m     26\u001b[0m \u001b[38;5;66;03m#input: height (m), thetae0 (K), plus function handles for\u001b[39;00m\n\u001b[1;32m     27\u001b[0m \u001b[38;5;66;03m#T,Td, press soundings\u001b[39;00m\n\u001b[1;32m     28\u001b[0m \u001b[38;5;66;03m#output: Bout = buoyant acceleration in m/s^2\u001b[39;00m\n\u001b[1;32m     29\u001b[0m \u001b[38;5;66;03m#neglect liquid water loading in the virtual temperature\u001b[39;00m\n\u001b[0;32m---> 31\u001b[0m press\u001b[38;5;241m=\u001b[39m\u001b[43minterpPress\u001b[49m\u001b[43m(\u001b[49m\u001b[43mheight\u001b[49m\u001b[43m)\u001b[49m\u001b[38;5;241m*\u001b[39m\u001b[38;5;241m100.\u001b[39m\u001b[38;5;66;03m#%Pa\u001b[39;00m\n\u001b[1;32m     32\u001b[0m Tcloud\u001b[38;5;241m=\u001b[39mfind_Tmoist(thetae0,press) \u001b[38;5;66;03m#K\u001b[39;00m\n\u001b[1;32m     33\u001b[0m rvcloud\u001b[38;5;241m=\u001b[39mfind_rsat(Tcloud,press); \u001b[38;5;66;03m#kg/kg\u001b[39;00m\n",
      "File \u001b[0;32m~/mini310/envs/a405/lib/python3.11/site-packages/scipy/interpolate/_polyint.py:81\u001b[0m, in \u001b[0;36m_Interpolator1D.__call__\u001b[0;34m(self, x)\u001b[0m\n\u001b[1;32m     60\u001b[0m \u001b[38;5;250m\u001b[39m\u001b[38;5;124;03m\"\"\"\u001b[39;00m\n\u001b[1;32m     61\u001b[0m \u001b[38;5;124;03mEvaluate the interpolant\u001b[39;00m\n\u001b[1;32m     62\u001b[0m \n\u001b[0;32m   (...)\u001b[0m\n\u001b[1;32m     78\u001b[0m \n\u001b[1;32m     79\u001b[0m \u001b[38;5;124;03m\"\"\"\u001b[39;00m\n\u001b[1;32m     80\u001b[0m x, x_shape \u001b[38;5;241m=\u001b[39m \u001b[38;5;28mself\u001b[39m\u001b[38;5;241m.\u001b[39m_prepare_x(x)\n\u001b[0;32m---> 81\u001b[0m y \u001b[38;5;241m=\u001b[39m \u001b[38;5;28;43mself\u001b[39;49m\u001b[38;5;241;43m.\u001b[39;49m\u001b[43m_evaluate\u001b[49m\u001b[43m(\u001b[49m\u001b[43mx\u001b[49m\u001b[43m)\u001b[49m\n\u001b[1;32m     82\u001b[0m \u001b[38;5;28;01mreturn\u001b[39;00m \u001b[38;5;28mself\u001b[39m\u001b[38;5;241m.\u001b[39m_finish_y(y, x_shape)\n",
      "File \u001b[0;32m~/mini310/envs/a405/lib/python3.11/site-packages/scipy/interpolate/_interpolate.py:764\u001b[0m, in \u001b[0;36minterp1d._evaluate\u001b[0;34m(self, x_new)\u001b[0m\n\u001b[1;32m    762\u001b[0m y_new \u001b[38;5;241m=\u001b[39m \u001b[38;5;28mself\u001b[39m\u001b[38;5;241m.\u001b[39m_call(\u001b[38;5;28mself\u001b[39m, x_new)\n\u001b[1;32m    763\u001b[0m \u001b[38;5;28;01mif\u001b[39;00m \u001b[38;5;129;01mnot\u001b[39;00m \u001b[38;5;28mself\u001b[39m\u001b[38;5;241m.\u001b[39m_extrapolate:\n\u001b[0;32m--> 764\u001b[0m     below_bounds, above_bounds \u001b[38;5;241m=\u001b[39m \u001b[38;5;28;43mself\u001b[39;49m\u001b[38;5;241;43m.\u001b[39;49m\u001b[43m_check_bounds\u001b[49m\u001b[43m(\u001b[49m\u001b[43mx_new\u001b[49m\u001b[43m)\u001b[49m\n\u001b[1;32m    765\u001b[0m     \u001b[38;5;28;01mif\u001b[39;00m \u001b[38;5;28mlen\u001b[39m(y_new) \u001b[38;5;241m>\u001b[39m \u001b[38;5;241m0\u001b[39m:\n\u001b[1;32m    766\u001b[0m         \u001b[38;5;66;03m# Note fill_value must be broadcast up to the proper size\u001b[39;00m\n\u001b[1;32m    767\u001b[0m         \u001b[38;5;66;03m# and flattened to work here\u001b[39;00m\n\u001b[1;32m    768\u001b[0m         y_new[below_bounds] \u001b[38;5;241m=\u001b[39m \u001b[38;5;28mself\u001b[39m\u001b[38;5;241m.\u001b[39m_fill_value_below\n",
      "File \u001b[0;32m~/mini310/envs/a405/lib/python3.11/site-packages/scipy/interpolate/_interpolate.py:793\u001b[0m, in \u001b[0;36minterp1d._check_bounds\u001b[0;34m(self, x_new)\u001b[0m\n\u001b[1;32m    791\u001b[0m \u001b[38;5;28;01mif\u001b[39;00m \u001b[38;5;28mself\u001b[39m\u001b[38;5;241m.\u001b[39mbounds_error \u001b[38;5;129;01mand\u001b[39;00m below_bounds\u001b[38;5;241m.\u001b[39many():\n\u001b[1;32m    792\u001b[0m     below_bounds_value \u001b[38;5;241m=\u001b[39m x_new[np\u001b[38;5;241m.\u001b[39margmax(below_bounds)]\n\u001b[0;32m--> 793\u001b[0m     \u001b[38;5;28;01mraise\u001b[39;00m \u001b[38;5;167;01mValueError\u001b[39;00m(\u001b[38;5;124mf\u001b[39m\u001b[38;5;124m\"\u001b[39m\u001b[38;5;124mA value (\u001b[39m\u001b[38;5;132;01m{\u001b[39;00mbelow_bounds_value\u001b[38;5;132;01m}\u001b[39;00m\u001b[38;5;124m) in x_new is below \u001b[39m\u001b[38;5;124m\"\u001b[39m\n\u001b[1;32m    794\u001b[0m                      \u001b[38;5;124mf\u001b[39m\u001b[38;5;124m\"\u001b[39m\u001b[38;5;124mthe interpolation range\u001b[39m\u001b[38;5;124m'\u001b[39m\u001b[38;5;124ms minimum value (\u001b[39m\u001b[38;5;132;01m{\u001b[39;00m\u001b[38;5;28mself\u001b[39m\u001b[38;5;241m.\u001b[39mx[\u001b[38;5;241m0\u001b[39m]\u001b[38;5;132;01m}\u001b[39;00m\u001b[38;5;124m).\u001b[39m\u001b[38;5;124m\"\u001b[39m)\n\u001b[1;32m    795\u001b[0m \u001b[38;5;28;01mif\u001b[39;00m \u001b[38;5;28mself\u001b[39m\u001b[38;5;241m.\u001b[39mbounds_error \u001b[38;5;129;01mand\u001b[39;00m above_bounds\u001b[38;5;241m.\u001b[39many():\n\u001b[1;32m    796\u001b[0m     above_bounds_value \u001b[38;5;241m=\u001b[39m x_new[np\u001b[38;5;241m.\u001b[39margmax(above_bounds)]\n",
      "\u001b[0;31mValueError\u001b[0m: A value (0.5005916507640674) in x_new is below the interpolation range's minimum value (172.0)."
     ]
    }
   ],
   "source": [
    "entrain_rate = 2.e-4\n",
    "df_result, interpPress=integ_entrain(sounding,entrain_rate)"
   ]
  },
  {
   "cell_type": "code",
   "execution_count": null,
   "metadata": {},
   "outputs": [],
   "source": [
    "df_result"
   ]
  },
  {
   "cell_type": "code",
   "execution_count": null,
   "metadata": {},
   "outputs": [],
   "source": []
  }
 ],
 "metadata": {
  "kernelspec": {
   "display_name": "Python 3 (ipykernel)",
   "language": "python",
   "name": "python3"
  },
  "language_info": {
   "codemirror_mode": {
    "name": "ipython",
    "version": 3
   },
   "file_extension": ".py",
   "mimetype": "text/x-python",
   "name": "python",
   "nbconvert_exporter": "python",
   "pygments_lexer": "ipython3",
   "version": "3.11.7"
  },
  "toc": {
   "nav_menu": {},
   "number_sections": true,
   "sideBar": false,
   "skip_h1_title": false,
   "toc_cell": true,
   "toc_position": {},
   "toc_section_display": "block",
   "toc_window_display": false
  }
 },
 "nbformat": 4,
 "nbformat_minor": 4
}
