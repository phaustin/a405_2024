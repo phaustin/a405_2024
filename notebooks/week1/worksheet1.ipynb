{
 "cells": [
  {
   "cell_type": "markdown",
   "id": "81315ec0",
   "metadata": {
    "user_expressions": []
   },
   "source": [
    "# Week 1 worksheet\n",
    "\n",
    "Three problems from Lohmann Chapter 1"
   ]
  },
  {
   "cell_type": "markdown",
   "id": "b6e604de",
   "metadata": {
    "user_expressions": []
   },
   "source": [
    "1) Assume a low level cloud with the following properties: vertical extent 1.5 km, horizontal\n",
    "extent 1 km, cloud droplet number concentration 90 $cm^{−3}$ air and mean diameter 10\n",
    "μm. Estimate the mass of the cloud by assuming that all the cloud droplets are spherical\n",
    "and have the same size. Take 1000 $kg\\,m^{−3}$ to be the density of water."
   ]
  },
  {
   "cell_type": "markdown",
   "id": "31437631",
   "metadata": {
    "user_expressions": []
   },
   "source": [
    "2) Imagine a pure water cloud which consists of cloud droplets of uniform size with $R_d$\n",
    "=5 μm. Assume a uniform spacing of the cloud droplets, with a number concentration of\n",
    "Nc = 170 $cm^{-3}$\n",
    "\n",
    "   (a) Calculate the average distance between the cloud droplets\n",
    "   \n",
    "   (b) What would happen to the distance if the number concentration was trippled?"
   ]
  },
  {
   "cell_type": "markdown",
   "id": "8d8f5543",
   "metadata": {
    "user_expressions": []
   },
   "source": [
    "3. The average pressure at Earth’s surface is 985 hPa. Knowing the radius of the Earth\n",
    "$r_{Earth}$ = 6370 km and using the definition of pressure, estimate the total mass of the\n",
    "atmosphere."
   ]
  }
 ],
 "metadata": {
  "kernelspec": {
   "display_name": "Python 3 (ipykernel)",
   "language": "python",
   "name": "python3"
  }
 },
 "nbformat": 4,
 "nbformat_minor": 5
}
