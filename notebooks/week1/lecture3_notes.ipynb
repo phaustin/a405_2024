{
 "cells": [
  {
   "cell_type": "markdown",
   "id": "c52e0982-2667-481d-9343-cf18611f00f1",
   "metadata": {},
   "source": [
    "# Lecture 3 Thompkins notes -- through page 8u"
   ]
  },
  {
   "cell_type": "markdown",
   "id": "0f03eb06-2d60-4b67-ad05-581ac1ac90b0",
   "metadata": {},
   "source": [
    "- heating and working are verbs not nouns -- path dependent\n",
    "- energy (enthalphy, internal energy, gibbs free energy, helmholtz free energy are nouns -- state varialbes"
   ]
  },
  {
   "cell_type": "markdown",
   "id": "17bf2192-20ff-4c35-9f5e-719396e59fda",
   "metadata": {},
   "source": [
    "- ideal gas is enormous simplification -- all that matters is the moles, not the character of the molecules"
   ]
  },
  {
   "cell_type": "markdown",
   "id": "f338318b-9854-47f9-ba48-880bff9d00dd",
   "metadata": {},
   "source": [
    "enthalpy is a fucntio  of temperature and pressure, and beloved by atmospheric scientists"
   ]
  },
  {
   "cell_type": "code",
   "execution_count": null,
   "id": "deafb274-8040-47a9-948f-4b68bff10766",
   "metadata": {},
   "outputs": [],
   "source": []
  },
  {
   "cell_type": "code",
   "execution_count": null,
   "id": "a2d77ba7-a3cd-4c09-934a-716560cef5a1",
   "metadata": {},
   "outputs": [],
   "source": []
  }
 ],
 "metadata": {
  "jupytext": {
   "formats": "ipynb,md:myst"
  },
  "kernelspec": {
   "display_name": "Python 3 (ipykernel)",
   "language": "python",
   "name": "python3"
  },
  "language_info": {
   "codemirror_mode": {
    "name": "ipython",
    "version": 3
   },
   "file_extension": ".py",
   "mimetype": "text/x-python",
   "name": "python",
   "nbconvert_exporter": "python",
   "pygments_lexer": "ipython3",
   "version": "3.11.6"
  }
 },
 "nbformat": 4,
 "nbformat_minor": 5
}
