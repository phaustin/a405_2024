{
 "cells": [
  {
   "cell_type": "markdown",
   "metadata": {},
   "source": [
    "(mixing_line_calc_solution)=\n",
    "# Mixing line workbook\n",
    "\n",
    "In the first part of the the term we calculated the temperature of a cloud-environment mixture using\n",
    "a tephigram.  In this notebook we calculate the virtural temperature of 100 different\n",
    "mixtures using the thermlim functions"
   ]
  },
  {
   "cell_type": "code",
   "execution_count": 1,
   "metadata": {},
   "outputs": [],
   "source": [
    "import numpy as np\n",
    "import pandas as pd\n",
    "from pprint import pformat\n",
    "import numpy as np\n",
    "import json\n",
    "\n",
    "from a405.thermo.constants import constants as c"
   ]
  },
  {
   "cell_type": "code",
   "execution_count": 2,
   "metadata": {},
   "outputs": [],
   "source": [
    "from a405.soundings.wyominglib import write_soundings, read_soundings\n",
    "from a405.thermo.thermlib import (find_Tmoist,find_rsat,find_Tv,find_lcl,find_thetaet,\n",
    "                                  tinvert_thetae)\n",
    "from matplotlib import pyplot as plt"
   ]
  },
  {
   "cell_type": "markdown",
   "metadata": {},
   "source": [
    "## Get a little rock sounding\n",
    "\n",
    "set get_data=True the first time through, then False for subsequent runs with the stored sounding in save_sounding.csv and metada.json"
   ]
  },
  {
   "cell_type": "code",
   "execution_count": 3,
   "metadata": {
    "scrolled": true
   },
   "outputs": [],
   "source": [
    "get_data=False\n",
    "if get_data:\n",
    "    values=dict(region='naconf',year='2012',month='7',start='0100',stop='3000',station='72340')\n",
    "    write_soundings(values, 'littlerock')\n",
    "    soundings= read_soundings('littlerock')\n",
    "    the_time=(2012,7,17,0)\n",
    "    sounding=soundings['sounding_dict'][the_time]\n",
    "    title_string=soundings['attributes']['header']\n",
    "    index=title_string.find(' Observations at')\n",
    "    location=title_string[:index]\n",
    "    print(f'location: {location}')\n",
    "else:\n",
    "    soundings= read_soundings('littlerock')\n",
    "all_sounds = soundings['sounding_dict']\n",
    "all_keys = list(all_sounds.keys())\n",
    "    \n",
    "    "
   ]
  },
  {
   "cell_type": "code",
   "execution_count": 4,
   "metadata": {},
   "outputs": [],
   "source": [
    "# all_keys"
   ]
  },
  {
   "cell_type": "code",
   "execution_count": 5,
   "metadata": {},
   "outputs": [],
   "source": [
    "np.seterr(all='ignore');"
   ]
  },
  {
   "cell_type": "code",
   "execution_count": 6,
   "metadata": {},
   "outputs": [],
   "source": [
    "the_sound = all_sounds[(2012,7,27,0)]"
   ]
  },
  {
   "cell_type": "markdown",
   "metadata": {},
   "source": [
    "# find the $\\theta_{e}$ of the  LCL\n",
    "\n",
    "## convert surface values to mks"
   ]
  },
  {
   "cell_type": "code",
   "execution_count": 7,
   "metadata": {},
   "outputs": [
    {
     "data": {
      "text/plain": [
       "(98800.0, 309.95, 291.95)"
      ]
     },
     "execution_count": 7,
     "metadata": {},
     "output_type": "execute_result"
    }
   ],
   "source": [
    "#\n",
    "# find thetae of the surface air, at index 0\n",
    "#\n",
    "sfc_press,sfc_temp,sfc_td =[the_sound[key][0] for key in ['pres','temp','dwpt']]\n",
    "#\n",
    "sfc_press,sfc_temp,sfc_td = sfc_press*100.,sfc_temp+c.Tc,sfc_td+c.Tc\n",
    "sfc_press, sfc_temp,sfc_td"
   ]
  },
  {
   "cell_type": "markdown",
   "metadata": {},
   "source": [
    "## What is the LCL of this air?"
   ]
  },
  {
   "cell_type": "code",
   "execution_count": 8,
   "metadata": {},
   "outputs": [],
   "source": [
    "Tlcl, plcl=find_lcl(sfc_td, sfc_temp,sfc_press)"
   ]
  },
  {
   "cell_type": "code",
   "execution_count": 9,
   "metadata": {},
   "outputs": [
    {
     "name": "stdout",
     "output_type": "stream",
     "text": [
      "found Tlcl=287.87 K, plcl=761.92 hPa\n"
     ]
    }
   ],
   "source": [
    "print(f'found Tlcl={Tlcl:.2f} K, plcl={plcl*1.e-2:.2f} hPa')"
   ]
  },
  {
   "cell_type": "markdown",
   "metadata": {},
   "source": [
    "## find sfc rv values and check that they match lcl"
   ]
  },
  {
   "cell_type": "code",
   "execution_count": 10,
   "metadata": {},
   "outputs": [
    {
     "data": {
      "text/plain": [
       "(0.013959777747524393, 0.013967928461792234)"
      ]
     },
     "execution_count": 10,
     "metadata": {},
     "output_type": "execute_result"
    }
   ],
   "source": [
    "sfc_rvap = find_rsat(sfc_td,sfc_press)\n",
    "lcl_rvap = find_rsat(Tlcl,plcl)\n",
    "sfc_rvap, lcl_rvap"
   ]
  },
  {
   "cell_type": "markdown",
   "metadata": {},
   "source": [
    "## Find surface $\\theta_e$"
   ]
  },
  {
   "cell_type": "code",
   "execution_count": 11,
   "metadata": {},
   "outputs": [
    {
     "data": {
      "text/plain": [
       "351.24772810478737"
      ]
     },
     "execution_count": 11,
     "metadata": {},
     "output_type": "execute_result"
    }
   ],
   "source": [
    "sfc_thetae=find_thetaet(sfc_td,sfc_rvap,sfc_temp,sfc_press)\n",
    "sfc_thetae"
   ]
  },
  {
   "cell_type": "code",
   "execution_count": 12,
   "metadata": {},
   "outputs": [],
   "source": [
    "#\n",
    "# find the index for 700 Pa/7 hPa pressure -- searchsorted requires\n",
    "# the pressure array to be increasing, so flip it for the search,\n",
    "# then flip the index.  Above 100 hPa thetae goes bananas, so\n",
    "# so trim so we only have good values\n",
    "#\n",
    "press = the_sound['pres']*100.\n",
    "toplim=len(press) - np.searchsorted(press[::-1],.7e4)\n",
    "clipped_press=press[:toplim]\n",
    "#\n",
    "# find temps along that adiabat\n",
    "#\n",
    "adia_temps= np.array([find_Tmoist(sfc_thetae,the_press) \n",
    "                      for the_press in clipped_press])\n",
    "#\n",
    "# find the liquid water content for the adiabat by subtracting\n",
    "# the vapor mixing ratio from the sfc mixing ratio\n",
    "#\n",
    "adia_rvaps = find_rsat(adia_temps,clipped_press)\n",
    "adia_rls = sfc_rvap - adia_rvaps\n",
    "env_temps = (the_sound['temp'].values + c.Tc)[:toplim]\n",
    "env_Td = (the_sound['dwpt'].values + c.Tc)[:toplim]\n",
    "height = the_sound['hght'].values[:toplim]\n",
    "pairs = zip(env_Td,clipped_press)\n",
    "env_rvaps= np.array([find_rsat(td,the_press) for td,the_press in pairs])\n",
    "env_Tv = find_Tv(env_temps,env_rvaps)\n",
    "adia_Tv = find_Tv(adia_temps,adia_rvaps,adia_rls)\n",
    "press_hPa = clipped_press*1.e-2"
   ]
  },
  {
   "cell_type": "markdown",
   "metadata": {},
   "source": [
    "## find the density of 100 mixtures of cloud and environment at 600 hPa"
   ]
  },
  {
   "cell_type": "markdown",
   "metadata": {},
   "source": [
    "## find the environmental rv and $\\theta_e$ at 600 hPa"
   ]
  },
  {
   "cell_type": "code",
   "execution_count": 13,
   "metadata": {},
   "outputs": [
    {
     "name": "stdout",
     "output_type": "stream",
     "text": [
      "pressure, 597.0 hPa  dewpoint 264.8 K , temp 275.8 K\n"
     ]
    }
   ],
   "source": [
    "mix_level=np.searchsorted(clipped_press[::-1],600.e2)\n",
    "index=len(clipped_press) - mix_level\n",
    "mix_press_600, env_Td_600, env_temp_600 = clipped_press[index],env_Td[index],env_temps[index]\n",
    "print(f\"pressure, {mix_press_600*1.e-2:.1f} hPa  dewpoint {env_Td_600:.1f} K , temp {env_temp_600:.1f} K\")\n",
    "env_rvap = env_rvaps[index]\n",
    "env_thetae = find_thetaet(env_Td_600,env_rvap,env_temp_600,mix_press_600)"
   ]
  },
  {
   "cell_type": "markdown",
   "metadata": {},
   "source": [
    "## Make 100 mixtures\n",
    "\n",
    "In the cell below, construct a list of 100 pairs of ($\\theta_e$, $r_T$) for 100 mixtures of\n",
    "cloud and environmental air at 600 hPa\n",
    "\n",
    "Find the virtual temperature for each mixture, and make a plot of fraction of environmental air vs virtual temperature"
   ]
  },
  {
   "cell_type": "code",
   "execution_count": 14,
   "metadata": {},
   "outputs": [
    {
     "name": "stdout",
     "output_type": "stream",
     "text": [
      "cloud thetae 351.248 K, env_thetae 329.579 K\n",
      "cloud rt 0.014 g/kg, env rt 0.003 g/kg\n"
     ]
    }
   ],
   "source": [
    "print(f'cloud thetae {sfc_thetae:5.3f} K, env_thetae {env_thetae:5.3f} K')\n",
    "print(f'cloud rt {sfc_rvap:5.3f} g/kg, env rt {env_rvap:5.3f} g/kg')\n",
    "fenv=np.linspace(0,1,100)\n",
    "#\n",
    "# make 100 mixtures\n",
    "#\n",
    "logthetae_mix = fenv*np.log(env_thetae) + (1 - fenv)*np.log(sfc_thetae)\n",
    "rTot_mix = fenv*env_rvap  + (1 - fenv)*sfc_rvap\n",
    "thetae_mix = np.exp(logthetae_mix)\n",
    "pairs = zip(thetae_mix,rTot_mix)"
   ]
  },
  {
   "cell_type": "markdown",
   "metadata": {},
   "source": [
    "## Find Tv for each mixture\n",
    "\n",
    "Create a list called Tvlist that holds Tv for each mixture"
   ]
  },
  {
   "cell_type": "code",
   "execution_count": 15,
   "metadata": {},
   "outputs": [],
   "source": [
    "#\n",
    "# find the virtual temperature for each mixture and append\n",
    "# to a list called Tvlist\n",
    "#\n",
    "Tvlist = []\n",
    "for thetae,rtot in pairs:\n",
    "    temp,rv,rl = tinvert_thetae(thetae,rtot,mix_press_600)\n",
    "    Tvlist.append(find_Tv(temp,rv,rl))"
   ]
  },
  {
   "cell_type": "markdown",
   "metadata": {},
   "source": [
    "## Make a plot of fenv vs. Tv"
   ]
  },
  {
   "cell_type": "code",
   "execution_count": 18,
   "metadata": {},
   "outputs": [
    {
     "data": {
      "image/png": "[encoded data removed]",
      "text/plain": [
       "<Figure size 1000x800 with 1 Axes>"
      ]
     },
     "metadata": {},
     "output_type": "display_data"
    }
   ],
   "source": [
    "fig,ax = plt.subplots(1,1,figsize=(10,8))\n",
    "ax.plot(fenv,Tvlist)\n",
    "title=f'cloud environment mixing at {mix_press_600*1.e-2:.1f} hPa'\n",
    "out=ax.set(xlabel='fraction of environmental air',ylabel='Mixture Tv (K)',title=title)\n",
    "ax.grid(True,which='both')"
   ]
  },
  {
   "cell_type": "code",
   "execution_count": null,
   "metadata": {},
   "outputs": [],
   "source": []
  },
  {
   "cell_type": "code",
   "execution_count": null,
   "metadata": {},
   "outputs": [],
   "source": []
  }
 ],
 "metadata": {
  "jupytext": {
   "formats": "ipynb,md:myst"
  },
  "kernelspec": {
   "display_name": "Python 3 (ipykernel)",
   "language": "python",
   "name": "python3"
  },
  "language_info": {
   "codemirror_mode": {
    "name": "ipython",
    "version": 3
   },
   "file_extension": ".py",
   "mimetype": "text/x-python",
   "name": "python",
   "nbconvert_exporter": "python",
   "pygments_lexer": "ipython3",
   "version": "3.11.7"
  },
  "toc": {
   "nav_menu": {},
   "number_sections": true,
   "sideBar": false,
   "skip_h1_title": false,
   "toc_cell": true,
   "toc_position": {},
   "toc_section_display": "block",
   "toc_window_display": false
  }
 },
 "nbformat": 4,
 "nbformat_minor": 4
}
