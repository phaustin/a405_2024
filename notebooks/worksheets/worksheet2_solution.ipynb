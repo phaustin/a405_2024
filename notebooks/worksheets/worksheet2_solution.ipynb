{
 "cells": [
  {
   "cell_type": "markdown",
   "id": "fa9b50e8-c603-42eb-a53b-d029295e3b68",
   "metadata": {},
   "source": [
    "# Week 2 worksheet 2 solutions"
   ]
  },
  {
   "cell_type": "markdown",
   "id": "26d9eef7-32ce-4d17-bb3b-a4e2e63bbe5c",
   "metadata": {},
   "source": [
    "## Working with the A405 thermodynamics libraries\n",
    "\n",
    "### Installation"
   ]
  },
  {
   "cell_type": "markdown",
   "id": "bce4aa38-0791-43a3-8689-7c0b0933198a",
   "metadata": {},
   "source": [
    "The source code for the libraries is in the [A405 github repository](https://github.com/phaustin/a405_2024/tree/main/src/a405).  To install on your laptop, use this [requirements.txt](https://www.dropbox.com/scl/fi/j7bg8p1hha8d21itoj1i0/requirements.txt?rlkey=g3ovng95fpw1skex969i81o76&dl=0) with pip  (note only one dash in -r, but two dashes in --update) in the a405 environment."
   ]
  },
  {
   "cell_type": "markdown",
   "id": "8ea79299-ea10-45b2-a9a6-bb22e7b98a29",
   "metadata": {},
   "source": [
    "   pip install -r requirements.txt --update"
   ]
  },
  {
   "cell_type": "markdown",
   "id": "1a26d397-1d8d-4855-bdc4-22a199a9a2e3",
   "metadata": {},
   "source": [
    "or just use the line inside the requirements.txt file:"
   ]
  },
  {
   "cell_type": "markdown",
   "id": "ee755b3c-80f3-478b-b2c0-67a9906c687b",
   "metadata": {
    "tags": []
   },
   "source": [
    "   pip install -r git+https://github.com/phaustin/a405_2024.git --update"
   ]
  },
  {
   "cell_type": "markdown",
   "id": "8d13291f-b5b0-42db-83ee-06cd201eba08",
   "metadata": {},
   "source": [
    "#### For the 2i2c hub\n",
    "\n",
    "If  you're on the 2i2c or UBC hubs, then you won't be able to create an a405 environment to install into.  In that case, use the following magic line at the top of your notebook:"
   ]
  },
  {
   "cell_type": "code",
   "execution_count": 1,
   "id": "d3943143-76a6-43d9-849e-92f7e6564d7b",
   "metadata": {
    "tags": []
   },
   "outputs": [
    {
     "name": "stdout",
     "output_type": "stream",
     "text": [
      "Collecting git+https://github.com/phaustin/a405_2024.git\n",
      "  Cloning https://github.com/phaustin/a405_2024.git to /private/var/folders/h3/5svt7fds58v0x7kkc54kl3640000gn/T/pip-req-build-v29oa616\n",
      "  Running command git clone --filter=blob:none --quiet https://github.com/phaustin/a405_2024.git /private/var/folders/h3/5svt7fds58v0x7kkc54kl3640000gn/T/pip-req-build-v29oa616\n",
      "  Resolved https://github.com/phaustin/a405_2024.git to commit e2128e0595870d2ebf196c7e25f46de725abb41e\n",
      "  Installing build dependencies ... \u001b[?25ldone\n",
      "\u001b[?25h  Getting requirements to build wheel ... \u001b[?25ldone\n",
      "\u001b[?25h  Preparing metadata (pyproject.toml) ... \u001b[?25ldone\n",
      "\u001b[?25hBuilding wheels for collected packages: a405\n",
      "  Building wheel for a405 (pyproject.toml) ... \u001b[?25ldone\n",
      "\u001b[?25h  Created wheel for a405: filename=a405-0.1.dev17+ge2128e0.d20240118-py3-none-any.whl size=572700 sha256=b333d68ea313c5ba5926f992b9146709f287577b757bbc3d3b36cef48258edd8\n",
      "  Stored in directory: /private/var/folders/h3/5svt7fds58v0x7kkc54kl3640000gn/T/pip-ephem-wheel-cache-kbd0yilf/wheels/58/d6/94/e8bcc651a1d06cc5fedab15440c41ca13dde5424bd57d290f7\n",
      "Successfully built a405\n",
      "Installing collected packages: a405\n",
      "  Attempting uninstall: a405\n",
      "    Found existing installation: a405 0.1.dev4+gd1d5fde.d20240109\n",
      "    Uninstalling a405-0.1.dev4+gd1d5fde.d20240109:\n",
      "      Successfully uninstalled a405-0.1.dev4+gd1d5fde.d20240109\n",
      "Successfully installed a405-0.1.dev17+ge2128e0.d20240118\n"
     ]
    }
   ],
   "source": [
    "import sys\n",
    "!{sys.executable} -m pip install git+https://github.com/phaustin/a405_2024.git"
   ]
  },
  {
   "cell_type": "markdown",
   "id": "33f887fb-f6cc-47c7-81a7-5d4bfa538895",
   "metadata": {},
   "source": [
    "Be sure to comment out that cell when you rerun the notebook"
   ]
  },
  {
   "cell_type": "markdown",
   "id": "1f015ca1-95fc-45c3-9184-7eb7f0957d34",
   "metadata": {},
   "source": [
    "### Documentation"
   ]
  },
  {
   "cell_type": "markdown",
   "id": "9e6cb711-8764-4420-967e-6de679651d99",
   "metadata": {},
   "source": [
    "The A405 library modules are documented at [https://phaustin.github.io/a405_lib/full_listing.html](https://phaustin.github.io/a405_lib/full_listing.html)"
   ]
  },
  {
   "cell_type": "markdown",
   "id": "0860c5a8-fb27-4d02-9413-1827912eea2a",
   "metadata": {
    "tags": []
   },
   "source": [
    "## Practice problems"
   ]
  },
  {
   "cell_type": "markdown",
   "id": "c6185bc5-8fe5-4f66-aae2-f802aad8942f",
   "metadata": {},
   "source": [
    "1)  **Answer**: Find the potential temperature of air at a pressure of 450 hPa and a temperature of 300 K"
   ]
  },
  {
   "cell_type": "code",
   "execution_count": 2,
   "id": "4f7578b4-68a0-4f86-9329-9304a0c25366",
   "metadata": {
    "tags": []
   },
   "outputs": [
    {
     "name": "stdout",
     "output_type": "stream",
     "text": [
      "answer=376.8 K\n"
     ]
    }
   ],
   "source": [
    "from a405.thermo import thermlib as tl\n",
    "temp=300\n",
    "press=45000\n",
    "answer = tl.find_theta(temp, press, rv=0)\n",
    "print(f\"{answer=:0.1f} K\")"
   ]
  },
  {
   "cell_type": "markdown",
   "id": "c9e1e70c-03ff-4b5c-af7f-1e08f8d890bd",
   "metadata": {},
   "source": [
    "2. Two jars of liquid water are placed in an insulated vacumn chamber with completely reflecting surfaces in the longwave.  They exchange longwave radiation until they come into equilibrium.  Neglect the water vapor in the chamber and the container material, and assume that Jar A contains 1 kg of liquid and Jar B contains 2 kg of liquid.\n",
    "\n",
    "    a. I the 1 kg jar A starts at 350 K and the 2 kg Jar B starts at 280 K, what is the final equilibrium temperature of each jar?  \n",
    "    b. What is the total change in entropy for the system composed of the two jars?  (liquid water is incompressible)"
   ]
  },
  {
   "cell_type": "code",
   "execution_count": 3,
   "id": "296d7c30-2a2e-4ce6-8219-0d9f26d6ae5a",
   "metadata": {
    "tags": []
   },
   "outputs": [],
   "source": [
    "from a405.thermo.constants import constants as c"
   ]
  },
  {
   "cell_type": "markdown",
   "id": "f08ba288-4627-4c25-abaa-bdbe0760719a",
   "metadata": {},
   "source": [
    "**2a Answer**"
   ]
  },
  {
   "cell_type": "markdown",
   "id": "cf2695a0-bba4-4446-b503-2c8e25e9fc66",
   "metadata": {},
   "source": [
    "Use the fact that $H = mass \\times c_l \\times temperature$\n",
    "where A$c_l$ is the heat capcity of liquid water at constant pressure (or constant volume, since liquid water is incompressible"
   ]
  },
  {
   "cell_type": "code",
   "execution_count": 4,
   "id": "20c32b4f-6c5d-4467-9856-ee2903b65a81",
   "metadata": {
    "tags": []
   },
   "outputs": [
    {
     "name": "stdout",
     "output_type": "stream",
     "text": [
      "temp_new=303.3 K\n"
     ]
    }
   ],
   "source": [
    "massA=1  #kg\n",
    "massB=2  #kg\n",
    "tempA=350  #K\n",
    "tempB=280  #K\n",
    "H_A=massA*c.cl*tempA  #J\n",
    "H_B=massB*c.cl*tempB  #J\n",
    "H_tot = H_A + H_B  #J\n",
    "#\n",
    "# convert this to J/kg\n",
    "#\n",
    "h_new = (H_A + H_B)/(massA + massB)  #J/kg\n",
    "#\n",
    "#  invert for temperature\n",
    "#\n",
    "temp_new = h_new/c.cl  #K\n",
    "print(f\"{temp_new=:0.1f} K\")"
   ]
  },
  {
   "cell_type": "markdown",
   "id": "264bce0d-7fdc-42a2-826c-f859221ea605",
   "metadata": {},
   "source": [
    "**2b answer**"
   ]
  },
  {
   "cell_type": "markdown",
   "id": "e8592c1b-f78b-495d-a88c-d1d3e423640c",
   "metadata": {},
   "source": [
    "Thompkins equation 1.48:\n",
    "\n",
    "$$\n",
    "c_p d \\ln \\theta=\\frac{c_p d T-v d p}{T}=d \\phi\n",
    "$$\n",
    "and since we are using liquid water, $dp=0$ and $c_p = c_l$\n",
    "\n",
    "$$\n",
    "\\frac{c_l dT}{T} = c_l d\\ln T=d \\phi\n",
    "$$\n",
    "\n",
    "So intergrate this from time 1 to time 2.  At time 1 A=350 K and B=280 K and at time 2 both A and B = 303.3 K.  "
   ]
  },
  {
   "cell_type": "markdown",
   "id": "66312686-5551-43ab-9213-5c55f474a4ea",
   "metadata": {},
   "source": [
    "$\\Delta \\Phi_A = massA \\times c_l \\times \\ln \\left ( \\frac{303}{350} \\right )$\n",
    "\n",
    "$\\Delta \\Phi_B = massB \\times c_l \\times \\ln \\left ( \\frac{303}{280} \\right )$"
   ]
  },
  {
   "cell_type": "code",
   "execution_count": 5,
   "id": "6d48c097-127e-4509-976e-c48c2c5140eb",
   "metadata": {},
   "outputs": [
    {
     "name": "stdout",
     "output_type": "stream",
     "text": [
      "total_delta_phi=57.3 J/K\n",
      "delta_phi=19.1 J/K/kg\n"
     ]
    }
   ],
   "source": [
    "import numpy as np\n",
    "total_delta_phi = massA*c.cl*np.log(303/350) + massB*c.cl*np.log(303/280.)\n",
    "print(f\"{total_delta_phi=:0.1f} J/K\")\n",
    "delta_phi = total_delta_phi/(massA + massB)\n",
    "print(f\"{delta_phi=:0.1f} J/K/kg\")"
   ]
  },
  {
   "cell_type": "code",
   "execution_count": null,
   "id": "c298c3da-c651-42cc-a14d-6c62b721bf6c",
   "metadata": {},
   "outputs": [],
   "source": []
  }
 ],
 "metadata": {
  "jupytext": {
   "formats": "ipynb,md:myst"
  },
  "kernelspec": {
   "display_name": "Python 3 (ipykernel)",
   "language": "python",
   "name": "python3"
  },
  "language_info": {
   "codemirror_mode": {
    "name": "ipython",
    "version": 3
   },
   "file_extension": ".py",
   "mimetype": "text/x-python",
   "name": "python",
   "nbconvert_exporter": "python",
   "pygments_lexer": "ipython3",
   "version": "3.11.6"
  }
 },
 "nbformat": 4,
 "nbformat_minor": 5
}
