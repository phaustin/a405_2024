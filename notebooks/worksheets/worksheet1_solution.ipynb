{
 "cells": [
  {
   "cell_type": "markdown",
   "id": "b119a761",
   "metadata": {
    "user_expressions": []
   },
   "source": [
    "(worksheet1_solution)=\n",
    "# Week 1 worksheet solutions\n",
    "\n",
    "Three problems from Lohmann Chapter 1"
   ]
  },
  {
   "cell_type": "markdown",
   "id": "32bca298",
   "metadata": {
    "user_expressions": []
   },
   "source": [
    "1) Assume a low level cloud with the following properties: vertical extent 1.5 km, horizontal\n",
    "extent 1 km, cloud droplet number concentration 90 $cm^{−3}$ air and mean diameter 10\n",
    "μm. Estimate the mass of the cloud by assuming that all the cloud droplets are spherical\n",
    "and have the same size. Take 1000 $kg\\,m^{−3}$ to be the density of water."
   ]
  },
  {
   "cell_type": "markdown",
   "id": "a0c86a7b-8669-4c3a-94a1-903a55d2feeb",
   "metadata": {
    "user_expressions": []
   },
   "source": [
    "1. Answer"
   ]
  },
  {
   "cell_type": "code",
   "execution_count": 1,
   "id": "f6b108e9-d41f-4a6c-86d1-16b5fa867d90",
   "metadata": {
    "tags": []
   },
   "outputs": [
    {
     "name": "stdout",
     "output_type": "stream",
     "text": [
      "Answer: 222.1 tonnes\n"
     ]
    }
   ],
   "source": [
    "cloud_diameter=1000 #m\n",
    "cloud_height = 1500 #m\n",
    "drop_density = 90e6 # /m^3\n",
    "drop_diameter = 10.e-6  #m\n",
    "rho = 1000  #kg/m^3\n",
    "pi = 3.1416\n",
    "cloud_volume = cloud_height*4*pi*(cloud_diameter/2.)**2.\n",
    "drop_volume = 4./3.*pi*(drop_diameter/2.)**3.\n",
    "total_number = cloud_volume*drop_density\n",
    "total_mass = total_number*drop_volume*rho #kg\n",
    "total_mass_tonnes = total_mass/1000.\n",
    "print(f\"Answer: {total_mass_tonnes:0.1f} tonnes\")"
   ]
  },
  {
   "cell_type": "markdown",
   "id": "7a7df0e4",
   "metadata": {
    "user_expressions": []
   },
   "source": [
    "2) Imagine a pure water cloud which consists of cloud droplets of uniform size with $R_d$\n",
    "=5 μm. Assume a uniform spacing of the cloud droplets, with a number concentration of\n",
    "Nc = 170 $cm^{-3}$\n",
    "\n",
    "   (a) Calculate the average distance between the cloud droplets\n",
    "   \n",
    "   (b) What would happen to the distance if the number concentration was trippled?"
   ]
  },
  {
   "cell_type": "markdown",
   "id": "461c0eb1-c984-4342-ae47-f3bdf0d3d351",
   "metadata": {
    "user_expressions": []
   },
   "source": [
    "2. Answer\n",
    "\n",
    "Assume that each drop gets its own cube inside the 1  $cm^{3}$ of air.  How many cubes does it take to pack a cm?"
   ]
  },
  {
   "cell_type": "code",
   "execution_count": 8,
   "id": "59e228df-7ce2-4a99-870a-6e83dbf5691d",
   "metadata": {
    "tags": []
   },
   "outputs": [
    {
     "name": "stdout",
     "output_type": "stream",
     "text": [
      "0.18 cm\n"
     ]
    }
   ],
   "source": [
    "N = 170.\n",
    "drop_cube_volume = 1/N\n",
    "drop_cube_size = drop_cube_volume**0.3333\n",
    "print(f\"{drop_cube_size:0.2f} cm\")"
   ]
  },
  {
   "cell_type": "markdown",
   "id": "73fbcad2-fafb-492c-8b0d-eb2097a0f6c2",
   "metadata": {},
   "source": [
    "So if the drop diameter is 10 microns, then there are about 180 drop diameters between droplets"
   ]
  },
  {
   "cell_type": "markdown",
   "id": "836a4598",
   "metadata": {
    "user_expressions": []
   },
   "source": [
    "3. The average pressure at Earth’s surface is 985 hPa. Knowing the radius of the Earth\n",
    "$r_{Earth}$ = 6370 km and using the definition of pressure, estimate the total mass of the\n",
    "atmosphere."
   ]
  },
  {
   "cell_type": "markdown",
   "id": "cfb85e83-c26c-4a6d-9a53-1741c1f8e514",
   "metadata": {
    "user_expressions": []
   },
   "source": [
    "3. Answer\n",
    "\n",
    "- pressure = force of gravity per unit area\n",
    "- force of gravity = mass $\\times$ acceleration"
   ]
  },
  {
   "cell_type": "code",
   "execution_count": 10,
   "id": "3e418259-1815-4ccc-95b6-06c6cab23a7c",
   "metadata": {
    "tags": []
   },
   "outputs": [
    {
     "name": "stdout",
     "output_type": "stream",
     "text": [
      "5125071.2 gtonnes\n"
     ]
    }
   ],
   "source": [
    "pressure = 98500  #pascals\n",
    "g = 9.8 # m/s/s\n",
    "mass_m2 = pressure/g\n",
    "r_earth = 6370e3  #m\n",
    "earth_area = 4*pi*r_earth**2.\n",
    "mass_atm = mass_m2*earth_area #kg\n",
    "mass_atm_gtonne = mass_atm/1.e12\n",
    "print(f\"{mass_atm_gtonne:0.1f} gtonnes\")"
   ]
  },
  {
   "cell_type": "code",
   "execution_count": null,
   "id": "c9d371a4-061b-411c-8969-e1f29bfcfbe7",
   "metadata": {},
   "outputs": [],
   "source": []
  }
 ],
 "metadata": {
  "jupytext": {
   "formats": "ipynb,md:myst"
  },
  "kernelspec": {
   "display_name": "Python 3 (ipykernel)",
   "language": "python",
   "name": "python3"
  },
  "language_info": {
   "codemirror_mode": {
    "name": "ipython",
    "version": 3
   },
   "file_extension": ".py",
   "mimetype": "text/x-python",
   "name": "python",
   "nbconvert_exporter": "python",
   "pygments_lexer": "ipython3",
   "version": "3.11.6"
  }
 },
 "nbformat": 4,
 "nbformat_minor": 5
}
