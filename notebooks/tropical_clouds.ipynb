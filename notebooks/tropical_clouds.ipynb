{
 "cells": [
  {
   "cell_type": "markdown",
   "id": "dcbcad7a",
   "metadata": {},
   "source": [
    "(tropical_clouds)=\n",
    "# Week 3 worksheet: Tropical clouds"
   ]
  },
  {
   "cell_type": "markdown",
   "id": "284e1c9e",
   "metadata": {},
   "source": [
    "1. Download the [tropical_subset.nc](https://www.dropbox.com/scl/fi/dfj80s9q920ljni5aakfc/tropical_subset.nc?rlkey=2fc2wr2yb70e4i6l9c7gwcyj3&dl=0) netcdf file\n",
    "   I put it in /Users/phil/Dropbox/phil_files/a405/data/tropical_subset.nc"
   ]
  },
  {
   "cell_type": "markdown",
   "id": "9583ce94",
   "metadata": {},
   "source": [
    "2. Find out what is in it with ncdump"
   ]
  },
  {
   "cell_type": "code",
   "execution_count": null,
   "id": "9089e495",
   "metadata": {},
   "outputs": [],
   "source": [
    "!ncdump -h /Users/phil/Dropbox/phil_files/a405/data/tropical_subset.nc"
   ]
  },
  {
   "cell_type": "markdown",
   "id": "36a5d40e",
   "metadata": {},
   "source": [
    "The file contains a single timestep from the simulation I showd in [my day1 slides](https://phaustin.github.io/talks/cloud_talk.html).  The variables that we're interested in\n",
    "right now are the absolute temperature TABS, the pressure $p$ and the pressure perturbation $PP$."
   ]
  },
  {
   "cell_type": "code",
   "execution_count": null,
   "id": "e137fce3",
   "metadata": {},
   "outputs": [],
   "source": [
    "from pathlib import Path\n",
    "import xarray as xr\n",
    "the_file = Path.home() / \"Dropbox/phil_files/a405/data/tropical_subset.nc\"\n",
    "the_ds = xr.open_dataset(the_file)"
   ]
  },
  {
   "cell_type": "code",
   "execution_count": null,
   "id": "f24f2992",
   "metadata": {},
   "outputs": [],
   "source": [
    "the_ds"
   ]
  },
  {
   "cell_type": "code",
   "execution_count": null,
   "id": "4529fcdb",
   "metadata": {},
   "outputs": [],
   "source": [
    "the_ds['p'].data"
   ]
  },
  {
   "cell_type": "markdown",
   "id": "bbafe6ea",
   "metadata": {},
   "source": [
    "## todo"
   ]
  },
  {
   "cell_type": "markdown",
   "id": "f8625f7b",
   "metadata": {},
   "source": [
    "Thompson uses a Taylor series to expand the equation of state\n",
    "\n",
    "$$\n",
    "  \\frac{\\rho^\\prime}{\\overline{\\rho}}  = \\frac{p^\\prime}{\\overline{p}}\n",
    "  - \\frac{T^\\prime}{\\overline{T}}\n",
    "$$"
   ]
  },
  {
   "cell_type": "markdown",
   "id": "2c7df9bf",
   "metadata": {},
   "source": [
    "1.  find the index of the vertical level that is closes to 500 m\n",
    "2.   For that level calculate all of the quantities in (1).  How much larger are rthe temperature and density terms that the pressure term?"
   ]
  },
  {
   "cell_type": "code",
   "execution_count": null,
   "id": "28a35573",
   "metadata": {},
   "outputs": [],
   "source": []
  }
 ],
 "metadata": {
  "kernelspec": {
   "display_name": "Python 3 (ipykernel)",
   "language": "python",
   "name": "python3"
  }
 },
 "nbformat": 4,
 "nbformat_minor": 5
}
