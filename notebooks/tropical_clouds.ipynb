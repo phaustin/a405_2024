{
 "cells": [
  {
   "cell_type": "markdown",
   "id": "1dd06f40",
   "metadata": {},
   "source": [
    "(tropical_clouds)=\n",
    "# Week 3 worksheet: Tropical clouds"
   ]
  },
  {
   "cell_type": "markdown",
   "id": "2fe1ca1d",
   "metadata": {},
   "source": [
    "1. Download the [tropical_subset.nc](https://www.dropbox.com/scl/fi/dfj80s9q920ljni5aakfc/tropical_subset.nc?rlkey=2fc2wr2yb70e4i6l9c7gwcyj3&dl=0) netcdf file\n",
    "   I put it in /Users/phil/Dropbox/phil_files/a405/data/tropical_subset.nc"
   ]
  },
  {
   "cell_type": "markdown",
   "id": "f1713cd4",
   "metadata": {},
   "source": [
    "2. Find out what is in it with ncdump"
   ]
  },
  {
   "cell_type": "code",
   "execution_count": null,
   "id": "5b930b0c",
   "metadata": {},
   "outputs": [],
   "source": [
    "!ncdump -h /Users/phil/Dropbox/phil_files/a405/data/tropical_subset.nc"
   ]
  },
  {
   "cell_type": "markdown",
   "id": "385bad82",
   "metadata": {},
   "source": [
    "The file contains a single timestep from the simulation I showd in [my day1 slides](https://phaustin.github.io/talks/cloud_talk.html).  The variables that we're interested in\n",
    "right now are the absolute temperature TABS, the pressure $p$ and the pressure perturbation $PP$."
   ]
  },
  {
   "cell_type": "code",
   "execution_count": null,
   "id": "e80d13c7",
   "metadata": {},
   "outputs": [],
   "source": [
    "from pathlib import Path\n",
    "import xarray as xr\n",
    "the_file = Path.home() / \"Dropbox/phil_files/a405/data/tropical_subset.nc\"\n",
    "the_ds = xr.open_dataset(the_file)"
   ]
  },
  {
   "cell_type": "code",
   "execution_count": null,
   "id": "eb8ce165",
   "metadata": {},
   "outputs": [],
   "source": [
    "the_ds"
   ]
  },
  {
   "cell_type": "code",
   "execution_count": null,
   "id": "90bed631",
   "metadata": {},
   "outputs": [],
   "source": [
    "the_ds['p'].data"
   ]
  },
  {
   "cell_type": "markdown",
   "id": "59a1e572",
   "metadata": {},
   "source": [
    "## Taylor's series expansion of the equation of state"
   ]
  },
  {
   "cell_type": "markdown",
   "id": "e93d39be",
   "metadata": {},
   "source": [
    "Consider this equation from the\n",
    "[Wikipedia entry on Taylor series](http://en.wikipedia.org/wiki/Taylor_series)\n",
    "\n",
    "$$\n",
    "\\begin{align}\n",
    "f(x,y) & \\approx f(a,b) +(x-a)\\, f_x(a,b) +(y-b)\\, f_y(a,b)\\nonumber \\\\\n",
    "&  + \\frac{1}{2!}\\left[ (x-a)^2\\,f_{xx}(a,b) + 2(x-a)(y-b)\\,f_{xy}(a,b) +(y-b)^2\\, f_{yy}(a,b) \\right]\n",
    "\\end{align}\n",
    "$$ (eq:taylor)\n",
    "where $f_{xy} = \\frac{ \\partial^2 f}{\\partial x \\partial y }$, etc. You should be able to show\n",
    "that if you expand $f=p=\\rho R_d T$ about the point \n",
    "$p_0(z) = \\rho_0(z) R_d T_0(z)$ where $p_0,\\ \\rho_0,\\ T_0$ are the pressure,\n",
    "density and temperature at height $z$ for a hydrostatic atmosphere.  Using {eq}`eq:taylor` with $a=\\rho_0$ and $b=T_0$ you should be able to show that\n",
    "to second order: \n",
    "\n",
    "\n",
    "$$\n",
    "\\frac{\\Delta p}{p_0} = \\frac{\\Delta T}{T_0} + \\frac{\\Delta \\rho}{\\rho_0} + \\frac{\\Delta T \\Delta \\rho}{T_0 \\rho_0}\n",
    "$$ (eq:full)\n",
    "\n",
    "Note that $\\Delta p$, $\\Delta T$, and $\\Delta \\rho$ are all functions of\n",
    "(t,x,y,z).\n",
    "\n",
    "If the atmosphere is close to hydrostatic balance, then we can expect the $\\Delta$ differences to be small if $p_0$ is the hydrostatic pressure, and we can drop the\n",
    "$\\frac{ \\Delta T \\Delta \\rho}{T_0 \\rho_0}$ term and write\n",
    "\n",
    "$$\n",
    "\\frac{\\Delta p}{p_0} = \\frac{\\Delta T}{T_0} + \\frac{\\Delta \\rho}{\\rho_0}\n",
    "$$\n",
    "\n",
    "We will show later that away from active convection we also can expect $\\frac{\\Delta p }{p_0}$ to be small.\n",
    "\n",
    "\n",
    "\n",
    "## Todo\n",
    "\n",
    "\n",
    "1.  find the index of the vertical level that is closes to 500 m\n",
    "2.   For that plot calculate histograms of all of the quantities in {eq}`eq:full`.  How much larger are the temperature and density terms that the pressure term?  How about the second order density x pressure term?\n",
    "\n",
    "Userful reference:  [xarray plotting](https://docs.xarray.dev/en/latest/user-guide/plotting.html)\n",
    "\n",
    "Hint for finding a level closest to 500 meters. Make sure you understand why this works:"
   ]
  },
  {
   "cell_type": "code",
   "execution_count": null,
   "id": "cb54f8c5",
   "metadata": {},
   "outputs": [],
   "source": [
    "import numpy as np\n",
    "from matplotlib import pyplot as plt\n",
    "heights = the_ds['z'].data\n",
    "height_diff = heights - 500\n",
    "the_lev = np.argmin(np.abs(height_diff))\n",
    "print(f\"{the_lev=} and {heights[the_lev]=}\")"
   ]
  },
  {
   "cell_type": "code",
   "execution_count": null,
   "id": "85bf5be7",
   "metadata": {},
   "outputs": [],
   "source": []
  }
 ],
 "metadata": {
  "jupytext": {
   "formats": "md:myst,ipynb"
  },
  "kernelspec": {
   "display_name": "Python 3 (ipykernel)",
   "language": "python",
   "name": "python3"
  }
 },
 "nbformat": 4,
 "nbformat_minor": 5
}
