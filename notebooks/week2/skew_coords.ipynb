{
 "cells": [
  {
   "cell_type": "markdown",
   "id": "20b4c9fb",
   "metadata": {},
   "source": [
    "(skew_coords)=\n",
    "# Week2: Theromodynamic diagrams"
   ]
  },
  {
   "cell_type": "markdown",
   "id": "0aedb39c-ab2b-42e8-8840-9db011e95fa1",
   "metadata": {},
   "source": [
    "## The University of Wyoming Upperair archive"
   ]
  },
  {
   "cell_type": "markdown",
   "id": "a69eeb97-ed74-4331-a268-24d14e45cce1",
   "metadata": {},
   "source": [
    "The University of Wyoming maintains a public archive of balloon sounding data at [https://weather.uwyo.edu/upperair/sounding.html](https://weather.uwyo.edu/upperair/sounding.html)\n",
    "\n",
    "This data can be accessed using the Python [requests module](https://realpython.com/python-requests/)\n",
    "\n",
    "The Wyoming web server responds to a \"get request\" of the form:\n",
    "\n",
    "     https://weather.uwyo.edu/cgi-bin/sounding?region=naconf&TYPE=TEXT%3ALIST&YEAR=2024&MONTH=01&FROM=1912&TO=1912&STNM=71957\n",
    "\n",
    "Where:\n",
    "\n",
    "- region is one of naconf, samer, pac, nz, ant, np, europe,africa, seasia, mideast\n",
    "- year and month are in the format yyyy and mm respectively\n",
    "- from and to are days of month in dd inclusive\n",
    "- stnm is the station number from this table:  [https://www.nws.noaa.gov/dm-cgi-bin/nsd_state_lookup.pl](https://www.nws.noaa.gov/dm-cgi-bin/nsd_state_lookup.pl)"
   ]
  },
  {
   "cell_type": "markdown",
   "id": "ec5f4a64-164f-421d-914e-ba0e82300ea9",
   "metadata": {},
   "source": [
    "## The wyominglib sounding module\n",
    "\n",
    "### Fetching soundings\n",
    "\n",
    "The [a405.soundings.wyominglib.write_soundings function](https://phaustin.github.io/a405_lib/_modules/a405/soundings/wyominglib.html#write_soundings) takes a dictionary with these\n",
    "parameters and a path to a folder, makes the requests to the Wyoming site and writes soundings in csv format to the folder"
   ]
  },
  {
   "cell_type": "markdown",
   "id": "73d2c3fd-ddea-4983-a4f9-b96458f5d740",
   "metadata": {},
   "source": [
    "#### write_sound example\n",
    "\n",
    "Get all the February,2013 soundings for [Alta Floresta airport](https://www.google.com/maps/place/Alta+Floresta+Airport/@-9.8722629,-56.1049062,15z/data=!4m6!3m5!1s0x93aa317851e54e4f:0x2c2df4288fa7837e!8m2!3d-9.8722629!4d-56.1049062!16s%2Fm%2F04fnn0d?entry=ttu) in Brazil and save to a folder called brazil_soundings"
   ]
  },
  {
   "cell_type": "code",
   "execution_count": 1,
   "id": "809bfcdf-29bf-476e-be82-a931166a8dad",
   "metadata": {},
   "outputs": [],
   "source": [
    "from a405.soundings.wyominglib import write_soundings\n",
    "write = False\n",
    "if write:\n",
    "    region = 'samer'\n",
    "    year = '2013'\n",
    "    month= '2'\n",
    "    start = '0100'\n",
    "    stop = '2000'\n",
    "    station = '82965'\n",
    "    sounding_dir = 'brazil_soundings'\n",
    "    values=dict(region=region,year=year,month=month,start=start,stop=stop,station=station)\n",
    "    write_soundings(values, sounding_dir)"
   ]
  },
  {
   "cell_type": "markdown",
   "id": "100dc70e-9bda-45ab-8e8b-3930714748f6",
   "metadata": {},
   "source": [
    "### reading soundings into pandas dataframes"
   ]
  },
  {
   "cell_type": "markdown",
   "id": "a58e822e-117e-4097-8355-b935d6fdcf98",
   "metadata": {},
   "source": [
    "#### read_soundings example\n",
    "\n",
    "This cell shows how to get the pandas dataframe for the airport sounding on Feb. 1, 2013 at 12 UCT"
   ]
  },
  {
   "cell_type": "code",
   "execution_count": 2,
   "id": "512a81f5-eb69-4dc1-b381-0a9e51ad2c70",
   "metadata": {},
   "outputs": [],
   "source": [
    "from a405.soundings.wyominglib import read_soundings\n",
    "sounding_dir = 'brazil_soundings'\n",
    "sounding_dict = read_soundings(sounding_dir)"
   ]
  },
  {
   "cell_type": "code",
   "execution_count": 3,
   "id": "6866254b-d8e0-4df7-88c8-0d362ba64adb",
   "metadata": {},
   "outputs": [
    {
     "ename": "NameError",
     "evalue": "name 'the_sound' is not defined",
     "output_type": "error",
     "traceback": [
      "\u001b[0;31m---------------------------------------------------------------------------\u001b[0m",
      "\u001b[0;31mNameError\u001b[0m                                 Traceback (most recent call last)",
      "Cell \u001b[0;32mIn[3], line 1\u001b[0m\n\u001b[0;32m----> 1\u001b[0m press,temp \u001b[38;5;241m=\u001b[39m \u001b[43mthe_sound\u001b[49m[\u001b[38;5;124m'\u001b[39m\u001b[38;5;124mpres\u001b[39m\u001b[38;5;124m'\u001b[39m]\u001b[38;5;241m.\u001b[39mto_numpy(), the_sound[\u001b[38;5;124m'\u001b[39m\u001b[38;5;124mtemp\u001b[39m\u001b[38;5;124m'\u001b[39m]\u001b[38;5;241m.\u001b[39mto_numpy()\n\u001b[1;32m      2\u001b[0m press, temp\n",
      "\u001b[0;31mNameError\u001b[0m: name 'the_sound' is not defined"
     ]
    }
   ],
   "source": [
    "press,temp = the_sound['pres'].to_numpy(), the_sound['temp'].to_numpy()\n",
    "press, temp"
   ]
  },
  {
   "cell_type": "markdown",
   "id": "3a0217a4",
   "metadata": {},
   "source": [
    "### 2. Calculating skewed temperature coordinates\n",
    "\n",
    "If you try plotting your soundings on the conventional plot above, you'll see\n",
    "that the height-temperature dependence makes it difficult to see the temperature\n",
    "and dewpoint together.  The traditional approach is to slant the temperature\n",
    "line by a constant slope (note that this is different from rotating the line,\n",
    "because the y axis doesn't change)"
   ]
  },
  {
   "cell_type": "code",
   "execution_count": null,
   "id": "52087b5e-7f1d-45b8-8f67-15e5e53920be",
   "metadata": {},
   "outputs": [],
   "source": [
    "from metpy.plots import SkewT\n",
    "from metpy.units import units\n",
    "fig,ax =plt.subplots(1,1,figsize=(8,8))\n",
    "fig.clf()\n",
    "skew_plot = SkewT(fig)\n",
    "skew_plot.ax.set_title(\"metpy example\")\n",
    "skew_plot.ax.set(xlim=(0,25),ylim=(1000,600))\n",
    "theta = np.array([0,10,20,30,40,50,60]) + 273.15\n",
    "theta = theta*units(\"K\")\n",
    "skew_plot.plot_dry_adiabats(t0=theta)\n",
    "skew_plot.plot_moist_adiabats()\n",
    "skew_plot.plot_mixing_lines()\n",
    "skew_plot.plot(press,temp,'r')\n",
    "skew_plot.plot(press,dewpoint,'g');"
   ]
  },
  {
   "cell_type": "code",
   "execution_count": null,
   "id": "4a8ef6c7-f393-45e1-8a48-57fd024b62cf",
   "metadata": {},
   "outputs": [],
   "source": []
  }
 ],
 "metadata": {
  "jupytext": {
   "formats": "ipynb,md:myst"
  },
  "kernelspec": {
   "display_name": "Python 3 (ipykernel)",
   "language": "python",
   "name": "python3"
  },
  "language_info": {
   "codemirror_mode": {
    "name": "ipython",
    "version": 3
   },
   "file_extension": ".py",
   "mimetype": "text/x-python",
   "name": "python",
   "nbconvert_exporter": "python",
   "pygments_lexer": "ipython3",
   "version": "3.11.6"
  }
 },
 "nbformat": 4,
 "nbformat_minor": 5
}
