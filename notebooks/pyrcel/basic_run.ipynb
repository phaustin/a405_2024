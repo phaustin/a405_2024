{
 "cells": [
  {
   "cell_type": "markdown",
   "metadata": {},
   "source": [
    "(pyrcel_basic)=\n",
    "# Pyrcel Example: Basic Run"
   ]
  },
  {
   "cell_type": "markdown",
   "metadata": {},
   "source": [
    "In this example, we will setup a simple parcel model simulation containing two aerosol modes. We will then run the model with a 1 m/s updraft, and observe how the aerosol population bifurcates into swelled aerosol and cloud droplets."
   ]
  },
  {
   "cell_type": "code",
   "execution_count": 1,
   "metadata": {
    "collapsed": false,
    "jupyter": {
     "outputs_hidden": false
    }
   },
   "outputs": [],
   "source": [
    "# Suppress warnings\n",
    "import warnings \n",
    "warnings.simplefilter('ignore')\n",
    "\n",
    "import pyrcel as pm\n",
    "import numpy as np\n",
    "\n",
    "import matplotlib.pyplot as plt"
   ]
  },
  {
   "cell_type": "markdown",
   "metadata": {},
   "source": [
    "First, we indicate the parcel's initial thermodynamic conditions."
   ]
  },
  {
   "cell_type": "code",
   "execution_count": 2,
   "metadata": {
    "collapsed": false,
    "jupyter": {
     "outputs_hidden": false
    }
   },
   "outputs": [],
   "source": [
    "P0 = 77500. # Pressure, Pa\n",
    "T0 = 274.   # Temperature, K\n",
    "S0 = -0.02  # Supersaturation, 1-RH (98% here)"
   ]
  },
  {
   "cell_type": "markdown",
   "metadata": {},
   "source": [
    "Next, we define the aerosols present in the parcel. The model itself is agnostic to how the aerosol are specified; it simply expects lists of the radii of wetted aerosol radii, their number concentration, and their hygroscopicity. We can make container objects (:class:`AerosolSpecies`) that wrap all of this information so that we never need to worry about it.\n",
    "\n",
    "Here, let's construct two aerosol modes:\n",
    "\n",
    "+----------+---------------------------+--------------------+---------+------------------------+\n",
    "| Mode     | $\\kappa$ (hygroscopicity) | Mean size (micron) | Std dev | Number Conc (cm\\*\\*-3) |\n",
    "+==========+===========================+====================+=========+========================+\n",
    "| sulfate  | 0.54                      | 0.015              | 1.6     | 850                    |\n",
    "+----------+---------------------------+--------------------+---------+------------------------+\n",
    "| sea salt | 1.2                       | 0.85               | 1.2     | 10                     |\n",
    "+----------+---------------------------+--------------------+---------+------------------------+\n",
    "\n",
    "We'll define each mode using the :class:`Lognorm` distribution packaged with the model."
   ]
  },
  {
   "cell_type": "code",
   "execution_count": 7,
   "metadata": {
    "collapsed": false,
    "jupyter": {
     "outputs_hidden": false
    }
   },
   "outputs": [
    {
     "data": {
      "text/plain": [
       "['Nis',\n",
       " '__class__',\n",
       " '__delattr__',\n",
       " '__dict__',\n",
       " '__dir__',\n",
       " '__doc__',\n",
       " '__eq__',\n",
       " '__format__',\n",
       " '__ge__',\n",
       " '__getattribute__',\n",
       " '__getstate__',\n",
       " '__gt__',\n",
       " '__hash__',\n",
       " '__init__',\n",
       " '__init_subclass__',\n",
       " '__le__',\n",
       " '__lt__',\n",
       " '__module__',\n",
       " '__ne__',\n",
       " '__new__',\n",
       " '__reduce__',\n",
       " '__reduce_ex__',\n",
       " '__repr__',\n",
       " '__setattr__',\n",
       " '__sizeof__',\n",
       " '__str__',\n",
       " '__subclasshook__',\n",
       " '__weakref__',\n",
       " 'bins',\n",
       " 'distribution',\n",
       " 'kappa',\n",
       " 'mw',\n",
       " 'nr',\n",
       " 'r_drys',\n",
       " 'rho',\n",
       " 'rs',\n",
       " 'species',\n",
       " 'stats',\n",
       " 'total_N']"
      ]
     },
     "execution_count": 7,
     "metadata": {},
     "output_type": "execute_result"
    }
   ],
   "source": [
    "sulfate =  pm.AerosolSpecies('sulfate', \n",
    "                             pm.Lognorm(mu=0.015, sigma=1.6, N=850.),\n",
    "                             kappa=0.54, bins=200)\n",
    "sea_salt = pm.AerosolSpecies('sea salt',\n",
    "                             pm.Lognorm(mu=0.85, sigma=1.2, N=10.),\n",
    "                             kappa=1.2, bins=40)\n",
    "#help(sulfate)\n",
    "dir(sulfate)"
   ]
  },
  {
   "cell_type": "markdown",
   "metadata": {},
   "source": [
    "The :class:`AerosolSpecies` class automatically computes gridded/binned representations of the size distributions. Let's double check that the aerosol distribution in the model will make sense by plotting the number concentration in each bin."
   ]
  },
  {
   "cell_type": "code",
   "execution_count": null,
   "metadata": {
    "collapsed": false,
    "jupyter": {
     "outputs_hidden": false
    }
   },
   "outputs": [],
   "source": [
    "fig = plt.figure(figsize=(10,5))\n",
    "ax = fig.add_subplot(111)\n",
    "ax.grid(False, \"minor\")\n",
    "\n",
    "sul_c = \"#CC0066\"\n",
    "ax.bar(sulfate.rs[:-1], sulfate.Nis*1e-6, np.diff(sulfate.rs),\n",
    "        color=sul_c, label=\"sulfate\", edgecolor=\"#CC0066\")\n",
    "sea_c = \"#0099FF\"\n",
    "ax.bar(sea_salt.rs[:-1], sea_salt.Nis*1e-6, np.diff(sea_salt.rs),\n",
    "        color=sea_c, label=\"sea salt\", edgecolor=\"#0099FF\")\n",
    "ax.semilogx()\n",
    "\n",
    "ax.set_xlabel(\"Aerosol dry radius, micron\")\n",
    "ax.set_ylabel(\"Aerosl number conc., cm$^{-3}$\")\n",
    "ax.legend(loc='upper right')"
   ]
  },
  {
   "cell_type": "markdown",
   "metadata": {},
   "source": [
    "Actually running the model is very straightforward, and involves just two steps:\n",
    "\n",
    "1. Instantiate the model by creating a :class:`ParcelModel` object.\n",
    "2. Call the model's :method:`run` method.\n",
    "\n",
    "For convenience this process is encoded into several routines in the `driver` file, including both a single-strategy routine and an iterating routine which adjusts the the timestep and numerical tolerances if the model crashes. However, we can illustrate the simple model running process here in case you wish to develop your own scheme for running the model."
   ]
  },
  {
   "cell_type": "code",
   "execution_count": null,
   "metadata": {
    "collapsed": false,
    "jupyter": {
     "outputs_hidden": false
    }
   },
   "outputs": [],
   "source": [
    "initial_aerosols = [sulfate, sea_salt]\n",
    "V = 1.0 # updraft speed, m/s\n",
    "\n",
    "dt = 1.0 # timestep, seconds\n",
    "t_end = 250./V # end time, seconds... 250 meter simulation \n",
    "\n",
    "model = pm.ParcelModel(initial_aerosols, V, T0, S0, P0, console=False, accom=0.3)\n",
    "parcel_trace, aerosol_traces = model.run(t_end, dt, solver='cvode')"
   ]
  },
  {
   "cell_type": "markdown",
   "metadata": {},
   "source": [
    "If `console` is set to `True`, then some basic debugging output will be written to the terminal, including the initial equilibrium droplet size distribution and some numerical solver diagnostics. The model output can be customized; by default, we get a DataFrame and a Panel of the parcel state vector and aerosol bin sizes as a function of time (and height). We can use this to visualize the simulation results, like in the package's [README](https://github.com/darothen/parcel_model/blob/master/README.md)."
   ]
  },
  {
   "cell_type": "code",
   "execution_count": null,
   "metadata": {
    "collapsed": false,
    "jupyter": {
     "outputs_hidden": false
    }
   },
   "outputs": [],
   "source": [
    "fig, [axS, axA] = plt.subplots(1, 2, figsize=(10, 4), sharey=True)\n",
    "\n",
    "axS.plot(parcel_trace['S']*100., parcel_trace['z'], color='k', lw=2)\n",
    "axT = axS.twiny()\n",
    "axT.plot(parcel_trace['T'], parcel_trace['z'], color='r', lw=1.5)\n",
    "\n",
    "Smax = parcel_trace['S'].max()*100\n",
    "z_at_smax = parcel_trace['z'].iloc[parcel_trace['S'].argmax()]\n",
    "axS.annotate(\"max S = %0.2f%%\" % Smax, \n",
    "             xy=(Smax, z_at_smax), \n",
    "             xytext=(Smax-0.3, z_at_smax+50.),\n",
    "             arrowprops=dict(arrowstyle=\"->\", color='k',\n",
    "                             connectionstyle='angle3,angleA=0,angleB=90'),\n",
    "             zorder=10)\n",
    "\n",
    "axS.set_xlim(0, 0.7)\n",
    "axS.set_ylim(0, 250)\n",
    "\n",
    "axT.set_xticks([270, 271, 272, 273, 274])\n",
    "axT.xaxis.label.set_color('red')\n",
    "axT.tick_params(axis='x', colors='red')\n",
    "\n",
    "axS.set_xlabel(\"Supersaturation, %\")\n",
    "axT.set_xlabel(\"Temperature, K\")\n",
    "axS.set_ylabel(\"Height, m\")\n",
    "\n",
    "sulf_array = aerosol_traces['sulfate'].values\n",
    "sea_array = aerosol_traces['sea salt'].values\n",
    "\n",
    "ss = axA.plot(sulf_array[:, ::10]*1e6, parcel_trace['z'], color=sul_c, \n",
    "         label=\"sulfate\")\n",
    "sa = axA.plot(sea_array*1e6, parcel_trace['z'], color=sea_c, label=\"sea salt\")\n",
    "axA.semilogx()\n",
    "axA.set_xlim(1e-2, 10.)\n",
    "axA.set_xticks([1e-2, 1e-1, 1e0, 1e1], [0.01, 0.1, 1.0, 10.0])\n",
    "axA.legend([ss[0], sa[0]], ['sulfate', 'sea salt'], loc='upper right')\n",
    "axA.set_xlabel(\"Droplet radius, micron\")\n",
    "\n",
    "for ax in [axS, axA, axT]:\n",
    "    ax.grid(False, 'both', 'both')"
   ]
  },
  {
   "cell_type": "markdown",
   "metadata": {},
   "source": [
    "In this simple example, the sulfate aerosol population bifurcated into interstitial aerosol and cloud droplets, while the entire sea salt population activated. A peak supersaturation of about 0.63% was reached a few meters above cloud base, where the ambient relative humidity hit 100%."
   ]
  },
  {
   "cell_type": "markdown",
   "metadata": {},
   "source": [
    "\n",
    "How many CDNC does this translate into? We can call upon helper methods from the `activation` package to perform these calculations for us:"
   ]
  },
  {
   "cell_type": "code",
   "execution_count": null,
   "metadata": {
    "collapsed": false,
    "jupyter": {
     "outputs_hidden": false
    }
   },
   "outputs": [],
   "source": [
    "from pyrcel import binned_activation\n",
    "\n",
    "sulf_trace = aerosol_traces['sulfate']\n",
    "sea_trace = aerosol_traces['sea salt']\n",
    "\n",
    "ind_final = int(t_end/dt) - 1\n",
    "\n",
    "T = parcel_trace['T'].iloc[ind_final]\n",
    "eq_sulf, kn_sulf, alpha_sulf, phi_sulf = \\\n",
    "    binned_activation(Smax/100, T, sulf_trace.iloc[ind_final],  sulfate)\n",
    "eq_sulf *= sulfate.total_N\n",
    "\n",
    "eq_sea, kn_sea, alpha_sea, phi_sea = \\\n",
    "    binned_activation(Smax/100, T, sea_trace.iloc[ind_final], sea_salt)\n",
    "eq_sea *= sea_salt.total_N\n",
    "\n",
    "print(\"  CDNC(sulfate) = {:3.1f}\".format(eq_sulf))\n",
    "print(\" CDNC(sea salt) = {:3.1f}\".format(eq_sea))\n",
    "print(\"------------------------\")\n",
    "print(\"          total = {:3.1f} / {:3.0f} ~ act frac = {:1.2f}\".format(\n",
    "      eq_sulf+eq_sea, \n",
    "      sea_salt.total_N+sulfate.total_N,\n",
    "      (eq_sulf+eq_sea)/(sea_salt.total_N+sulfate.total_N)\n",
    "))"
   ]
  }
 ],
 "metadata": {
  "jupytext": {
   "formats": "ipynb,md:myst"
  },
  "kernelspec": {
   "display_name": "Python 3 (ipykernel)",
   "language": "python",
   "name": "python3"
  },
  "language_info": {
   "codemirror_mode": {
    "name": "ipython",
    "version": 3
   },
   "file_extension": ".py",
   "mimetype": "text/x-python",
   "name": "python",
   "nbconvert_exporter": "python",
   "pygments_lexer": "ipython3",
   "version": "3.11.7"
  }
 },
 "nbformat": 4,
 "nbformat_minor": 4
}
