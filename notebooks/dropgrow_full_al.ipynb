{
 "cells": [
  {
   "cell_type": "markdown",
   "id": "e6fe2f9d",
   "metadata": {},
   "source": [
    "## Parcel model with 30 aerosol masses, lognormal distribution"
   ]
  },
  {
   "cell_type": "code",
   "execution_count": 1,
   "id": "5da040f9",
   "metadata": {},
   "outputs": [],
   "source": [
    "import json\n",
    "import a405.utils\n",
    "from pathlib import Path\n",
    "import numpy as np\n",
    "from a405.dropgrow.aerolib import lognormal,create_koehler\n",
    "from a405.utils.helper_funs import make_tuple, find_centers\n",
    "from a405.thermo.thermlib import find_esat, find_lv\n",
    "from a405.thermo.rootfinder import find_interval, fzero\n",
    "from a405.dropgrow.drop_grow import find_diff, rlcalc, find_derivs, Scalc\n",
    "from a405.thermo.constants import constants as c\n",
    "from scipy.integrate import odeint\n",
    "import pandas as pd\n",
    "from matplotlib import pyplot as plt\n",
    "import datetime\n",
    "import importlib_resources as ir \n",
    "import pprint\n",
    "pp = pprint.PrettyPrinter(indent=4)"
   ]
  },
  {
   "cell_type": "markdown",
   "id": "26ccebe9-2170-48c0-8e55-fed77138244e",
   "metadata": {},
   "source": []
  },
  {
   "cell_type": "markdown",
   "id": "92dec2b8",
   "metadata": {},
   "source": [
    "## Read in the json file and set the koehler function for this aerosol"
   ]
  },
  {
   "cell_type": "code",
   "execution_count": 4,
   "id": "ae749c08-17c9-43ea-9286-991140464662",
   "metadata": {},
   "outputs": [],
   "source": [
    "aerosol_specs = {\n",
    "    \"Ms\": 114,  #molecular weight of aerosol\n",
    "    \"Mw\": 18.0,  #molecular weight of water\n",
    "    \"Sigma\": 0.075,  # surface tension N/m^2\n",
    "    \"vanHoff\": 2.0,  \n",
    "    \"rhoaero\": 1778, #aerosol density, kg/m^3\n",
    "    \"themean\": 2e-17,  #mean mass kg\n",
    "    \"sd\": 1.7,  #standard deviation (kg)\n",
    "    \"totmass\": 1.5e-09  #kg/m^3 \n",
    "}"
   ]
  },
  {
   "cell_type": "code",
   "execution_count": 5,
   "id": "dc3abbc0-cd75-4c56-abd6-77cb8df61661",
   "metadata": {},
   "outputs": [],
   "source": [
    "initial_conditions = {\n",
    "        \"Tinit\": 280.0, #K\n",
    "        \"Zinit\": 1000.0, #m\n",
    "        \"Pinit\": 90000.0, #Pa\n",
    "        \"Sinit\": 0.995,\n",
    "        \"wvel\": 0.5  #m/s\n",
    "}\n"
   ]
  },
  {
   "cell_type": "code",
   "execution_count": 6,
   "id": "762c8080",
   "metadata": {},
   "outputs": [],
   "source": [
    "aero=make_tuple(aerosol_specs)\n",
    "parcel=make_tuple(initial_conditions)\n",
    "\n",
    "koehler_fun = create_koehler(aero,parcel)\n",
    "    "
   ]
  },
  {
   "cell_type": "markdown",
   "id": "37d058f7",
   "metadata": {},
   "source": [
    "## initialize the lognormal mass and number distributions for 30 bins"
   ]
  },
  {
   "cell_type": "code",
   "execution_count": 8,
   "id": "3b1b9834",
   "metadata": {},
   "outputs": [],
   "source": [
    "#\n",
    "#set the edges of the mass bins\n",
    "#31 edges means we have 30 droplet bins\n",
    "#\n",
    "numrads = 30\n",
    "mass_vals = np.linspace(-20,-16,numrads+1) \n",
    "mass_vals = 10**mass_vals  #aerosol mass in kg\n",
    "mu=aero.themean\n",
    "sigma = aero.sd\n",
    "totmass = aero.totmass\n",
    "mdist = totmass*lognormal(mass_vals,np.log(mu),np.log(sigma))\n",
    "mdist = find_centers(mdist)*np.diff(mass_vals)  #kg/m^3 of aerosol in each bin\n",
    "center_mass = find_centers(mass_vals)\n",
    "ndist = mdist/center_mass  #number/m^3 of aerosol in each bin\n",
    "#save these in an ordered dictionary to pass to functions\n",
    "cloud_vars = dict()\n",
    "cloud_vars['mdist'] = mdist\n",
    "cloud_vars['ndist'] = ndist\n",
    "cloud_vars['center_mass'] = center_mass\n",
    "cloud_vars['koehler_fun'] = koehler_fun"
   ]
  },
  {
   "cell_type": "markdown",
   "id": "37f1e64c",
   "metadata": {},
   "source": [
    "## find the equilibrium radius for each bin at saturation Sinit"
   ]
  },
  {
   "cell_type": "code",
   "execution_count": 9,
   "id": "a382cd24",
   "metadata": {},
   "outputs": [
    {
     "name": "stdout",
     "output_type": "stream",
     "text": [
      "mass = 1.18e-20 kg\n",
      "equlibrium radius at S=0.995 is 0.026 microns\n",
      "\n",
      "mass = 1.6e-20 kg\n",
      "equlibrium radius at S=0.995 is 0.030 microns\n",
      "\n",
      "mass = 2.18e-20 kg\n",
      "equlibrium radius at S=0.995 is 0.035 microns\n",
      "\n",
      "mass = 2.96e-20 kg\n",
      "equlibrium radius at S=0.995 is 0.040 microns\n",
      "\n",
      "mass = 4.03e-20 kg\n",
      "equlibrium radius at S=0.995 is 0.046 microns\n",
      "\n",
      "mass = 5.48e-20 kg\n",
      "equlibrium radius at S=0.995 is 0.053 microns\n",
      "\n",
      "mass = 7.44e-20 kg\n",
      "equlibrium radius at S=0.995 is 0.061 microns\n",
      "\n",
      "mass = 1.01e-19 kg\n",
      "equlibrium radius at S=0.995 is 0.071 microns\n",
      "\n",
      "mass = 1.38e-19 kg\n",
      "equlibrium radius at S=0.995 is 0.081 microns\n",
      "\n",
      "mass = 1.87e-19 kg\n",
      "equlibrium radius at S=0.995 is 0.093 microns\n",
      "\n",
      "mass = 2.54e-19 kg\n",
      "equlibrium radius at S=0.995 is 0.106 microns\n",
      "\n",
      "mass = 3.45e-19 kg\n",
      "equlibrium radius at S=0.995 is 0.121 microns\n",
      "\n",
      "mass = 4.7e-19 kg\n",
      "equlibrium radius at S=0.995 is 0.138 microns\n",
      "\n",
      "mass = 6.38e-19 kg\n",
      "equlibrium radius at S=0.995 is 0.157 microns\n",
      "\n",
      "mass = 8.68e-19 kg\n",
      "equlibrium radius at S=0.995 is 0.178 microns\n",
      "\n",
      "mass = 1.18e-18 kg\n",
      "equlibrium radius at S=0.995 is 0.202 microns\n",
      "\n",
      "mass = 1.6e-18 kg\n",
      "equlibrium radius at S=0.995 is 0.228 microns\n",
      "\n",
      "mass = 2.18e-18 kg\n",
      "equlibrium radius at S=0.995 is 0.258 microns\n",
      "\n",
      "mass = 2.96e-18 kg\n",
      "equlibrium radius at S=0.995 is 0.291 microns\n",
      "\n",
      "mass = 4.03e-18 kg\n",
      "equlibrium radius at S=0.995 is 0.328 microns\n",
      "\n",
      "mass = 5.48e-18 kg\n",
      "equlibrium radius at S=0.995 is 0.369 microns\n",
      "\n",
      "mass = 7.44e-18 kg\n",
      "equlibrium radius at S=0.995 is 0.415 microns\n",
      "\n",
      "mass = 1.01e-17 kg\n",
      "equlibrium radius at S=0.995 is 0.466 microns\n",
      "\n",
      "mass = 1.38e-17 kg\n",
      "equlibrium radius at S=0.995 is 0.523 microns\n",
      "\n",
      "mass = 1.87e-17 kg\n",
      "equlibrium radius at S=0.995 is 0.586 microns\n",
      "\n",
      "mass = 2.54e-17 kg\n",
      "equlibrium radius at S=0.995 is 0.655 microns\n",
      "\n",
      "mass = 3.45e-17 kg\n",
      "equlibrium radius at S=0.995 is 0.733 microns\n",
      "\n",
      "mass = 4.7e-17 kg\n",
      "equlibrium radius at S=0.995 is 0.819 microns\n",
      "\n",
      "mass = 6.38e-17 kg\n",
      "equlibrium radius at S=0.995 is 0.914 microns\n",
      "\n",
      "mass = 8.68e-17 kg\n",
      "equlibrium radius at S=0.995 is 1.020 microns\n",
      "\n"
     ]
    }
   ],
   "source": [
    "S_target = parcel.Sinit\n",
    "logr_start = np.log(0.1e-6)\n",
    "\n",
    "initial_radius = []\n",
    "dry_radius = []\n",
    "for mass in center_mass:\n",
    "    brackets = np.array(find_interval(find_diff,logr_start,S_target,mass,koehler_fun))\n",
    "    left_bracket, right_bracket = np.exp(brackets)*1.e6  #get brackets in microns for printing\n",
    "    equil_rad = np.exp(fzero(find_diff,brackets,S_target,mass,koehler_fun))\n",
    "\n",
    "    initial_radius.append(equil_rad)\n",
    "    dry_rad = (mass/(4./3.*np.pi*aero.rhoaero))**(1./3.)\n",
    "    dry_radius.append(dry_rad)\n",
    "\n",
    "    print('mass = {mass:6.3g} kg'.format_map(locals()))\n",
    "    print('equlibrium radius at S={} is {:5.3f} microns\\n'.format(S_target,equil_rad*1.e6))"
   ]
  },
  {
   "cell_type": "markdown",
   "id": "129bef8c",
   "metadata": {},
   "source": [
    "## now add the intial conditions to the cloud_vars dictionary and make it a namedtuple\n",
    "\n",
    "the vector var_vec holds 30 droplet radii plus three extra variables at the\n",
    "end of the vector: the temperature, pressure and height."
   ]
  },
  {
   "cell_type": "code",
   "execution_count": 10,
   "id": "1d8d0859",
   "metadata": {},
   "outputs": [],
   "source": [
    "cloud_vars['initial_radiius'] = initial_radius\n",
    "cloud_vars['dry_radius'] = dry_radius\n",
    "cloud_vars['masses'] = center_mass\n",
    "numrads = len(initial_radius)\n",
    "var_vec = np.empty(numrads + 3)\n",
    "for i in range(numrads):\n",
    "    var_vec[i] = initial_radius[i]\n",
    "\n",
    "#\n",
    "# temp, press and height go at the end of the vector\n",
    "#\n",
    "var_vec[-3] = parcel.Tinit\n",
    "var_vec[-2] = parcel.Pinit\n",
    "var_vec[-1] = parcel.Zinit\n",
    "\n",
    "cloud_tup = make_tuple(cloud_vars)\n",
    "#calculate the total water (kg/kg)\n",
    "rl=rlcalc(var_vec,cloud_tup);\n",
    "e=parcel.Sinit*find_esat(parcel.Tinit);\n",
    "rv=c.eps*e/(parcel.Pinit - e)\n",
    "#save total water\n",
    "cloud_vars['rt'] = rv + rl\n",
    "cloud_vars['wvel'] = parcel.wvel\n",
    "cloud_vars['wvel'] = 1.5\n",
    "#\n",
    "# pass this to the find_derivs function\n",
    "#\n",
    "cloud_tup= make_tuple(cloud_vars)"
   ]
  },
  {
   "cell_type": "markdown",
   "id": "e20c4bca",
   "metadata": {},
   "source": [
    "## use odeint to integrate the variable in var_vec from tinit to tfin with outputs every dt seconds"
   ]
  },
  {
   "cell_type": "code",
   "execution_count": null,
   "id": "a46f4e36",
   "metadata": {},
   "outputs": [],
   "source": [
    "var_out = []\n",
    "time_out =[]\n",
    "\n",
    "tinit=input_dict['integration']['dt']\n",
    "dt = input_dict['integration']['dt']\n",
    "tfin = input_dict['integration']['tend']\n",
    "\n",
    "t = np.arange(0,tfin,dt)\n",
    "sol = odeint(find_derivs,var_vec, t, args=(cloud_tup,))"
   ]
  },
  {
   "cell_type": "markdown",
   "id": "a2c887cd",
   "metadata": {},
   "source": [
    "## create a dataframe with 33 columns to hold the data"
   ]
  },
  {
   "cell_type": "code",
   "execution_count": null,
   "id": "f031bba6",
   "metadata": {},
   "outputs": [],
   "source": [
    "colnames = [\"r{}\".format(item) for item in range(30)]\n",
    "colnames.extend(['temp','press','z'])\n",
    "df_output = pd.DataFrame.from_records(sol,columns = colnames)"
   ]
  },
  {
   "cell_type": "markdown",
   "id": "315a43e3",
   "metadata": {},
   "source": [
    "## store the dataframe in an csv file, including a copy of the input dictionary for future reference"
   ]
  },
  {
   "cell_type": "code",
   "execution_count": null,
   "id": "75d7dce9",
   "metadata": {},
   "outputs": [],
   "source": [
    "if input_dict['dump_output']:\n",
    "    outfile_name = f'{input_dict[\"output_file\"]}.csv'\n",
    "    with open(outfile_name,'w') as store:\n",
    "       df_output.to_csv(store)\n",
    "\n",
    "    metadata_name = f'{input_dict[\"output_file\"]}.json'\n",
    "    date=datetime.datetime.now().strftime('%Y-%M-%d')\n",
    "    with open(metadata_name,'w') as meta:\n",
    "        history =\"file produced by drop_grow.py on {}\".format(date)\n",
    "        print('history: ',history)\n",
    "        input_dict['history']=history\n",
    "        json.dump(input_dict,meta,indent=4)"
   ]
  },
  {
   "cell_type": "code",
   "execution_count": null,
   "id": "2069cc40",
   "metadata": {},
   "outputs": [],
   "source": [
    "fig, ax = plt.subplots(1,1,figsize=[10,8])\n",
    "for i in colnames[:-3]:\n",
    "    ax.plot(df_output[i]*1.e6,df_output['z'],label=i)\n",
    "out=ax.set(ylim=[1000,1040],xlim=[0,6],\n",
    "       xlabel='radii (microns)',ylabel='height (m)',\n",
    "              title='radii vs. height in a {} m/s updraft'.format(cloud_tup.wvel))"
   ]
  },
  {
   "cell_type": "code",
   "execution_count": null,
   "id": "0135b7b0",
   "metadata": {},
   "outputs": [],
   "source": [
    "Svals = []\n",
    "for index,row in df_output.iterrows():\n",
    "    var_vec = row.values\n",
    "    Svals.append(Scalc(var_vec,cloud_tup))\n",
    "fig,ax = plt.subplots(1,1,figsize=[10,8])\n",
    "ax.plot(Svals,df_output['z'])\n",
    "out=ax.set(ylim=[1000,1050],title='Saturation in a {} m/s updraft'.format(cloud_tup.wvel))"
   ]
  },
  {
   "cell_type": "markdown",
   "id": "071b4000",
   "metadata": {},
   "source": [
    "## Predict $dSS/dt$ at 1010m\n",
    "\n",
    "Define a function that implements equation 6 from the equilibrium supersaturation notes:\n",
    "\n",
    "$$\n",
    "\\frac{dr_v}{dt} = (1 + SS)\\left[\\frac{-\\epsilon e_s}{p^2}\\left(\\frac{-gpV}{R_dT}\\right) + \\frac{\\epsilon}{p}\\left(\\frac{\\epsilon Le_s}{R_dT^2}\\right)\\frac{dT}{dt}\\right] + \\frac{\\epsilon e_s}{p}\\frac{dSS}{dt}\\tag{PA 6}\n",
    "$$\n",
    "\n",
    "Re-arrange to solve for $dSS/dt$:\n",
    "\n",
    "$$\n",
    "\\frac{dSS}{dt} = \\frac{p}{\\epsilon e_s}\\left(\\frac{dr_v}{dt} - (1 + SS)\\left[\\frac{-\\epsilon e_s}{p^2}\\left(\\frac{-gpV}{R_dT}\\right) + \\frac{\\epsilon}{p}\\left(\\frac{\\epsilon Le_s}{R_dT^2}\\right)\\frac{dT}{dt}\\right]\\right)\n",
    "$$\n",
    "\n",
    "To get $dT/dt$, assume a static temperature at each level and constant updraft speed of 1.5m/s, yielding:\n",
    "\n",
    "$$\n",
    "\\frac{dT}{dt} = \\frac{dT}{dz}\\frac{dz}{dt} = V\\frac{dT}{dz}\n",
    "$$\n",
    "\n",
    "Similarly find $dr_v/dt$:\n",
    "\n",
    "$$\n",
    "r_v = \\frac{\\epsilon e_s}{p - e_s}\n",
    "$$\n",
    "\n",
    "$$\n",
    "\\frac{dr_v}{dt} = \\frac{dr_v}{dz}\\frac{dz}{dt} = V\\frac{dr_v}{dz}\n",
    "$$"
   ]
  },
  {
   "cell_type": "code",
   "execution_count": null,
   "id": "f496e7dd",
   "metadata": {},
   "outputs": [],
   "source": [
    "# pull out variables for PA6\n",
    "SS = np.array(Svals)\n",
    "press = df_output.press\n",
    "z = np.array(df_output.z)\n",
    "T = df_output.temp\n",
    "es = find_esat(T)\n",
    "V = 1.5  # m/s\n",
    "\n",
    "# pack inputs into a tuple\n",
    "inputs = (SS, press, z, T, es, V)"
   ]
  },
  {
   "cell_type": "code",
   "execution_count": null,
   "id": "61fc2bab",
   "metadata": {},
   "outputs": [],
   "source": [
    "def find_dSSdt(SS, press, z, T, es, V):\n",
    "    \"\"\"\n",
    "    finds time derivative of SS given an updraft speed and other params\n",
    "    \"\"\"\n",
    "    # get the height deriv of T and interpolate\n",
    "    dTdz_lyr = np.diff(T) #/ np.diff(z)\n",
    "    dTdz_plus = np.append(dTdz_lyr, dTdz_lyr[-1])\n",
    "    dTdz_minus = np.append(dTdz_lyr[0], dTdz_lyr)\n",
    "    Tgrad = (dTdz_plus + dTdz_minus) / 2\n",
    "    \n",
    "    # same for rv\n",
    "    rv = c.eps * es / (press - es)\n",
    "    drvdz_lyr = np.diff(rv) #/ np.diff(z)\n",
    "    drvdz_plus = np.append(drvdz_lyr, drvdz_lyr[-1])\n",
    "    drvdz_minus = np.append(drvdz_lyr[0], drvdz_lyr)\n",
    "    rv_grad = (drvdz_plus + drvdz_minus) / 2\n",
    "    \n",
    "    # solve for dSS/dt\n",
    "    A = press / (c.eps * es)\n",
    "    B = 1 + SS\n",
    "    C = (c.eps * es / press ** 2) * ((c.g0 * press * V) / (c.Rd * T))\n",
    "    D = (c.eps / press) * (c.eps * find_lv(T) * es * V * Tgrad) / (c.Rd * T ** 2)\n",
    "    dSSdt = A * (rv_grad - B * (C + D))\n",
    "    return dSSdt"
   ]
  },
  {
   "cell_type": "code",
   "execution_count": null,
   "id": "dbc3f1da",
   "metadata": {},
   "outputs": [],
   "source": [
    "dSSdt = find_dSSdt(*inputs)\n",
    "\n",
    "ht = 1010 # m\n",
    "idx = (np.abs(z - ht)).argmin()\n",
    "print(f\"dSS/dt at {ht} m: {dSSdt[idx]}\")"
   ]
  }
 ],
 "metadata": {
  "jupytext": {
   "formats": "ipynb,md:myst"
  },
  "kernelspec": {
   "display_name": "Python 3 (ipykernel)",
   "language": "python",
   "name": "python3"
  },
  "language_info": {
   "codemirror_mode": {
    "name": "ipython",
    "version": 3
   },
   "file_extension": ".py",
   "mimetype": "text/x-python",
   "name": "python",
   "nbconvert_exporter": "python",
   "pygments_lexer": "ipython3",
   "version": "3.11.7"
  }
 },
 "nbformat": 4,
 "nbformat_minor": 5
}
