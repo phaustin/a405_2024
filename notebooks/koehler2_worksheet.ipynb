{
 "cells": [
  {
   "cell_type": "markdown",
   "id": "c3234eb0",
   "metadata": {},
   "source": [
    "(koehler2)=\n",
    "# Koehler equilibrium worksheet II\n",
    "\n",
    "This worksheet defines a set of functions to compute the \n",
    "equilbrium radii for aerosols with a lognormal mass distribution"
   ]
  },
  {
   "cell_type": "code",
   "execution_count": 1,
   "id": "885a5051",
   "metadata": {},
   "outputs": [],
   "source": [
    "import a405.dropgrow.aerolib\n",
    "import numpy as np\n",
    "from a405.thermo.constants import constants as c\n",
    "import json\n",
    "from scipy import optimize\n",
    "from collections import namedtuple\n",
    "from typing import Callable\n",
    "\n"
   ]
  },
  {
   "cell_type": "markdown",
   "id": "a7785b9d-7960-4e23-80c5-f26575c34251",
   "metadata": {},
   "source": [
    "## Functions"
   ]
  },
  {
   "cell_type": "markdown",
   "id": "524d620c-95fc-4acc-b486-cc7b64653ec0",
   "metadata": {},
   "source": [
    "### create a lognormal distribution"
   ]
  },
  {
   "cell_type": "code",
   "execution_count": 2,
   "id": "58cb2776",
   "metadata": {},
   "outputs": [],
   "source": [
    "from numpy.typing import ArrayLike as array\n",
    "def lognormal(x: array,mu: float,sigma: float) -> array:\n",
    "    \"\"\"\n",
    "    Calculate lognormal distribution for variable x\n",
    "\n",
    "    parameters\n",
    "    ----------\n",
    "    x: vector (float)  \n",
    "      aerosol masses (kg)  (for example)\n",
    "      \n",
    "    mu: log(mean mass)\n",
    "       \n",
    "    sigma:   log(standard deviation)\n",
    "       \n",
    "    returns\n",
    "    -------\n",
    "    \n",
    "    out: vector (float)\n",
    "        lognormal pdf, normalized to 1 (units: 1/[x], where [x] are the units of x)\n",
    "\n",
    "    \n",
    "    \"\"\"\n",
    "    out=(1/(x*sigma*np.sqrt(2*np.pi)))*np.exp(-(np.log(x) - mu)**2./(2*sigma**2.))\n",
    "    return out\n"
   ]
  },
  {
   "cell_type": "markdown",
   "id": "0dc4e687-6f0a-4776-8169-2b9952b9c1ef",
   "metadata": {},
   "source": [
    "### convenience function -- make a namedtuple\n",
    "\n",
    "create a namedtuple from a dictionary"
   ]
  },
  {
   "cell_type": "code",
   "execution_count": 3,
   "id": "193f8706",
   "metadata": {},
   "outputs": [],
   "source": [
    "def make_tuple(in_dict: dict,tupname='values'):\n",
    "    \"\"\"\n",
    "    make a named tuple from a dictionary\n",
    "\n",
    "    Parameters\n",
    "    ----------\n",
    "\n",
    "    in_dict: dictionary\n",
    "         Any python object with key/value pairs\n",
    "\n",
    "    tupname: string\n",
    "         optional name for the new namedtuple type\n",
    "\n",
    "    Returns\n",
    "    -------\n",
    "\n",
    "    the_tup: namedtuple\n",
    "          named tuple with keys as attributes\n",
    "    \"\"\"\n",
    "    #\n",
    "    # create the class/type tup_class\n",
    "    #\n",
    "    tup_class = namedtuple(tupname, in_dict.keys())\n",
    "    #\n",
    "    # create an instance of the class with in_dict values\n",
    "    #\n",
    "    the_tup = tup_class(**in_dict)\n",
    "    return the_tup\n"
   ]
  },
  {
   "cell_type": "markdown",
   "id": "e030c8d1-d82d-411a-ba22-602abcac9f97",
   "metadata": {},
   "source": [
    "### convenience function: find an initial rootfinder interval\n",
    "\n",
    "This expands outward from a point until the sign changes"
   ]
  },
  {
   "cell_type": "code",
   "execution_count": 4,
   "id": "ea68bbe0",
   "metadata": {},
   "outputs": [],
   "source": [
    "def find_interval(the_func: Callable, x: float, *args) -> tuple:\n",
    "    \"\"\"\n",
    "    starting from a 2% difference, move out from a \n",
    "    point until the_func changes sign\n",
    "\n",
    "    Parameters\n",
    "    ----------\n",
    "\n",
    "    the_func : function\n",
    "               function that returns zero when on root\n",
    "    \n",
    "    x : float\n",
    "        argument to the_func\n",
    "\n",
    "    *args : tuple\n",
    "            additional arguments for the_func\n",
    "\n",
    "    Returns\n",
    "    -------\n",
    "\n",
    "    brackets : (left,right) tuple\n",
    "               left,right  brackets for root \n",
    "    \"\"\"\n",
    "    if x == 0.:\n",
    "        dx = 1. / 50.\n",
    "    else:\n",
    "        dx = x / 50.\n",
    "\n",
    "    maxiter = 40\n",
    "    twosqrt = np.sqrt(2)\n",
    "\n",
    "    failed = True\n",
    "    for i in range(maxiter):\n",
    "        dx = dx * twosqrt\n",
    "        a = x - dx\n",
    "        fa = the_func(a, *args)\n",
    "        b = x + dx\n",
    "        fb = the_func(b, *args)\n",
    "        if (fa * fb < 0.):\n",
    "            failed = False\n",
    "            break\n",
    "    if failed:\n",
    "        #\n",
    "        # dump all the information into a json string\n",
    "        # for debugging\n",
    "        #\n",
    "        values = dict(a=a,b=b,fa=fa,fb=fb,x=x,dx=dx,args=args)\n",
    "        value_string = json.dumps(values)\n",
    "        raise BracketError(f\"Couldn't find a suitable range. Providing extra_info\\n{value_string}\")\n",
    "    return (a, b)\n"
   ]
  },
  {
   "cell_type": "markdown",
   "id": "b03613eb-dc96-4b7a-9dcc-87e386470b70",
   "metadata": {},
   "source": [
    "### convenience function -- return the center of a bin vector"
   ]
  },
  {
   "cell_type": "code",
   "execution_count": 5,
   "id": "291bd4a6",
   "metadata": {},
   "outputs": [],
   "source": [
    "def find_centers(x: array) -> array:\n",
    "    \"\"\"\n",
    "    return a vector of bin centers given the bin edges\n",
    "\n",
    "    Parameters\n",
    "    ----------\n",
    "\n",
    "    x: numpy 1-d vector\n",
    "       vector of edges of bins\n",
    "\n",
    "    Returns\n",
    "    -------\n",
    "    center: numpy 1-d vector \n",
    "       vector of centers of bins\n",
    "    \n",
    "    \"\"\"\n",
    "    center = (x[1:] + x[:-1])/2.\n",
    "    return center"
   ]
  },
  {
   "cell_type": "markdown",
   "id": "883bc904-7845-42ae-87bf-dadd1861a978",
   "metadata": {},
   "source": [
    "### find Koehler a,b coefficients"
   ]
  },
  {
   "cell_type": "code",
   "execution_count": 6,
   "id": "37391857",
   "metadata": {},
   "outputs": [],
   "source": [
    "def find_koehler_coeffs(aero: namedtuple,parcel: namedtuple) -> tuple:\n",
    "    \"\"\"\n",
    "\n",
    "    Returns the a, b coefficients for the approximate Koehler eqn\n",
    "\n",
    "    Parameters\n",
    "    ----------\n",
    "\n",
    "    aero:\n",
    "      constants used for the aerosol terms in the Koehler equation\n",
    "\n",
    "    parcel:\n",
    "          constants used for the thermodynmaic terms in the \n",
    "          droplet growth/Koehler equations\n",
    "\n",
    "    Returns\n",
    "    -------\n",
    "\n",
    "    tuple a, b\n",
    "    \n",
    "    a: float\n",
    "       coefficient for a/r term (m)\n",
    "\n",
    "    b: float\n",
    "       coefficient for b*m/r^3 term (m^3/kg)\n",
    "\n",
    "\n",
    "\n",
    "    \"\"\"\n",
    "    a=(2.*aero.Sigma)/(c.Rv*parcel.Tinit*c.rhol)  #curvature term\n",
    "    b=(aero.vanHoff*aero.Mw)/((4./3.)*np.pi*c.rhol*aero.Ms)  #solution term, no mass\n",
    "    return a,b"
   ]
  },
  {
   "cell_type": "markdown",
   "id": "657b0ace-7819-4e0b-981d-08613e25d540",
   "metadata": {},
   "source": [
    "### S from the koehler equation"
   ]
  },
  {
   "cell_type": "code",
   "execution_count": 7,
   "id": "172fe085",
   "metadata": {},
   "outputs": [],
   "source": [
    "def find_S_full(r: float, m: float,\n",
    "                   aero: namedtuple,parcel: namedtuple) -> float:\n",
    "    \"\"\"\n",
    "    Find the saturation S for the koehler curve given droplet radius\n",
    "    and aerosol characteristics\n",
    "\n",
    "    Parameters\n",
    "    ----------\n",
    "    r: droplet radius (m)\n",
    "\n",
    "    m: aersol mass (kg)\n",
    " \n",
    "    aero: namedtuple\n",
    "      constants used for the aerosol terms in the Koehler equation\n",
    "\n",
    "    parcel: namedtuple\n",
    "          constants used for the thermodynmaic terms in the \n",
    "          droplet growth/Koehler equations\n",
    "\n",
    "    Returns\n",
    "    -------\n",
    "\n",
    "    S: koehler curve saturation\n",
    "      \n",
    "\n",
    "    \"\"\"\n",
    "    a, b = find_koehler_coeffs(aero, parcel)\n",
    "    a=(2.*aero.Sigma)/(c.Rv*parcel.Tinit*c.rhol)  #curvature term\n",
    "    ns = m*aero.vanHoff/aero.Ms\n",
    "    nw = 4/3.*np.pi*r**3.*c.rhol/aero.Mw  # Raoult term\n",
    "    S = (nw/(ns + nw))*np.exp(a/r)\n",
    "    return S"
   ]
  },
  {
   "cell_type": "markdown",
   "id": "72db8f04-b8f5-4620-9099-b3053848349d",
   "metadata": {},
   "source": [
    "### difference function to pass to rootfinder"
   ]
  },
  {
   "cell_type": "code",
   "execution_count": 8,
   "id": "7dd60f20-0e3e-4ac6-b4a9-606d97ae8aa5",
   "metadata": {},
   "outputs": [],
   "source": [
    "def find_diff(logr,S_target,m):\n",
    "    \"\"\"\n",
    "    zero function for rootfinder\n",
    "    \"\"\"\n",
    "    r = np.exp(logr)\n",
    "    the_diff = S_target - koehler_fun(r,m)\n",
    "    return the_diff"
   ]
  },
  {
   "cell_type": "markdown",
   "id": "88344257-6467-4934-9655-0d9c6acef0c1",
   "metadata": {},
   "source": [
    "## Main program\n"
   ]
  },
  {
   "cell_type": "markdown",
   "id": "2d990f3d",
   "metadata": {},
   "source": [
    "### specify the aerosol and initial conditions\n",
    "\n",
    "Ammonium bisulphate: $(NH_4)HSO_4$"
   ]
  },
  {
   "cell_type": "code",
   "execution_count": 9,
   "id": "4d3b996c",
   "metadata": {},
   "outputs": [],
   "source": [
    "aerosol_specs = {\n",
    "    \"Ms\": 114,  #molecular weight of aerosol\n",
    "    \"Mw\": 18.0,  #molecular weight of water\n",
    "    \"Sigma\": 0.075,  # surface tension N/m^2\n",
    "    \"vanHoff\": 2.0,  \n",
    "    \"rhoaero\": 1778, #aerosol density, kg/m^3\n",
    "    \"themean\": 2e-17,  #mean mass kg\n",
    "    \"sd\": 1.7,  #standard deviation (kg)\n",
    "    \"totmass\": 1.5e-09  #kg/m^3 \n",
    "}\n"
   ]
  },
  {
   "cell_type": "code",
   "execution_count": 10,
   "id": "6527e2a3",
   "metadata": {},
   "outputs": [],
   "source": [
    "initial_conditions = {\n",
    "        \"Tinit\": 280.0, #K\n",
    "        \"Zinit\": 1000.0, #m\n",
    "        \"Pinit\": 90000.0, #Pa\n",
    "        \"Sinit\": 0.995,\n",
    "        \"wvel\": 0.5  #m/s\n",
    "    }"
   ]
  },
  {
   "cell_type": "markdown",
   "id": "22cba816-4814-41a7-9f52-fbab5f6f770b",
   "metadata": {},
   "source": [
    "### turn the dicts into namedtuples"
   ]
  },
  {
   "cell_type": "code",
   "execution_count": 11,
   "id": "130ede74",
   "metadata": {},
   "outputs": [],
   "source": [
    "aero=make_tuple(aerosol_specs)\n",
    "parcel=make_tuple(initial_conditions)"
   ]
  },
  {
   "cell_type": "markdown",
   "id": "27bdaf55-1ccb-4152-b942-3b4435a19130",
   "metadata": {},
   "source": [
    "### create the lognormal distribution"
   ]
  },
  {
   "cell_type": "code",
   "execution_count": 12,
   "id": "c4b397af",
   "metadata": {},
   "outputs": [],
   "source": [
    "#\n",
    "# make 30 mass bins between 10**(-20) and 10**(-16) kg\n",
    "#\n",
    "mass_vals = np.linspace(-20,-16,30)\n",
    "mass_vals = 10**mass_vals  # kg\n",
    "mu=aero.themean  #kg\n",
    "sigma = aero.sd #kg\n",
    "totmass = aero.totmass #kg\n",
    "#\n",
    "# create a lognormal mass distribution\n",
    "#\n",
    "mdist = totmass*lognormal(mass_vals,np.log(mu),np.log(sigma))\n",
    "mdist = find_centers(mdist)*np.diff(mass_vals)\n",
    "center_mass = find_centers(mass_vals)\n",
    "ndist = mdist/center_mass"
   ]
  },
  {
   "cell_type": "code",
   "execution_count": 13,
   "id": "7d2c7fc7",
   "metadata": {},
   "outputs": [
    {
     "data": {
      "text/plain": [
       "(values(Ms=114, Mw=18.0, Sigma=0.075, vanHoff=2.0, rhoaero=1778, themean=2e-17, sd=1.7, totmass=1.5e-09),\n",
       " values(Tinit=280.0, Zinit=1000.0, Pinit=90000.0, Sinit=0.995, wvel=0.5))"
      ]
     },
     "execution_count": 13,
     "metadata": {},
     "output_type": "execute_result"
    }
   ],
   "source": [
    "aero, parcel"
   ]
  },
  {
   "cell_type": "markdown",
   "id": "38e3b968-833d-4b91-be14-bb9bc56f8239",
   "metadata": {},
   "source": [
    "### print the koehler coeffs and SScrit\n",
    "\n",
    "Sanity check for a particular aerosol mass"
   ]
  },
  {
   "cell_type": "code",
   "execution_count": 14,
   "id": "12e1d066",
   "metadata": {
    "lines_to_next_cell": 2
   },
   "outputs": [
    {
     "name": "stdout",
     "output_type": "stream",
     "text": [
      "for an aerosol with mass = 1e-18 kg, SScrit,rcrit are  0.00175,    0.441 microns\n"
     ]
    }
   ],
   "source": [
    "a, b = find_koehler_coeffs(aero,parcel)\n",
    "#\n",
    "# sanity check\n",
    "#\n",
    "m=1.e-18 #kg\n",
    "SScrit=(4.*a**3./(27.*b*m))**0.5;\n",
    "rcrit = (3.*m*b/a)**0.5\n",
    "print((f\"for an aerosol with mass = {m} kg, \"\n",
    "       f\"SScrit,rcrit are {SScrit:8.3g}, {rcrit*1.e6:8.3g} microns\"))\n",
    "      "
   ]
  },
  {
   "cell_type": "markdown",
   "id": "c43975f1-9110-45a4-b10c-03bc191480ad",
   "metadata": {},
   "source": [
    "### run the rootfinder for each aerosol\n",
    "\n",
    "Use python's [lambda function](https://realpython.com/python-lambda/) to \n",
    "produce a new koehler_fun that only has radius and mass as arguments"
   ]
  },
  {
   "cell_type": "code",
   "execution_count": 15,
   "id": "b5df4e74",
   "metadata": {
    "lines_to_next_cell": 0
   },
   "outputs": [
    {
     "name": "stdout",
     "output_type": "stream",
     "text": [
      "mass = 1.19e-20 kg\n",
      "bracket1 = 6.19e-07 m\n",
      "bracket2=1.61e-08 m\n",
      "critical supersaturation: 0.0161\n",
      "equlibrium radius at S=0.995 is 0.026 microns\n",
      "\n",
      "mass = 1.63e-20 kg\n",
      "bracket1 = 3.63e-07 m\n",
      "bracket2=2.75e-08 m\n",
      "critical supersaturation: 0.0137\n",
      "equlibrium radius at S=0.995 is 0.030 microns\n",
      "\n",
      "mass = 2.24e-20 kg\n",
      "bracket1 = 3.63e-07 m\n",
      "bracket2=2.75e-08 m\n",
      "critical supersaturation: 0.0117\n",
      "equlibrium radius at S=0.995 is 0.035 microns\n",
      "\n",
      "mass = 3.08e-20 kg\n",
      "bracket1 = 2.49e-07 m\n",
      "bracket2=4.02e-08 m\n",
      "critical supersaturation: 0.00999\n",
      "equlibrium radius at S=0.995 is 0.041 microns\n",
      "\n",
      "mass = 4.23e-20 kg\n",
      "bracket1 = 2.49e-07 m\n",
      "bracket2=4.02e-08 m\n",
      "critical supersaturation: 0.00853\n",
      "equlibrium radius at S=0.995 is 0.047 microns\n",
      "\n",
      "mass = 5.81e-20 kg\n",
      "bracket1 = 1.91e-07 m\n",
      "bracket2=5.25e-08 m\n",
      "critical supersaturation: 0.00727\n",
      "equlibrium radius at S=0.995 is 0.055 microns\n",
      "\n",
      "mass = 7.98e-20 kg\n",
      "bracket1 = 1.58e-07 m\n",
      "bracket2=6.34e-08 m\n",
      "critical supersaturation: 0.00621\n",
      "equlibrium radius at S=0.995 is 0.063 microns\n",
      "\n",
      "mass = 1.1e-19 kg\n",
      "bracket1 = 1.58e-07 m\n",
      "bracket2=6.34e-08 m\n",
      "critical supersaturation: 0.0053\n",
      "equlibrium radius at S=0.995 is 0.073 microns\n",
      "\n",
      "mass = 1.51e-19 kg\n",
      "bracket1 = 1.58e-07 m\n",
      "bracket2=6.34e-08 m\n",
      "critical supersaturation: 0.00452\n",
      "equlibrium radius at S=0.995 is 0.084 microns\n",
      "\n",
      "mass = 2.07e-19 kg\n",
      "bracket1 = 1.58e-07 m\n",
      "bracket2=6.34e-08 m\n",
      "critical supersaturation: 0.00385\n",
      "equlibrium radius at S=0.995 is 0.097 microns\n",
      "\n",
      "mass = 2.84e-19 kg\n",
      "bracket1 = 1.58e-07 m\n",
      "bracket2=6.34e-08 m\n",
      "critical supersaturation: 0.00329\n",
      "equlibrium radius at S=0.995 is 0.111 microns\n",
      "\n",
      "mass = 3.91e-19 kg\n",
      "bracket1 = 1.58e-07 m\n",
      "bracket2=6.34e-08 m\n",
      "critical supersaturation: 0.00281\n",
      "equlibrium radius at S=0.995 is 0.127 microns\n",
      "\n",
      "mass = 5.37e-19 kg\n",
      "bracket1 = 1.58e-07 m\n",
      "bracket2=6.34e-08 m\n",
      "critical supersaturation: 0.00239\n",
      "equlibrium radius at S=0.995 is 0.146 microns\n",
      "\n",
      "mass = 7.37e-19 kg\n",
      "bracket1 = 1.91e-07 m\n",
      "bracket2=5.25e-08 m\n",
      "critical supersaturation: 0.00204\n",
      "equlibrium radius at S=0.995 is 0.166 microns\n",
      "\n",
      "mass = 1.01e-18 kg\n",
      "bracket1 = 1.91e-07 m\n",
      "bracket2=5.25e-08 m\n",
      "critical supersaturation: 0.00174\n",
      "equlibrium radius at S=0.995 is 0.190 microns\n",
      "\n",
      "mass = 1.39e-18 kg\n",
      "bracket1 = 2.49e-07 m\n",
      "bracket2=4.02e-08 m\n",
      "critical supersaturation: 0.00149\n",
      "equlibrium radius at S=0.995 is 0.216 microns\n",
      "\n",
      "mass = 1.91e-18 kg\n",
      "bracket1 = 2.49e-07 m\n",
      "bracket2=4.02e-08 m\n",
      "critical supersaturation: 0.00127\n",
      "equlibrium radius at S=0.995 is 0.245 microns\n",
      "\n",
      "mass = 2.63e-18 kg\n",
      "bracket1 = 3.63e-07 m\n",
      "bracket2=2.75e-08 m\n",
      "critical supersaturation: 0.00108\n",
      "equlibrium radius at S=0.995 is 0.278 microns\n",
      "\n",
      "mass = 3.61e-18 kg\n",
      "bracket1 = 3.63e-07 m\n",
      "bracket2=2.75e-08 m\n",
      "critical supersaturation: 0.000923\n",
      "equlibrium radius at S=0.995 is 0.315 microns\n",
      "\n",
      "mass = 4.96e-18 kg\n",
      "bracket1 = 3.63e-07 m\n",
      "bracket2=2.75e-08 m\n",
      "critical supersaturation: 0.000788\n",
      "equlibrium radius at S=0.995 is 0.356 microns\n",
      "\n",
      "mass = 6.81e-18 kg\n",
      "bracket1 = 6.19e-07 m\n",
      "bracket2=1.61e-08 m\n",
      "critical supersaturation: 0.000672\n",
      "equlibrium radius at S=0.995 is 0.401 microns\n",
      "\n",
      "mass = 9.35e-18 kg\n",
      "bracket1 = 6.19e-07 m\n",
      "bracket2=1.61e-08 m\n",
      "critical supersaturation: 0.000573\n",
      "equlibrium radius at S=0.995 is 0.453 microns\n",
      "\n",
      "mass = 1.28e-17 kg\n",
      "bracket1 = 6.19e-07 m\n",
      "bracket2=1.61e-08 m\n",
      "critical supersaturation: 0.000489\n",
      "equlibrium radius at S=0.995 is 0.510 microns\n",
      "\n",
      "mass = 1.77e-17 kg\n",
      "bracket1 = 6.19e-07 m\n",
      "bracket2=1.61e-08 m\n",
      "critical supersaturation: 0.000417\n",
      "equlibrium radius at S=0.995 is 0.573 microns\n",
      "\n",
      "mass = 2.43e-17 kg\n",
      "bracket1 = 1.32e-06 m\n",
      "bracket2=7.59e-09 m\n",
      "critical supersaturation: 0.000356\n",
      "equlibrium radius at S=0.995 is 0.644 microns\n",
      "\n",
      "mass = 3.33e-17 kg\n",
      "bracket1 = 1.32e-06 m\n",
      "bracket2=7.59e-09 m\n",
      "critical supersaturation: 0.000304\n",
      "equlibrium radius at S=0.995 is 0.723 microns\n",
      "\n",
      "mass = 4.58e-17 kg\n",
      "bracket1 = 1.32e-06 m\n",
      "bracket2=7.59e-09 m\n",
      "critical supersaturation: 0.000259\n",
      "equlibrium radius at S=0.995 is 0.811 microns\n",
      "\n",
      "mass = 6.29e-17 kg\n",
      "bracket1 = 1.32e-06 m\n",
      "bracket2=7.59e-09 m\n",
      "critical supersaturation: 0.000221\n",
      "equlibrium radius at S=0.995 is 0.909 microns\n",
      "\n",
      "mass = 8.64e-17 kg\n",
      "bracket1 = 1.32e-06 m\n",
      "bracket2=7.59e-09 m\n",
      "critical supersaturation: 0.000189\n",
      "equlibrium radius at S=0.995 is 1.018 microns\n",
      "\n"
     ]
    }
   ],
   "source": [
    "koehler_fun = lambda r, m: find_S_full(r, m, aero, parcel)\n",
    "\n",
    "S_target = parcel.Sinit\n",
    "\n",
    "logr_start = np.log(0.1e-6)\n",
    "\n",
    "initial_radius = []\n",
    "for mass in center_mass:\n",
    "    bracket1, bracket2 = find_interval(find_diff,logr_start,S_target,mass)\n",
    "    args = (S_target,mass)\n",
    "    answer = optimize.brentq(find_diff,\n",
    "                             bracket1,\n",
    "                             bracket2,\n",
    "                             args = args)\n",
    "    equil_rad = np.exp(answer)\n",
    "    \n",
    "    Scrit=(4.*a**3./(27.*b*mass))**0.5\n",
    "    \n",
    "    initial_radius.append(equil_rad)\n",
    "    print((f'mass = {mass:6.3g} kg\\n'\n",
    "           f'bracket1 = {np.exp(bracket1):8.3g} m\\n'\n",
    "           f'bracket2={np.exp(bracket2):8.3g} m\\n'\n",
    "           f'critical supersaturation: {Scrit:6.3g}'))\n",
    "    print(f'equlibrium radius at S={S_target} is {equil_rad*1.e6:5.3f} microns\\n')"
   ]
  },
  {
   "cell_type": "markdown",
   "id": "ff8d319e-f6db-42c8-a715-b0f932550d17",
   "metadata": {},
   "source": [
    "## Worksheet problems"
   ]
  },
  {
   "cell_type": "markdown",
   "id": "1a4479f3-bc6d-441a-847f-9652dc926558",
   "metadata": {},
   "source": [
    "### Two plots\n",
    "\n",
    "Produce plots of $n(r)$ and  $mdist(r)$ vs critical radius $r_{crit}$\n",
    "\n",
    "Make sure you include correct units for both x and y axes"
   ]
  },
  {
   "cell_type": "markdown",
   "id": "57b7a302",
   "metadata": {},
   "source": [
    "\n"
   ]
  },
  {
   "cell_type": "code",
   "execution_count": null,
   "id": "d822e1e9-872c-4a0b-87a1-698b958e1fbc",
   "metadata": {},
   "outputs": [],
   "source": []
  }
 ],
 "metadata": {
  "jupytext": {
   "cell_metadata_filter": "-all",
   "formats": "md,ipynb",
   "notebook_metadata_filter": "-all"
  },
  "kernelspec": {
   "display_name": "Python 3 (ipykernel)",
   "language": "python",
   "name": "python3"
  },
  "language_info": {
   "codemirror_mode": {
    "name": "ipython",
    "version": 3
   },
   "file_extension": ".py",
   "mimetype": "text/x-python",
   "name": "python",
   "nbconvert_exporter": "python",
   "pygments_lexer": "ipython3",
   "version": "3.11.7"
  }
 },
 "nbformat": 4,
 "nbformat_minor": 5
}
