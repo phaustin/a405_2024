{
 "cells": [
  {
   "cell_type": "markdown",
   "metadata": {
    "toc": true
   },
   "source": [
    "<h1>Table of Contents<span class=\"tocSkip\"></span></h1>\n",
    "<div class=\"toc\" style=\"margin-top: 1em;\"><ul class=\"toc-item\"><li><span><a href=\"#Tompkins-practice-quesitons\" data-toc-modified-id=\"Tompkins-practice-quesitons-1\"><span class=\"toc-item-num\">1&nbsp;&nbsp;</span>Tompkins practice quesitons</a></span></li></ul></div>"
   ]
  },
  {
   "cell_type": "markdown",
   "metadata": {},
   "source": [
    "# Tompkins practice quesitons"
   ]
  },
  {
   "cell_type": "markdown",
   "metadata": {},
   "source": [
    "1\\.  Buoyancy and stability\n",
    "Questions\n",
    "\n",
    "i)  (3pt) Our by-now familiar air parcel of moist (but non-cloudy)\n",
    "air has a temperature of 24.9 deg C. It is neutrally buoyant sitting in an\n",
    "environment that has a temperature of 25 deg C and a mixing ratio of 10\n",
    "$g kg^{-1}$. What is the mixing ratio in the air parcel?"
   ]
  },
  {
   "cell_type": "code",
   "execution_count": 1,
   "metadata": {},
   "outputs": [],
   "source": [
    "#your code here"
   ]
  },
  {
   "cell_type": "markdown",
   "metadata": {},
   "source": [
    "ii (2pt) the temperature of the air parcel is increased by 1 deg C, so\n",
    "that it is no longer neutrally buoyant. Assuming the resulting\n",
    "acceleration is maintained (i.e. constant) for 10 seconds, what is the\n",
    "final parcel velocity?"
   ]
  },
  {
   "cell_type": "code",
   "execution_count": 2,
   "metadata": {},
   "outputs": [],
   "source": [
    "#your code here"
   ]
  },
  {
   "cell_type": "markdown",
   "metadata": {},
   "source": [
    "iii (2 pt) Dry air at 1000 hPa is measured to have a temperature of\n",
    "27oC, while at 900 hPa the temperature is 22 deg C, is this layer of the\n",
    "atmosphere dry stable, neutral or unstable?"
   ]
  },
  {
   "cell_type": "code",
   "execution_count": 4,
   "metadata": {},
   "outputs": [],
   "source": [
    "#your code here"
   ]
  },
  {
   "cell_type": "markdown",
   "metadata": {},
   "source": [
    "2\\. Fog\n",
    "\n",
    "In this question, for simplicity, assume the definition of relative humidity \n",
    "defined in terms of mixing ratio: RH = $r_v/r_{vsat}$\n",
    "\n",
    "i (2pt) The environmental air with temperature of 25.0 deg C and a mixing\n",
    "ratio of 10 $g kg^{-1}$ is located near the surface at a pressure of\n",
    "1000hPa. What is the relative humidity?\n",
    "\n",
    " ii (1pt) The air starts to cool isobarically at night until even-\n",
    " tually a fog forms. Assuming the pressure is 1000 hPa. What is the\n",
    " temperature at which the fogs occurs? (Use the tephigram to answer\n",
    " this, please mark the answer on the tephigram)\n",
    "\n",
    "iii (2pt) Derive this same temperature by inverting Teton’s formula,\n",
    "showing your working. (Out of interest note how close the answer is to\n",
    "your tephigram result).\n",
    "\n",
    "iv (1pt) What is the common name given to this temperature?"
   ]
  },
  {
   "cell_type": "code",
   "execution_count": 3,
   "metadata": {},
   "outputs": [],
   "source": [
    "# your code here"
   ]
  },
  {
   "cell_type": "markdown",
   "metadata": {
    "collapsed": true
   },
   "source": [
    "3\\.  Relative humidity\n",
    "\n",
    "In this question, for simplicity, assume the definition of relative\n",
    "humidity defined in terms of mixing ratio.\n",
    "\n",
    "i (2pt) A parcel of air at time t=0 has a temperature T0 of 25 deg C and a\n",
    "relative humidity RH of 0.1. What is the mixing ratio $r_{v0}$?\n",
    "\n",
    "ii (4pt) The parcel is cooled and moistened isobarically by the evaporation of precipitation to reach a final temperature \n",
    "of $T_1$ and a final mixing ratio of $r_{v1}$.  Use a rootfinder to solve for $T_1$ if the relative humidity is RH=0.6."
   ]
  },
  {
   "cell_type": "code",
   "execution_count": 5,
   "metadata": {},
   "outputs": [],
   "source": [
    "#your code here"
   ]
  },
  {
   "cell_type": "code",
   "execution_count": null,
   "metadata": {
    "collapsed": true
   },
   "outputs": [],
   "source": []
  }
 ],
 "metadata": {
  "kernelspec": {
   "display_name": "Python 3",
   "language": "python",
   "name": "python3"
  },
  "language_info": {
   "codemirror_mode": {
    "name": "ipython",
    "version": 3
   },
   "file_extension": ".py",
   "mimetype": "text/x-python",
   "name": "python",
   "nbconvert_exporter": "python",
   "pygments_lexer": "ipython3",
   "version": "3.6.4"
  },
  "toc": {
   "nav_menu": {},
   "number_sections": true,
   "sideBar": false,
   "skip_h1_title": false,
   "toc_cell": true,
   "toc_position": {},
   "toc_section_display": "block",
   "toc_window_display": false
  }
 },
 "nbformat": 4,
 "nbformat_minor": 1
}
